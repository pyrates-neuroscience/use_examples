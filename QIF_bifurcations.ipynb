{
 "cells": [
  {
   "cell_type": "code",
   "execution_count": 1,
   "id": "1b31f67c",
   "metadata": {},
   "outputs": [],
   "source": [
    "from pyrates import CircuitTemplate\n",
    "from pycobi import ODESystem\n",
    "import numpy as np\n",
    "import matplotlib.pyplot as plt\n",
    "%matplotlib inline\n",
    "\n",
    "# change to False, if you are not using dark mode\n",
    "dark_mode = True\n",
    "\n",
    "# adapts matplotlib color settings to work with dark mode\n",
    "if dark_mode:\n",
    "    plt.rcParams['text.color'] = 'white'\n",
    "    plt.rcParams['axes.labelcolor'] = 'white' \n",
    "    plt.rcParams['xtick.color'] = 'white'\n",
    "    plt.rcParams['ytick.color'] = 'white'\n",
    "    plt.rcParams['legend.facecolor'] = 'black'"
   ]
  },
  {
   "cell_type": "markdown",
   "id": "099fdf65",
   "metadata": {},
   "source": [
    "- equations of QIF neuron and QIF mean-field model with SFA\n",
    "- parameter continuation for QIF mean-field model with low SFA\n",
    "- Fold curve continuation in 2D parameter space\n",
    "- parameter continuation for QIF mean-field model with high SFA\n",
    "- Limit cycle continuation\n",
    "- Hopf curve continuation in 2D parameter space\n",
    "- example simulations"
   ]
  },
  {
   "cell_type": "markdown",
   "id": "6c477815",
   "metadata": {},
   "source": [
    "# Numerical Bifurcation Analysis\n",
    "\n",
    "<br/>\n",
    "\n",
    "In this notebook, you will apply methods such as numerical parameter continuation and automated bifurcation analysis via a high-level interface to Auto-07p.\n",
    "We will continue to work with the Izhikevich neuron as an example model, but study bifurcations at the network level, rather than the single-neuron level.\n",
    "\n",
    "<br/>\n",
    "\n",
    "## Mean-field equations for Spiking Neural Networks\n",
    "\n",
    "<br/>\n",
    "\n",
    "In the previous notebook, we studied networks of coupled spiking neurons.\n",
    "Due to the discontinuity around the spike (due to the resetting mechanism), we cannot study these networks via tools from bifurcation analysis.\n",
    "\n",
    "This is why, in this part, we study mean-field equations of the network dynamics instead.\n",
    "We have learned already that network-wide quantities such as the average membrane potential are the crucial information carrying variables when it comes to the dynamic state that the entire network is in.\n",
    "Mean-field equations provide the means to study these network-wide quantities directly.\n",
    "They are continous-valued models that have been derived from the spiking neural network equations.\n",
    "This relationship is depicted below:\n",
    "\n",
    "<img src=\"img/neco_micro_macro.png\" width=\"800\">\n",
    "\n",
    "The particular set of mean-field equations for networks of coupled Izhikevich neurons that we will study is provided below:\n",
    "\n",
    "$$ C \\dot{r} = \\frac{\\Delta_v k^2 \\sigma_v}{\\pi C} (v-v_r) + r[k(2 v - v_r - \\bar v_{\\theta}) - g s],$$\n",
    "$$ C \\dot{v} = k v(v -v_r-\\bar v_{\\theta}) - \\pi C r(\\Delta_v \\sigma_v + \\frac{\\pi C}{k} r) + k v_r \\bar v_{\\theta} - u + I  + g s (E-v), $$\n",
    "$$ \\tau_u \\dot{u} = b(v-v_r) - u + \\tau_u \\kappa r, $$\n",
    "$$ \\tau_s \\dot{s} = -s + \\tau_s J r. $$\n",
    "\n",
    "For more information on how these mean-field equations can be derived from the network equations of coupled Izhikevich neurons, see [this paper](https://journals.aps.org/pre/abstract/10.1103/PhysRevE.107.024306).\n",
    "Importantly, these four coupled differential equations approximatively capture the dynamics of the average firing rate $r$, the average membrane potential $v$, the average recovery variable $u$, and the global synaptic input $s$ of an Izhikevich neural network with distributed spike thresholds $v_t$.\n",
    "\n",
    "It is this set of equations and its parameter dependencies that we will study via bifurcation analysis below."
   ]
  },
  {
   "cell_type": "markdown",
   "id": "5c097b10",
   "metadata": {},
   "source": [
    "## Parameter Continuations via PyCoBi\n",
    "\n",
    "To study how the equilibrium structure of the mean-field equations changes as a function of one of its parameter, we can use [numerical continuation](https://en.wikipedia.org/wiki/Numerical_continuation).\n",
    "\n",
    "<br/>\n",
    "\n",
    "However, as a first step, we have to find a stable solution of the system dynamics.\n",
    "Every numerical continuation algorithm requires a stable solution for a particular choice of the parameter.\n",
    "Based on this initial solution, the algorithm can then detect how small changes in the parameter translate to changes in the stable solution.\n",
    "\n",
    "<br/>\n",
    "\n",
    "Let's find such a solution via a numerical simulation for a particular parameter set of our mean-field equations.\n",
    "To this end, we use the pre-implemented mean-field equations in the dynamical systems modeling tool [PyRates](https://github.com/pyrates-neuroscience/PyRates).\n",
    "\n",
    "<br/>\n",
    "\n",
    "Let's run the cell below to perform the simulation and observe whether the model converged to a stable solution."
   ]
  },
  {
   "cell_type": "code",
   "execution_count": 8,
   "id": "ed17e726",
   "metadata": {},
   "outputs": [
    {
     "name": "stdout",
     "output_type": "stream",
     "text": [
      "Compilation Progress\n",
      "--------------------\n",
      "\t(1) Translating the circuit template into a networkx graph representation...\n",
      "\t\t...finished.\n",
      "\t(2) Preprocessing edge transmission operations...\n",
      "\t\t...finished.\n",
      "\t(3) Parsing the model equations into a compute graph...\n",
      "\t\t...finished.\n",
      "\tModel compilation was finished.\n",
      "Simulation Progress\n",
      "-------------------\n",
      "\t (1) Generating the network run function...\n",
      "\t (2) Processing output variables...\n",
      "\t\t...finished.\n",
      "\t (3) Running the simulation...\n",
      "\t\t...finished after 2.3141656999999896s.\n"
     ]
    }
   ],
   "source": [
    "from pyrates import CircuitTemplate\n",
    "\n",
    "# initialize mean-field model\n",
    "ik_mf = CircuitTemplate.from_yaml(\"model_templates.neural_mass_models.ik.ik_theta\")\n",
    "\n",
    "# set the initial value of all model parameters\n",
    "mf_params = {\"C\": 100.0, \"k\": 0.7, \"v_r\": -60.0, \"v_t\": -40.0, \"b\": -2.0, \"g\": 15.0,\n",
    "             \"a\": 0.03, \"d\": 100.0, \"tau_s\": 6.0, \"E_r\": 0.0, \"eta\": 70.0}\n",
    "ik_mf.update_var(node_vars={f\"p/ik_theta_op/{key}\": val for key, val in mf_params.items()})\n",
    "\n",
    "# define simulation parameters (time unit: ms)\n",
    "T = 1000.0\n",
    "dt = 1e-2\n",
    "sr = 100\n",
    "\n",
    "# perform mean-field simulation\n",
    "res = ik_mf.run(simulation_time=T, step_size=dt, sampling_step_size=int(dt*sr), \n",
    "                outputs={\"v\": \"p/ik_theta_op/v\", \"r\": \"p/ik_theta_op/r\"}, \n",
    "                in_place=False)"
   ]
  },
  {
   "cell_type": "code",
   "execution_count": 9,
   "id": "99000eff",
   "metadata": {},
   "outputs": [
    {
     "data": {
      "image/png": "[encoded data removed]",
      "text/plain": [
       "<Figure size 864x360 with 2 Axes>"
      ]
     },
     "metadata": {
      "needs_background": "dark"
     },
     "output_type": "display_data"
    }
   ],
   "source": [
    "# plot results\n",
    "_, axes = plt.subplots(nrows=2, figsize=(12, 5))\n",
    "ax = axes[0]\n",
    "ax.plot(res[\"v\"])\n",
    "ax.set_xlabel(\"time (ms)\")\n",
    "ax.set_ylabel(\"v (mV)\")\n",
    "ax.set_title(\"Average membrane potential dynamics\")\n",
    "ax = axes[1]\n",
    "ax.plot(res[\"r\"]*1e3, color=\"orange\")\n",
    "ax.set_xlabel(\"time (ms)\")\n",
    "ax.set_ylabel(\"r (1/s)\")\n",
    "ax.set_title(\"Average firing rate dynamics\")\n",
    "plt.tight_layout()"
   ]
  },
  {
   "cell_type": "markdown",
   "id": "e1836a42",
   "metadata": {},
   "source": [
    "As we can see from the dynamics in the two state variables $v$ and $r$, the model seems to have converged to a stable state after initial fluctuations.\n",
    "We can thus use the value of the state variables at the end of this simulation for parameter continuations.\n",
    "\n",
    "<br/>\n",
    "\n",
    "To perform parameter continuations as well as automated bifurcation analysis, we will use the software [PyCoBi](https://github.com/pyrates-neuroscience/PyCoBi), which is a Python wrapper to the Fortran software [Auto-07p](https://github.com/auto-07p/auto-07p). \n",
    "We can create a simple instance of the main PyCoBi class for parameter continuations and bifurcation analysis via the following line:"
   ]
  },
  {
   "cell_type": "code",
   "execution_count": null,
   "id": "203ae57b",
   "metadata": {},
   "outputs": [],
   "source": [
    "cont = ODESystem(working_dir=None, auto_dir=auto_dir, init_cont=False)"
   ]
  },
  {
   "cell_type": "markdown",
   "id": "119ccaaf",
   "metadata": {},
   "source": [
    "To run parameter continuations, PyCoBi will require user-supplied Fortran files that contain the model equations, parameters, and meta parameters for Auto-07p.\n",
    "Don't worry, you wont have to write Fortran code yourself.\n",
    "\n",
    "<br/>\n",
    "\n",
    "PyRates provides a simple function call, which creates all necessary Fortran user files and writes them to a file in your working directory.\n",
    "It will automatically use the lates values of all state variables and model parameters and thus make use of the stable state solution we just found. "
   ]
  },
  {
   "cell_type": "code",
   "execution_count": null,
   "id": "e5bef48e",
   "metadata": {},
   "outputs": [],
   "source": [
    "ik_mf.get_run_func(func_name='ik_rhs', file_name='ik', step_size=dt, auto=True, \n",
    "                   backend='fortran', solver='scipy', vectorize=False, \n",
    "                   float_precision='float64')"
   ]
  },
  {
   "cell_type": "markdown",
   "id": "c4b50a97",
   "metadata": {},
   "source": [
    "Let's have a look at the file that was created. We will need to know the positions of state variables and parameters in their respective vectors:"
   ]
  },
  {
   "cell_type": "code",
   "execution_count": 12,
   "id": "0a35fdf8",
   "metadata": {},
   "outputs": [
    {
     "name": "stdout",
     "output_type": "stream",
     "text": [
      "\n",
      "module ik\n",
      "\n",
      "double precision :: PI = 4.0*atan(1.0)\n",
      "\n",
      "contains\n",
      "\n",
      "\n",
      "subroutine ik_rhs(t,y,dy,v_t,v_r,k,g,Delta,C,E_r,I_ext,eta,b,a,d,tau_s)\n",
      "\n",
      "implicit none\n",
      "\n",
      "double precision, intent(in) :: t\n",
      "double precision, intent(in) :: y(4)\n",
      "double precision :: r\n",
      "double precision :: v\n",
      "double precision :: u\n",
      "double precision :: s\n",
      "double precision :: r_in\n",
      "double precision, intent(inout) :: dy(4)\n",
      "double precision, intent(in) :: v_t\n",
      "double precision, intent(in) :: v_r\n",
      "double precision, intent(in) :: k\n",
      "double precision, intent(in) :: g\n",
      "double precision, intent(in) :: Delta\n",
      "double precision, intent(in) :: C\n",
      "double precision, intent(in) :: E_r\n",
      "double precision, intent(in) :: I_ext\n",
      "double precision, intent(in) :: eta\n",
      "double precision, intent(in) :: b\n",
      "double precision, intent(in) :: a\n",
      "double precision, intent(in) :: d\n",
      "double precision, intent(in) :: tau_s\n",
      "\n",
      "\n",
      "r = y(1)\n",
      "v = y(2)\n",
      "u = y(3)\n",
      "s = y(4)\n",
      "r_in = r\n",
      "\n",
      "dy(1) = (r*(-g*s + k*(2.0*v - v_r - v_t)) + Delta*k**2*(v - v_r)&\n",
      "     & /(pi*C))/C\n",
      "dy(2) = (-pi*C*r*(pi*C*r/k &\n",
      "     & + Delta) + I_ext + eta + g*s*(E_r &\n",
      "     & - v) + k*v*(v - v_r - v_t) + k*v_r*v_t - u)/C\n",
      "dy(3) = a*(b*(v - v_r) - u) + d*r\n",
      "dy(4) = r_in - s/tau_s\n",
      "\n",
      "end subroutine\n",
      "\n",
      "\n",
      "end module\n",
      "\n",
      "\n",
      "subroutine func(ndim,y,icp,args,ijac,dy,dfdu,dfdp)\n",
      "\n",
      "use ik\n",
      "implicit none\n",
      "integer, intent(in) :: ndim, icp(*), ijac\n",
      "double precision, intent(in) :: y(ndim), args(*)\n",
      "double precision, intent(out) :: dy(ndim)\n",
      "double precision, intent(inout) :: dfdu(ndim,ndim), dfdp(ndim,*)\n",
      "\n",
      "call ik_rhs(args(14), y, dy, args(1), args(2), args(3), args(4), &\n",
      "     & args(5), args(6), args(7), args(8), args(9), args(15), args(16),&\n",
      "     &  args(17), args(18))\n",
      "\n",
      "end subroutine func\n",
      "\n",
      "\n",
      "subroutine stpnt(ndim, y, args, t)\n",
      "\n",
      "implicit None\n",
      "integer, intent(in) :: ndim\n",
      "double precision, intent(inout) :: y(ndim), args(*)\n",
      "double precision, intent(in) :: t\n",
      "\n",
      "args(1) = -40.0  ! v_t\n",
      "args(2) = -60.0  ! v_r\n",
      "args(3) = 0.7  ! k\n",
      "args(4) = 15.0  ! g\n",
      "args(5) = 0.02  ! Delta\n",
      "args(6) = 100.0  ! C\n",
      "args(7) = 0.0  ! E_r\n",
      "args(8) = 0.0  ! I_ext\n",
      "args(9) = 70.0  ! eta\n",
      "args(15) = -2.0  ! b\n",
      "args(16) = 0.03  ! a\n",
      "args(17) = 100.0  ! d\n",
      "args(18) = 6.0  ! tau_s\n",
      "y(1) = 0.0  ! r\n",
      "y(2) = -60.0  ! v\n",
      "y(3) = 0.0  ! u\n",
      "y(4) = 0.0  ! s\n",
      "\n",
      "end subroutine stpnt\n",
      "\n",
      "\n",
      "\n",
      "subroutine bcnd\n",
      "end subroutine bcnd\n",
      "\n",
      "\n",
      "subroutine icnd\n",
      "end subroutine icnd\n",
      "\n",
      "\n",
      "subroutine fopt\n",
      "end subroutine fopt\n",
      "\n",
      "\n",
      "subroutine pvls\n",
      "end subroutine pvls\n",
      "\n"
     ]
    }
   ],
   "source": [
    "f = open('ik.f90', 'r')\n",
    "print('')\n",
    "print(f.read())"
   ]
  },
  {
   "cell_type": "markdown",
   "id": "efc56233",
   "metadata": {},
   "source": [
    "Now we are ready to run parameter continuations via PyCoBi.\n",
    "\n",
    "<br/>\n",
    "\n",
    "### (I) Continuation of a known steady-state solution in one parameter\n",
    "\n",
    "<br/>\n",
    "\n",
    "As a first example, we will continue the solution that we obtained above in the parameter $\\eta$, which can be viewed as a background input.\n",
    "In order to r"
   ]
  }
 ],
 "metadata": {
  "kernelspec": {
   "display_name": "Python 3 (ipykernel)",
   "language": "python",
   "name": "python3"
  },
  "language_info": {
   "codemirror_mode": {
    "name": "ipython",
    "version": 3
   },
   "file_extension": ".py",
   "mimetype": "text/x-python",
   "name": "python",
   "nbconvert_exporter": "python",
   "pygments_lexer": "ipython3",
   "version": "3.9.7"
  }
 },
 "nbformat": 4,
 "nbformat_minor": 5
}
