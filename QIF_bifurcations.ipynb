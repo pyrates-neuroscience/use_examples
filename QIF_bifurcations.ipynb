{
 "cells": [
  {
   "cell_type": "code",
   "execution_count": 2,
   "id": "d7702b54",
   "metadata": {},
   "outputs": [],
   "source": [
    "import numpy as np\n",
    "import matplotlib.pyplot as plt\n",
    "%matplotlib inline\n",
    "\n",
    "# change to False, if you are not using dark mode\n",
    "dark_mode = False\n",
    "\n",
    "# adapts matplotlib color settings to work with dark mode\n",
    "\n",
    "if dark_mode:\n",
    "    text_color = \"white\"\n",
    "    face_color = \"black\"\n",
    "else:\n",
    "    text_color = \"black\"\n",
    "    face_color = \"grey\"\n",
    "plt.rcParams['text.color'] = text_color\n",
    "plt.rcParams['axes.labelcolor'] = text_color \n",
    "plt.rcParams['xtick.color'] = text_color\n",
    "plt.rcParams['ytick.color'] = text_color\n",
    "plt.rcParams['legend.facecolor'] = face_color"
   ]
  },
  {
   "cell_type": "markdown",
   "id": "c2f33b00",
   "metadata": {},
   "source": [
    "- equations of QIF neuron and QIF mean-field model with SFA\n",
    "- parameter continuation for QIF mean-field model with low SFA\n",
    "- Fold curve continuation in 2D parameter space\n",
    "- parameter continuation for QIF mean-field model with high SFA\n",
    "- Limit cycle continuation\n",
    "- Hopf curve continuation in 2D parameter space\n",
    "- example simulations"
   ]
  },
  {
   "cell_type": "markdown",
   "id": "e218da98",
   "metadata": {},
   "source": [
    "# Numerical Bifurcation Analysis\n",
    "\n",
    "<br/>\n",
    "\n",
    "In this notebook, you will apply methods such as numerical parameter continuation and automated bifurcation analysis via a high-level interface to Auto-07p.\n",
    "We will continue to work with the Izhikevich neuron as an example model, but study bifurcations at the network level, rather than the single-neuron level.\n",
    "\n",
    "<br/>\n",
    "\n",
    "## Mean-field equations for Spiking Neural Networks\n",
    "\n",
    "<br/>\n",
    "\n",
    "In the previous notebook, we studied networks of coupled spiking neurons.\n",
    "Due to the discontinuity around the spike (due to the resetting mechanism), we cannot study these networks via tools from bifurcation analysis.\n",
    "\n",
    "This is why, in this part, we study mean-field equations of the network dynamics instead.\n",
    "We have learned already that network-wide quantities such as the average membrane potential are the crucial information carrying variables when it comes to the dynamic state that the entire network is in.\n",
    "Mean-field equations provide the means to study these network-wide quantities directly.\n",
    "They are continous-valued models that have been derived from the spiking neural network equations.\n",
    "This relationship is depicted below:\n",
    "\n",
    "<img src=\"img/neco_micro_macro.png\" width=\"800\">\n",
    "\n",
    "The particular set of mean-field equations for networks of coupled Izhikevich neurons that we will study is provided below:\n",
    "\n",
    "$$ C \\dot{r} = \\frac{\\Delta_v k^2 \\sigma_v}{\\pi C} (v-v_r) + r[k(2 v - v_r - \\bar v_{\\theta}) - g s],$$\n",
    "$$ C \\dot{v} = k v(v -v_r-\\bar v_{\\theta}) - \\pi C r(\\Delta_v \\sigma_v + \\frac{\\pi C}{k} r) + k v_r \\bar v_{\\theta} - u + I  + g s (E-v), $$\n",
    "$$ \\tau_u \\dot{u} = b(v-v_r) - u + \\tau_u \\kappa r, $$\n",
    "$$ \\tau_s \\dot{s} = -s + \\tau_s J r. $$\n",
    "\n",
    "For more information on how these mean-field equations can be derived from the network equations of coupled Izhikevich neurons, see [this paper](https://journals.aps.org/pre/abstract/10.1103/PhysRevE.107.024306).\n",
    "Importantly, these four coupled differential equations approximatively capture the dynamics of the average firing rate $r$, the average membrane potential $v$, the average recovery variable $u$, and the global synaptic input $s$ of an Izhikevich neural network with distributed spike thresholds $v_t$.\n",
    "\n",
    "It is this set of equations and its parameter dependencies that we will study via bifurcation analysis below."
   ]
  },
  {
   "cell_type": "markdown",
   "id": "f13cae98",
   "metadata": {},
   "source": [
    "## Parameter Continuations via PyCoBi\n",
    "\n",
    "To study how the equilibrium structure of the mean-field equations changes as a function of one of its parameter, we can use [numerical continuation](https://en.wikipedia.org/wiki/Numerical_continuation).\n",
    "\n",
    "<br/>\n",
    "\n",
    "However, as a first step, we have to find a stable solution of the system dynamics.\n",
    "Every numerical continuation algorithm requires a stable solution for a particular choice of the parameter.\n",
    "Based on this initial solution, the algorithm can then detect how small changes in the parameter translate to changes in the stable solution.\n",
    "\n",
    "<br/>\n",
    "\n",
    "Let's find such a solution via a numerical simulation for a particular parameter set of our mean-field equations.\n",
    "To this end, we use the pre-implemented mean-field equations in the dynamical systems modeling tool [PyRates](https://github.com/pyrates-neuroscience/PyRates).\n",
    "\n",
    "<br/>\n",
    "\n",
    "Let's run the cell below to perform the simulation and observe whether the model converged to a stable solution."
   ]
  },
  {
   "cell_type": "code",
   "execution_count": 3,
   "id": "c0452cea",
   "metadata": {},
   "outputs": [
    {
     "name": "stdout",
     "output_type": "stream",
     "text": [
      "Compilation Progress\n",
      "--------------------\n",
      "\t(1) Translating the circuit template into a networkx graph representation...\n",
      "\t\t...finished.\n",
      "\t(2) Preprocessing edge transmission operations...\n",
      "\t\t...finished.\n",
      "\t(3) Parsing the model equations into a compute graph...\n",
      "\t\t...finished.\n",
      "\tModel compilation was finished.\n",
      "Simulation Progress\n",
      "-------------------\n",
      "\t (1) Generating the network run function...\n",
      "\t (2) Processing output variables...\n",
      "\t\t...finished.\n",
      "\t (3) Running the simulation...\n",
      "\t\t...finished after 1.5232537489996503s.\n"
     ]
    }
   ],
   "source": [
    "from pyrates import CircuitTemplate\n",
    "\n",
    "# initialize mean-field model\n",
    "ik_mf = CircuitTemplate.from_yaml(\"model_templates.neural_mass_models.ik.ik_theta\")\n",
    "\n",
    "# set the initial value of all model parameters\n",
    "mf_params = {\"C\": 100.0, \"k\": 0.7, \"v_r\": -60.0, \"v_t\": -40.0, \"b\": -2.0, \"g\": 15.0,\n",
    "             \"a\": 0.03, \"d\": 100.0, \"tau_s\": 6.0, \"E_r\": 0.0, \"eta\": 70.0}\n",
    "ik_mf.update_var(node_vars={f\"p/ik_theta_op/{key}\": val for key, val in mf_params.items()})\n",
    "\n",
    "# define simulation parameters (time unit: ms)\n",
    "T = 1000.0\n",
    "dt = 1e-2\n",
    "sr = 100\n",
    "\n",
    "# perform mean-field simulation\n",
    "res = ik_mf.run(simulation_time=T, step_size=dt, sampling_step_size=int(dt*sr), \n",
    "                outputs={\"v\": \"p/ik_theta_op/v\", \"r\": \"p/ik_theta_op/r\"}, \n",
    "                in_place=False)"
   ]
  },
  {
   "cell_type": "code",
   "execution_count": 4,
   "id": "7acf7533",
   "metadata": {},
   "outputs": [
    {
     "data": {
      "image/png": "[encoded data removed]",
      "text/plain": [
       "<Figure size 1200x500 with 2 Axes>"
      ]
     },
     "metadata": {},
     "output_type": "display_data"
    }
   ],
   "source": [
    "# plot results\n",
    "_, axes = plt.subplots(nrows=2, figsize=(12, 5))\n",
    "ax = axes[0]\n",
    "ax.plot(res[\"v\"])\n",
    "ax.set_xlabel(\"time (ms)\")\n",
    "ax.set_ylabel(\"v (mV)\")\n",
    "ax.set_title(\"Average membrane potential dynamics\")\n",
    "ax = axes[1]\n",
    "ax.plot(res[\"r\"]*1e3, color=\"orange\")\n",
    "ax.set_xlabel(\"time (ms)\")\n",
    "ax.set_ylabel(\"r (1/s)\")\n",
    "ax.set_title(\"Average firing rate dynamics\")\n",
    "plt.tight_layout()"
   ]
  },
  {
   "cell_type": "markdown",
   "id": "11e8b373",
   "metadata": {},
   "source": [
    "As we can see from the dynamics in the two state variables $v$ and $r$, the model seems to have converged to a stable state after initial fluctuations.\n",
    "We can thus use the value of the state variables at the end of this simulation for parameter continuations.\n",
    "\n",
    "<br/>\n",
    "\n",
    "To perform parameter continuations as well as automated bifurcation analysis, we will use the software [PyCoBi](https://github.com/pyrates-neuroscience/PyCoBi), which is a Python wrapper to the Fortran software [Auto-07p](https://github.com/auto-07p/auto-07p). \n",
    "We can create a simple instance of the main PyCoBi class for parameter continuations and bifurcation analysis via the following line:"
   ]
  },
  {
   "cell_type": "code",
   "execution_count": 5,
   "id": "64b74789",
   "metadata": {},
   "outputs": [],
   "source": [
    "from pycobi import ODESystem\n",
    "\n",
    "cont = ODESystem(working_dir=None, auto_dir=\"~/PycharmProjects/auto-07p\", init_cont=False)"
   ]
  },
  {
   "cell_type": "markdown",
   "id": "521410b3",
   "metadata": {},
   "source": [
    "To run parameter continuations, PyCoBi will require user-supplied Fortran files that contain the model equations, parameters, and meta parameters for Auto-07p.\n",
    "Don't worry, you wont have to write Fortran code yourself.\n",
    "\n",
    "<br/>\n",
    "\n",
    "PyRates provides a simple function call, which creates all necessary Fortran user files and writes them to a file in your working directory.\n",
    "It will automatically use the lates values of all state variables and model parameters and thus make use of the stable state solution we just found. "
   ]
  },
  {
   "cell_type": "code",
   "execution_count": 6,
   "id": "0c946f78",
   "metadata": {},
   "outputs": [
    {
     "name": "stdout",
     "output_type": "stream",
     "text": [
      "Compilation Progress\n",
      "--------------------\n",
      "\t(1) Translating the circuit template into a networkx graph representation...\n",
      "\t\t...finished.\n",
      "\t(2) Preprocessing edge transmission operations...\n",
      "\t\t...finished.\n",
      "\t(3) Parsing the model equations into a compute graph...\n",
      "\t\t...finished.\n",
      "\tModel compilation was finished.\n"
     ]
    },
    {
     "data": {
      "text/plain": [
       "(<fortran function ik_rhs>,\n",
       " (array(0.),\n",
       "  array([  0., -60.,   0.,   0.]),\n",
       "  array([0., 0., 0., 0.]),\n",
       "  array(-40.),\n",
       "  array(-60.),\n",
       "  array(0.7),\n",
       "  array(15.),\n",
       "  array(0.02),\n",
       "  array(100.),\n",
       "  array(0.),\n",
       "  array(0.),\n",
       "  array(70.),\n",
       "  array(-2.),\n",
       "  array(0.03),\n",
       "  array(100.),\n",
       "  array(6.)),\n",
       " ('t',\n",
       "  'y',\n",
       "  'dy',\n",
       "  'p/ik_theta_op/v_t',\n",
       "  'p/ik_theta_op/v_r',\n",
       "  'p/ik_theta_op/k',\n",
       "  'p/ik_theta_op/g',\n",
       "  'p/ik_theta_op/Delta',\n",
       "  'p/ik_theta_op/C',\n",
       "  'p/ik_theta_op/E_r',\n",
       "  'p/ik_theta_op/I_ext',\n",
       "  'p/ik_theta_op/eta',\n",
       "  'p/ik_theta_op/b',\n",
       "  'p/ik_theta_op/a',\n",
       "  'p/ik_theta_op/d',\n",
       "  'p/ik_theta_op/tau_s'),\n",
       " {'p/ik_theta_op/r': 0,\n",
       "  'p/ik_theta_op/v': 1,\n",
       "  'p/ik_theta_op/u': 2,\n",
       "  'p/ik_theta_op/s': 3})"
      ]
     },
     "execution_count": 6,
     "metadata": {},
     "output_type": "execute_result"
    }
   ],
   "source": [
    "ik_mf.get_run_func(func_name='ik_rhs', file_name='ik', step_size=dt, auto=True, \n",
    "                   backend='fortran', solver='scipy', vectorize=False, \n",
    "                   float_precision='float64')"
   ]
  },
  {
   "cell_type": "markdown",
   "id": "4fa15a14",
   "metadata": {},
   "source": [
    "Let's have a look at the file that was created. We will need to know the positions of state variables and parameters in their respective vectors:"
   ]
  },
  {
   "cell_type": "code",
   "execution_count": 7,
   "id": "86ca0cd7",
   "metadata": {},
   "outputs": [
    {
     "name": "stdout",
     "output_type": "stream",
     "text": [
      "\n",
      "module ik\n",
      "\n",
      "double precision :: PI = 4.0*atan(1.0)\n",
      "\n",
      "contains\n",
      "\n",
      "\n",
      "subroutine ik_rhs(t,y,dy,v_t,v_r,k,g,Delta,C,E_r,I_ext,eta,b,a,d,tau_s)\n",
      "\n",
      "implicit none\n",
      "\n",
      "double precision, intent(in) :: t\n",
      "double precision, intent(in) :: y(4)\n",
      "double precision :: r\n",
      "double precision :: v\n",
      "double precision :: u\n",
      "double precision :: s\n",
      "double precision :: r_in\n",
      "double precision, intent(inout) :: dy(4)\n",
      "double precision, intent(in) :: v_t\n",
      "double precision, intent(in) :: v_r\n",
      "double precision, intent(in) :: k\n",
      "double precision, intent(in) :: g\n",
      "double precision, intent(in) :: Delta\n",
      "double precision, intent(in) :: C\n",
      "double precision, intent(in) :: E_r\n",
      "double precision, intent(in) :: I_ext\n",
      "double precision, intent(in) :: eta\n",
      "double precision, intent(in) :: b\n",
      "double precision, intent(in) :: a\n",
      "double precision, intent(in) :: d\n",
      "double precision, intent(in) :: tau_s\n",
      "\n",
      "\n",
      "r = y(1)\n",
      "v = y(2)\n",
      "u = y(3)\n",
      "s = y(4)\n",
      "r_in = r\n",
      "\n",
      "dy(1) = (r*(-g*s + k*(2.0*v - v_r - v_t)) + Delta*k**2*(v - v_r)&\n",
      "     & /(pi*C))/C\n",
      "dy(2) = (-pi*C*r*(pi*C*r/k &\n",
      "     & + Delta) + I_ext + eta + g*s*(E_r &\n",
      "     & - v) + k*v*(v - v_r - v_t) + k*v_r*v_t - u)/C\n",
      "dy(3) = a*(b*(v - v_r) - u) + d*r\n",
      "dy(4) = r_in - s/tau_s\n",
      "\n",
      "end subroutine\n",
      "\n",
      "\n",
      "end module\n",
      "\n",
      "\n",
      "subroutine func(ndim,y,icp,args,ijac,dy,dfdu,dfdp)\n",
      "\n",
      "use ik\n",
      "implicit none\n",
      "integer, intent(in) :: ndim, icp(*), ijac\n",
      "double precision, intent(in) :: y(ndim), args(*)\n",
      "double precision, intent(out) :: dy(ndim)\n",
      "double precision, intent(inout) :: dfdu(ndim,ndim), dfdp(ndim,*)\n",
      "\n",
      "call ik_rhs(args(14), y, dy, args(1), args(2), args(3), args(4), &\n",
      "     & args(5), args(6), args(7), args(8), args(9), args(15), args(16),&\n",
      "     &  args(17), args(18))\n",
      "\n",
      "end subroutine func\n",
      "\n",
      "\n",
      "subroutine stpnt(ndim, y, args, t)\n",
      "\n",
      "implicit None\n",
      "integer, intent(in) :: ndim\n",
      "double precision, intent(inout) :: y(ndim), args(*)\n",
      "double precision, intent(in) :: t\n",
      "\n",
      "args(1) = -40.0  ! v_t\n",
      "args(2) = -60.0  ! v_r\n",
      "args(3) = 0.7  ! k\n",
      "args(4) = 15.0  ! g\n",
      "args(5) = 0.02  ! Delta\n",
      "args(6) = 100.0  ! C\n",
      "args(7) = 0.0  ! E_r\n",
      "args(8) = 0.0  ! I_ext\n",
      "args(9) = 70.0  ! eta\n",
      "args(15) = -2.0  ! b\n",
      "args(16) = 0.03  ! a\n",
      "args(17) = 100.0  ! d\n",
      "args(18) = 6.0  ! tau_s\n",
      "y(1) = 0.0  ! r\n",
      "y(2) = -60.0  ! v\n",
      "y(3) = 0.0  ! u\n",
      "y(4) = 0.0  ! s\n",
      "\n",
      "end subroutine stpnt\n",
      "\n",
      "\n",
      "\n",
      "subroutine bcnd\n",
      "end subroutine bcnd\n",
      "\n",
      "\n",
      "subroutine icnd\n",
      "end subroutine icnd\n",
      "\n",
      "\n",
      "subroutine fopt\n",
      "end subroutine fopt\n",
      "\n",
      "\n",
      "subroutine pvls\n",
      "end subroutine pvls\n",
      "\n"
     ]
    }
   ],
   "source": [
    "f = open('ik.f90', 'r')\n",
    "print('')\n",
    "print(f.read())"
   ]
  },
  {
   "cell_type": "markdown",
   "id": "c13b7d18",
   "metadata": {},
   "source": [
    "Now we are ready to run parameter continuations via PyCoBi.\n",
    "\n",
    "<br/>\n",
    "\n",
    "### (I) Continuation of a known steady-state solution in one parameter\n",
    "\n",
    "<br/>\n",
    "\n",
    "As a first example, we will continue the solution that we obtained above in the parameter $\\eta$, which can be viewed as a background input.\n",
    "From reading in the Fortran file, we saw that $\\eta$ is the $9$th parameter of the model. \n",
    "The cell below performs a continuation of the solution that we found previously in $\\eta$:"
   ]
  },
  {
   "cell_type": "code",
   "execution_count": 8,
   "id": "ec5e56da",
   "metadata": {},
   "outputs": [
    {
     "name": "stdout",
     "output_type": "stream",
     "text": [
      "gfortran -g -fopenmp -O -c ik.f90 -o ik.o\n",
      "gfortran -g -fopenmp -O ik.o -o ik.exe /home/rgf3807/PycharmProjects/auto-07p/lib/*.o\n",
      "Starting ik ...\n",
      "NPAR should be at least   18\n",
      "ik ... done\n"
     ]
    },
    {
     "ename": "AUTORuntimeError",
     "evalue": "Error running AUTO",
     "output_type": "error",
     "traceback": [
      "\u001b[0;31m---------------------------------------------------------------------------\u001b[0m",
      "\u001b[0;31mAUTORuntimeError\u001b[0m                          Traceback (most recent call last)",
      "Cell \u001b[0;32mIn[8], line 5\u001b[0m\n\u001b[1;32m      1\u001b[0m algorithm_params \u001b[38;5;241m=\u001b[39m {\u001b[38;5;124m\"\u001b[39m\u001b[38;5;124mNTST\u001b[39m\u001b[38;5;124m\"\u001b[39m: \u001b[38;5;241m400\u001b[39m, \u001b[38;5;124m\"\u001b[39m\u001b[38;5;124mNCOL\u001b[39m\u001b[38;5;124m\"\u001b[39m: \u001b[38;5;241m4\u001b[39m, \u001b[38;5;124m\"\u001b[39m\u001b[38;5;124mIAD\u001b[39m\u001b[38;5;124m\"\u001b[39m: \u001b[38;5;241m3\u001b[39m, \u001b[38;5;124m\"\u001b[39m\u001b[38;5;124mIPLT\u001b[39m\u001b[38;5;124m\"\u001b[39m: \u001b[38;5;241m0\u001b[39m, \u001b[38;5;124m\"\u001b[39m\u001b[38;5;124mNBC\u001b[39m\u001b[38;5;124m\"\u001b[39m: \u001b[38;5;241m0\u001b[39m, \u001b[38;5;124m\"\u001b[39m\u001b[38;5;124mNINT\u001b[39m\u001b[38;5;124m\"\u001b[39m: \u001b[38;5;241m0\u001b[39m, \u001b[38;5;124m\"\u001b[39m\u001b[38;5;124mNMX\u001b[39m\u001b[38;5;124m\"\u001b[39m: \u001b[38;5;241m2000\u001b[39m, \u001b[38;5;124m\"\u001b[39m\u001b[38;5;124mNPR\u001b[39m\u001b[38;5;124m\"\u001b[39m: \u001b[38;5;241m10\u001b[39m,\n\u001b[1;32m      2\u001b[0m                     \u001b[38;5;124m\"\u001b[39m\u001b[38;5;124mMXBF\u001b[39m\u001b[38;5;124m\"\u001b[39m: \u001b[38;5;241m5\u001b[39m, \u001b[38;5;124m\"\u001b[39m\u001b[38;5;124mIID\u001b[39m\u001b[38;5;124m\"\u001b[39m: \u001b[38;5;241m2\u001b[39m, \u001b[38;5;124m\"\u001b[39m\u001b[38;5;124mITMX\u001b[39m\u001b[38;5;124m\"\u001b[39m: \u001b[38;5;241m40\u001b[39m, \u001b[38;5;124m\"\u001b[39m\u001b[38;5;124mITNW\u001b[39m\u001b[38;5;124m\"\u001b[39m: \u001b[38;5;241m40\u001b[39m, \u001b[38;5;124m\"\u001b[39m\u001b[38;5;124mNWTN\u001b[39m\u001b[38;5;124m\"\u001b[39m: \u001b[38;5;241m12\u001b[39m, \u001b[38;5;124m\"\u001b[39m\u001b[38;5;124mJAC\u001b[39m\u001b[38;5;124m\"\u001b[39m: \u001b[38;5;241m0\u001b[39m, \u001b[38;5;124m\"\u001b[39m\u001b[38;5;124mEPSL\u001b[39m\u001b[38;5;124m\"\u001b[39m: \u001b[38;5;241m1e-6\u001b[39m, \u001b[38;5;124m\"\u001b[39m\u001b[38;5;124mEPSU\u001b[39m\u001b[38;5;124m\"\u001b[39m: \u001b[38;5;241m1e-6\u001b[39m,\n\u001b[1;32m      3\u001b[0m                     \u001b[38;5;124m\"\u001b[39m\u001b[38;5;124mEPSS\u001b[39m\u001b[38;5;124m\"\u001b[39m: \u001b[38;5;241m1e-4\u001b[39m, \u001b[38;5;124m\"\u001b[39m\u001b[38;5;124mDS\u001b[39m\u001b[38;5;124m\"\u001b[39m: \u001b[38;5;241m1e-4\u001b[39m, \u001b[38;5;124m\"\u001b[39m\u001b[38;5;124mDSMIN\u001b[39m\u001b[38;5;124m\"\u001b[39m: \u001b[38;5;241m1e-8\u001b[39m, \u001b[38;5;124m\"\u001b[39m\u001b[38;5;124mDSMAX\u001b[39m\u001b[38;5;124m\"\u001b[39m: \u001b[38;5;241m5e-2\u001b[39m, \u001b[38;5;124m\"\u001b[39m\u001b[38;5;124mIADS\u001b[39m\u001b[38;5;124m\"\u001b[39m: \u001b[38;5;241m1\u001b[39m, \u001b[38;5;124m\"\u001b[39m\u001b[38;5;124mTHL\u001b[39m\u001b[38;5;124m\"\u001b[39m: {}, \u001b[38;5;124m\"\u001b[39m\u001b[38;5;124mTHU\u001b[39m\u001b[38;5;124m\"\u001b[39m: {}}\n\u001b[0;32m----> 5\u001b[0m eta_solutions, eta_cont \u001b[38;5;241m=\u001b[39m \u001b[43mcont\u001b[49m\u001b[38;5;241;43m.\u001b[39;49m\u001b[43mrun\u001b[49m\u001b[43m(\u001b[49m\u001b[43me\u001b[49m\u001b[38;5;241;43m=\u001b[39;49m\u001b[38;5;124;43m\"\u001b[39;49m\u001b[38;5;124;43mik\u001b[39;49m\u001b[38;5;124;43m\"\u001b[39;49m\u001b[43m,\u001b[49m\u001b[43m \u001b[49m\u001b[43mc\u001b[49m\u001b[38;5;241;43m=\u001b[39;49m\u001b[38;5;124;43m\"\u001b[39;49m\u001b[38;5;124;43mivp\u001b[39;49m\u001b[38;5;124;43m\"\u001b[39;49m\u001b[43m,\u001b[49m\u001b[43m \u001b[49m\u001b[43mname\u001b[49m\u001b[38;5;241;43m=\u001b[39;49m\u001b[38;5;124;43m\"\u001b[39;49m\u001b[38;5;124;43meta\u001b[39;49m\u001b[38;5;124;43m\"\u001b[39;49m\u001b[43m,\u001b[49m\u001b[43m \u001b[49m\u001b[43mICP\u001b[49m\u001b[38;5;241;43m=\u001b[39;49m\u001b[38;5;241;43m9\u001b[39;49m\u001b[43m,\u001b[49m\u001b[43m \u001b[49m\u001b[43mIPS\u001b[49m\u001b[38;5;241;43m=\u001b[39;49m\u001b[38;5;241;43m1\u001b[39;49m\u001b[43m,\u001b[49m\u001b[43m \u001b[49m\u001b[43mILP\u001b[49m\u001b[38;5;241;43m=\u001b[39;49m\u001b[38;5;241;43m1\u001b[39;49m\u001b[43m,\u001b[49m\u001b[43m \u001b[49m\u001b[43mISP\u001b[49m\u001b[38;5;241;43m=\u001b[39;49m\u001b[38;5;241;43m2\u001b[39;49m\u001b[43m,\u001b[49m\u001b[43m \u001b[49m\u001b[43mISW\u001b[49m\u001b[38;5;241;43m=\u001b[39;49m\u001b[38;5;241;43m1\u001b[39;49m\u001b[43m,\u001b[49m\u001b[43m \u001b[49m\u001b[43mRL0\u001b[49m\u001b[38;5;241;43m=\u001b[39;49m\u001b[38;5;241;43m-\u001b[39;49m\u001b[38;5;241;43m50\u001b[39;49m\u001b[43m,\u001b[49m\u001b[43m \u001b[49m\u001b[43mRL1\u001b[49m\u001b[38;5;241;43m=\u001b[39;49m\u001b[38;5;241;43m150\u001b[39;49m\u001b[43m,\u001b[49m\u001b[43m \u001b[49m\n\u001b[1;32m      6\u001b[0m \u001b[43m                                   \u001b[49m\u001b[43mUZR\u001b[49m\u001b[38;5;241;43m=\u001b[39;49m\u001b[43m{\u001b[49m\u001b[43m}\u001b[49m\u001b[43m,\u001b[49m\u001b[43m \u001b[49m\u001b[43mSTOP\u001b[49m\u001b[38;5;241;43m=\u001b[39;49m\u001b[43m{\u001b[49m\u001b[43m}\u001b[49m\u001b[43m,\u001b[49m\u001b[43m \u001b[49m\u001b[43mbidirectional\u001b[49m\u001b[38;5;241;43m=\u001b[39;49m\u001b[38;5;28;43;01mTrue\u001b[39;49;00m\u001b[43m,\u001b[49m\u001b[43m \u001b[49m\u001b[38;5;241;43m*\u001b[39;49m\u001b[38;5;241;43m*\u001b[39;49m\u001b[43malgorithm_params\u001b[49m\u001b[43m)\u001b[49m\n",
      "File \u001b[0;32m~/anaconda3/envs/pyrates_present/lib/python3.10/site-packages/pycobi/pycobi.py:279\u001b[0m, in \u001b[0;36mODESystem.run\u001b[0;34m(self, origin, starting_point, variables, params, get_stability, get_period, get_timeseries, get_eigenvals, get_lyapunov_exp, bidirectional, name, **auto_kwargs)\u001b[0m\n\u001b[1;32m    277\u001b[0m constants \u001b[38;5;241m=\u001b[39m auto_kwargs\u001b[38;5;241m.\u001b[39mpop(\u001b[38;5;124m'\u001b[39m\u001b[38;5;124mc\u001b[39m\u001b[38;5;124m'\u001b[39m, \u001b[38;5;28;01mNone\u001b[39;00m)\n\u001b[1;32m    278\u001b[0m \u001b[38;5;28;01mif\u001b[39;00m constants:\n\u001b[0;32m--> 279\u001b[0m     solution \u001b[38;5;241m=\u001b[39m \u001b[38;5;28;43mself\u001b[39;49m\u001b[38;5;241;43m.\u001b[39;49m\u001b[43m_call_auto\u001b[49m\u001b[43m(\u001b[49m\u001b[43mstarting_point\u001b[49m\u001b[43m,\u001b[49m\u001b[43m \u001b[49m\u001b[43morigin\u001b[49m\u001b[43m,\u001b[49m\u001b[43m \u001b[49m\u001b[43mc\u001b[49m\u001b[38;5;241;43m=\u001b[39;49m\u001b[43mconstants\u001b[49m\u001b[43m,\u001b[49m\u001b[43m \u001b[49m\u001b[38;5;241;43m*\u001b[39;49m\u001b[38;5;241;43m*\u001b[39;49m\u001b[43mauto_kwargs\u001b[49m\u001b[43m)\u001b[49m\n\u001b[1;32m    280\u001b[0m     auto_kwargs[\u001b[38;5;124m'\u001b[39m\u001b[38;5;124mc\u001b[39m\u001b[38;5;124m'\u001b[39m] \u001b[38;5;241m=\u001b[39m constants\n\u001b[1;32m    281\u001b[0m \u001b[38;5;28;01melse\u001b[39;00m:\n",
      "File \u001b[0;32m~/anaconda3/envs/pyrates_present/lib/python3.10/site-packages/pycobi/pycobi.py:958\u001b[0m, in \u001b[0;36mODESystem._call_auto\u001b[0;34m(self, starting_point, origin, **auto_kwargs)\u001b[0m\n\u001b[1;32m    956\u001b[0m     solution \u001b[38;5;241m=\u001b[39m \u001b[38;5;28mself\u001b[39m\u001b[38;5;241m.\u001b[39m_auto\u001b[38;5;241m.\u001b[39mrun(s, \u001b[38;5;241m*\u001b[39m\u001b[38;5;241m*\u001b[39mauto_kwargs)\n\u001b[1;32m    957\u001b[0m \u001b[38;5;28;01melse\u001b[39;00m:\n\u001b[0;32m--> 958\u001b[0m     solution \u001b[38;5;241m=\u001b[39m \u001b[38;5;28;43mself\u001b[39;49m\u001b[38;5;241;43m.\u001b[39;49m\u001b[43m_auto\u001b[49m\u001b[38;5;241;43m.\u001b[39;49m\u001b[43mrun\u001b[49m\u001b[43m(\u001b[49m\u001b[38;5;241;43m*\u001b[39;49m\u001b[38;5;241;43m*\u001b[39;49m\u001b[43mauto_kwargs\u001b[49m\u001b[43m)\u001b[49m\n\u001b[1;32m    959\u001b[0m \u001b[38;5;28;01mreturn\u001b[39;00m \u001b[38;5;28mself\u001b[39m\u001b[38;5;241m.\u001b[39m_start_from_solution(solution)\n",
      "File \u001b[0;32m~/anaconda3/envs/pyrates_present/lib/python3.10/site-packages/auto_07p-0.0.1-py3.10.egg/auto/AUTOCommands.py:1588\u001b[0m, in \u001b[0;36mrun\u001b[0;34m(data, sv, ap, runner, templates, **kw)\u001b[0m\n\u001b[1;32m   1586\u001b[0m     kw[\u001b[38;5;124m'\u001b[39m\u001b[38;5;124msv\u001b[39m\u001b[38;5;124m'\u001b[39m] \u001b[38;5;241m=\u001b[39m sv\n\u001b[1;32m   1587\u001b[0m load(data,runner,templates,info\u001b[38;5;241m=\u001b[39m\u001b[38;5;28;01mlambda\u001b[39;00m msg:\u001b[38;5;28;01mNone\u001b[39;00m,\u001b[38;5;241m*\u001b[39m\u001b[38;5;241m*\u001b[39mkw)\n\u001b[0;32m-> 1588\u001b[0m res \u001b[38;5;241m=\u001b[39m \u001b[43mrunner\u001b[49m\u001b[38;5;241;43m.\u001b[39;49m\u001b[43mrun\u001b[49m\u001b[43m(\u001b[49m\u001b[43m)\u001b[49m\n\u001b[1;32m   1589\u001b[0m sv \u001b[38;5;241m=\u001b[39m runner\u001b[38;5;241m.\u001b[39moptions[\u001b[38;5;124m\"\u001b[39m\u001b[38;5;124mconstants\u001b[39m\u001b[38;5;124m\"\u001b[39m]\u001b[38;5;241m.\u001b[39mget(\u001b[38;5;124m\"\u001b[39m\u001b[38;5;124msv\u001b[39m\u001b[38;5;124m\"\u001b[39m)\n\u001b[1;32m   1590\u001b[0m runner\u001b[38;5;241m.\u001b[39moptions[\u001b[38;5;124m\"\u001b[39m\u001b[38;5;124mconstants\u001b[39m\u001b[38;5;124m\"\u001b[39m][\u001b[38;5;124m'\u001b[39m\u001b[38;5;124msv\u001b[39m\u001b[38;5;124m'\u001b[39m] \u001b[38;5;241m=\u001b[39m \u001b[38;5;28;01mNone\u001b[39;00m\n",
      "File \u001b[0;32m~/anaconda3/envs/pyrates_present/lib/python3.10/site-packages/auto_07p-0.0.1-py3.10.egg/auto/runAUTO.py:391\u001b[0m, in \u001b[0;36mrunAUTO.run\u001b[0;34m(self)\u001b[0m\n\u001b[1;32m    389\u001b[0m \u001b[38;5;28;01melse\u001b[39;00m:\n\u001b[1;32m    390\u001b[0m     \u001b[38;5;28mself\u001b[39m\u001b[38;5;241m.\u001b[39mrunMakefile()\n\u001b[0;32m--> 391\u001b[0m \u001b[38;5;28;43mself\u001b[39;49m\u001b[38;5;241;43m.\u001b[39;49m\u001b[43m__outputCommand\u001b[49m\u001b[43m(\u001b[49m\u001b[43m)\u001b[49m\n\u001b[1;32m    392\u001b[0m \u001b[38;5;28;01mfrom\u001b[39;00m \u001b[38;5;21;01mauto\u001b[39;00m \u001b[38;5;28;01mimport\u001b[39;00m bifDiag\n\u001b[1;32m    393\u001b[0m \u001b[38;5;28;01mreturn\u001b[39;00m bifDiag\u001b[38;5;241m.\u001b[39mbifDiag(\u001b[38;5;28mself\u001b[39m\u001b[38;5;241m.\u001b[39mfort7_path,\u001b[38;5;28mself\u001b[39m\u001b[38;5;241m.\u001b[39mfort8_path,\n\u001b[1;32m    394\u001b[0m                        \u001b[38;5;28mself\u001b[39m\u001b[38;5;241m.\u001b[39mfort9_path,constants)\n",
      "File \u001b[0;32m~/anaconda3/envs/pyrates_present/lib/python3.10/site-packages/auto_07p-0.0.1-py3.10.egg/auto/runAUTO.py:609\u001b[0m, in \u001b[0;36mrunAUTO.__outputCommand\u001b[0;34m(self)\u001b[0m\n\u001b[1;32m    606\u001b[0m \u001b[38;5;28mself\u001b[39m\u001b[38;5;241m.\u001b[39m__write_constants_solution(f,\n\u001b[1;32m    607\u001b[0m                                 \u001b[38;5;28mself\u001b[39m\u001b[38;5;241m.\u001b[39moptions[\u001b[38;5;124m\"\u001b[39m\u001b[38;5;124mselected_solution\u001b[39m\u001b[38;5;124m\"\u001b[39m])\n\u001b[1;32m    608\u001b[0m f\u001b[38;5;241m.\u001b[39mclose()\n\u001b[0;32m--> 609\u001b[0m \u001b[38;5;28;01mraise\u001b[39;00m AUTOExceptions\u001b[38;5;241m.\u001b[39mAUTORuntimeError(\u001b[38;5;124m\"\u001b[39m\u001b[38;5;124mError running AUTO\u001b[39m\u001b[38;5;124m\"\u001b[39m)\n",
      "\u001b[0;31mAUTORuntimeError\u001b[0m: Error running AUTO"
     ]
    }
   ],
   "source": [
    "algorithm_params = {\"NTST\": 400, \"NCOL\": 4, \"IAD\": 3, \"IPLT\": 0, \"NBC\": 0, \"NINT\": 0, \"NMX\": 2000, \"NPR\": 10,\n",
    "                    \"MXBF\": 5, \"IID\": 2, \"ITMX\": 40, \"ITNW\": 40, \"NWTN\": 12, \"JAC\": 0, \"EPSL\": 1e-6, \"EPSU\": 1e-6,\n",
    "                    \"EPSS\": 1e-4, \"DS\": 1e-4, \"DSMIN\": 1e-8, \"DSMAX\": 5e-2, \"IADS\": 1, \"THL\": {}, \"THU\": {}}\n",
    "\n",
    "eta_solutions, eta_cont = cont.run(e=\"ik\", c=\"ivp\", name=\"eta\", ICP=9, IPS=1, ILP=1, ISP=2, ISW=1, RL0=-50, RL1=150, \n",
    "                                   UZR={}, STOP={}, bidirectional=True, **algorithm_params)"
   ]
  },
  {
   "cell_type": "code",
   "execution_count": null,
   "id": "305a9e9d",
   "metadata": {},
   "outputs": [],
   "source": []
  }
 ],
 "metadata": {
  "kernelspec": {
   "display_name": "Python 3 (ipykernel)",
   "language": "python",
   "name": "python3"
  },
  "language_info": {
   "codemirror_mode": {
    "name": "ipython",
    "version": 3
   },
   "file_extension": ".py",
   "mimetype": "text/x-python",
   "name": "python",
   "nbconvert_exporter": "python",
   "pygments_lexer": "ipython3",
   "version": "3.10.9"
  }
 },
 "nbformat": 4,
 "nbformat_minor": 5
}
