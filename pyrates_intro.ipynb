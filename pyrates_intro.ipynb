{
 "cells": [
  {
   "cell_type": "code",
   "execution_count": 1,
   "id": "4c644b2e",
   "metadata": {
    "slideshow": {
     "slide_type": "skip"
    }
   },
   "outputs": [],
   "source": [
    "import matplotlib.pyplot as plt\n",
    "import numpy as np\n",
    "import torch\n",
    "from jupyterthemes import jtplot\n",
    "jtplot.style(theme='gruvboxd', ticks=True, grid=False, figsize=(12, 6), fscale=1.4)\n",
    "plt.rc('text', usetex=True)\n",
    "%matplotlib inline\n",
    "import sys\n",
    "sys.path.insert(0, \"../signal_processing_and_visualization\")\n",
    "from pyrates.utility import Interactive2DParamPlot\n",
    "from pandas import DataFrame"
   ]
  },
  {
   "cell_type": "markdown",
   "id": "e8f34205",
   "metadata": {
    "slideshow": {
     "slide_type": "slide"
    }
   },
   "source": [
    "# Introduction to Dynamical Systems Modeling with PyRates\n",
    "\n",
    "<br/>\n",
    "<p style=\"text-align: center;\">presented by Richard Gast </p>\n",
    "\n",
    "<br/>\n",
    "Kennedy lab meeting, 09/23/2022"
   ]
  },
  {
   "cell_type": "markdown",
   "id": "0ff5f481",
   "metadata": {
    "slideshow": {
     "slide_type": "slide"
    }
   },
   "source": [
    "## Overview: Dynamical Systems (DS) Modeling\n",
    "\n",
    "<br/>\n",
    "\n",
    "- describe evolution of system over time (continuous or discrete time)"
   ]
  },
  {
   "cell_type": "markdown",
   "id": "7555eaa4",
   "metadata": {
    "slideshow": {
     "slide_type": "fragment"
    }
   },
   "source": [
    "- continuous-time systems are defined via differential equation (DE) systems:\n",
    "<br/>\n",
    "\n",
    "<span style=\"font-size:40px\">\n",
    "$$\\dot y = f(y, \\theta, t ) = \\frac{dy}{dt}$$\n",
    "</span>"
   ]
  },
  {
   "cell_type": "markdown",
   "id": "eb5b24de",
   "metadata": {
    "slideshow": {
     "slide_type": "fragment"
    }
   },
   "source": [
    "- DE systems define a vector-field over the state space of the system"
   ]
  },
  {
   "cell_type": "markdown",
   "id": "a79919e2",
   "metadata": {
    "slideshow": {
     "slide_type": "fragment"
    }
   },
   "source": [
    "- we are interested in the solutions to these DE systems\n",
    "<span style=\"font-size:40px\">\n",
    "$$y(t) = \\int f(y, \\theta, t) dt$$\n",
    "</span>"
   ]
  },
  {
   "cell_type": "markdown",
   "id": "04aeaabb",
   "metadata": {
    "slideshow": {
     "slide_type": "fragment"
    }
   },
   "source": [
    "- ...and how they depend on the system parameters $\\theta$"
   ]
  },
  {
   "cell_type": "markdown",
   "id": "f6900344",
   "metadata": {
    "slideshow": {
     "slide_type": "fragment"
    }
   },
   "source": [
    "- Numerical methods exist, for example, for:\n",
    "    - approximating $y(t)$ given a particular choice for $\\theta$\n",
    "    - estimating how $y(t)$ changes for small changes in $\\theta$\n",
    "    - optimizing $\\theta$ in order to generate a target solution $y(t)$"
   ]
  },
  {
   "cell_type": "markdown",
   "id": "fb27afd9",
   "metadata": {
    "slideshow": {
     "slide_type": "subslide"
    }
   },
   "source": [
    "## PyRates: Software for DS modeling\n",
    "\n",
    "<img src=\"pyrates_bg.png\" width=\"900\">\n",
    "\n",
    "Freely available at [github](https://github.com/pyrates-neuroscience/PyRates), with a detailed documentation and various use examples at [readthedocs](https://pyrates.readthedocs.io/en/latest/)."
   ]
  },
  {
   "cell_type": "markdown",
   "id": "c8474d4a",
   "metadata": {
    "slideshow": {
     "slide_type": "subslide"
    }
   },
   "source": [
    "### DS modeling: The brain as a complex DS\n",
    "\n",
    "<img src=\"pyrates_brainscales.png\" width=\"900\">"
   ]
  },
  {
   "cell_type": "markdown",
   "id": "f81e4315",
   "metadata": {
    "slideshow": {
     "slide_type": "subslide"
    }
   },
   "source": [
    "### DS modeling: Neuroscience applications\n",
    "\n",
    "<br/>\n",
    "\n",
    "**Can be applied to any scale of brain organization or function:**"
   ]
  },
  {
   "cell_type": "markdown",
   "id": "1845688c",
   "metadata": {
    "slideshow": {
     "slide_type": "fragment"
    }
   },
   "source": [
    "- DEs for modeling ion channel dynamics in part of the membrane: Hodgkin-Huxley equations (1952-55)"
   ]
  },
  {
   "cell_type": "markdown",
   "id": "828acccb",
   "metadata": {
    "slideshow": {
     "slide_type": "fragment"
    }
   },
   "source": [
    "- DEs for firing of a single neuron: Ermentrout-Kopell equations (1986)"
   ]
  },
  {
   "cell_type": "markdown",
   "id": "999d9fa4",
   "metadata": {
    "slideshow": {
     "slide_type": "fragment"
    }
   },
   "source": [
    "- DEs for firing rate dynamics of a neural population: Montbrio et al. (2015) "
   ]
  },
  {
   "cell_type": "markdown",
   "id": "529bb9b9",
   "metadata": {
    "slideshow": {
     "slide_type": "fragment"
    }
   },
   "source": [
    "- DEs for dynamics of a cortical column/brain region: Jansen and Rit (1995), Wilson and Cowan (1972)"
   ]
  },
  {
   "cell_type": "markdown",
   "id": "10eb3840",
   "metadata": {
    "slideshow": {
     "slide_type": "fragment"
    }
   },
   "source": [
    "- DEs for action kinetics and motor program selection: Haken (1976)"
   ]
  },
  {
   "cell_type": "markdown",
   "id": "02f99d57",
   "metadata": {
    "slideshow": {
     "slide_type": "fragment"
    }
   },
   "source": [
    "- DEs for decision making processes: Busemeyer and Johnson (2004)\n",
    "- ..."
   ]
  },
  {
   "cell_type": "markdown",
   "id": "02c8e620",
   "metadata": {
    "slideshow": {
     "slide_type": "fragment"
    }
   },
   "source": [
    "**Neuroscience questions and how to address them via DS modeling:**"
   ]
  },
  {
   "cell_type": "markdown",
   "id": "50295638",
   "metadata": {
    "slideshow": {
     "slide_type": "fragment"
    }
   },
   "source": [
    "- <span style=\"color:orange\">How does an AMPA blocker affect the interaction between cortical layers?</span>\n",
    "    - Define evolution equations for interacting neuron populations in cortical column\n",
    "    - Specify which synapses use AMPA\n",
    "    - Perform parameter sweep or parameter continuation over maximum conductance of AMPA synapses\n",
    "    - Integrate DEs to evaluate the system dynamics and examine synchronization between neuron populations (coherence, cross-correlation, ...)"
   ]
  },
  {
   "cell_type": "markdown",
   "id": "e8d7cd3f",
   "metadata": {
    "slideshow": {
     "slide_type": "fragment"
    }
   },
   "source": [
    "- <span style=\"color:orange\">What causes striatal neuron populations to express increased synchronization under dopamine depletion as compared to control conditions?</span>\n",
    "    - Define evolution equations for interacting neuron populations in striatum\n",
    "    - Find a data set with recordings from striatal neurons under dopamine depleted and control conditions\n",
    "    - Optimize model parameters to data of each condition (requires integration of the DEs)\n",
    "    - Examine differences between the two distinct optimized parameter sets"
   ]
  },
  {
   "cell_type": "markdown",
   "id": "6d400c38",
   "metadata": {
    "slideshow": {
     "slide_type": "subslide"
    }
   },
   "source": [
    "### DS modeling (example): RNN of rate-coupled leaky-integrator (LI) neurons\n",
    "\n",
    "Evolution equations for $N$ coupled LI neurons:\n",
    "<span style=\"font-size:20pt\">\n",
    "$$ \\dot u_i = -\\frac{u_i}{\\tau} + I_{ext}(t) + k \\sum_{j=1}^{N} J_{ij} \\tanh (u_j)$$\n",
    "</span>"
   ]
  },
  {
   "cell_type": "markdown",
   "id": "b0de5526",
   "metadata": {
    "slideshow": {
     "slide_type": "fragment"
    }
   },
   "source": [
    "**Variables:**\n",
    "- $u_i$: state variable of neuron $i$\n",
    "- $\\tau$: global rate decay time constant\n",
    "- $I_{ext}$: Extrinsic input/forcing signal\n",
    "- $k$: global coupling constant\n",
    "- $J_{ij}$: Pairwise coupling strengths\n",
    "- $N$: number of rate neurons"
   ]
  },
  {
   "cell_type": "markdown",
   "id": "64917f16",
   "metadata": {
    "slideshow": {
     "slide_type": "fragment"
    }
   },
   "source": [
    "**Question:** How does the dynamic regime of the system depend on the global coupling $k$ and the global time constant $\\tau$?"
   ]
  },
  {
   "cell_type": "markdown",
   "id": "cf56b3a0",
   "metadata": {
    "slideshow": {
     "slide_type": "subslide"
    }
   },
   "source": [
    "### DS modeling (example): Simulations via PyRates/RectiPy"
   ]
  },
  {
   "cell_type": "code",
   "execution_count": 2,
   "id": "ef6924c1",
   "metadata": {
    "slideshow": {
     "slide_type": "fragment"
    }
   },
   "outputs": [],
   "source": [
    "node = \"neuron_model_templates.rate_neurons.leaky_integrator.tanh_pop\"\n",
    "N = 5\n",
    "J = np.random.randn(N, N)\n",
    "k = 1.5\n",
    "tau = 0.5"
   ]
  },
  {
   "cell_type": "code",
   "execution_count": 3,
   "id": "cfe877a4",
   "metadata": {
    "slideshow": {
     "slide_type": "fragment"
    }
   },
   "outputs": [
    {
     "data": {
      "text/plain": [
       "Text(0.5, 1.0, '$J_{ij}$')"
      ]
     },
     "execution_count": 3,
     "metadata": {},
     "output_type": "execute_result"
    },
    {
     "data": {
      "image/png": "[encoded data removed]",
      "text/plain": [
       "<Figure size 960x480 with 2 Axes>"
      ]
     },
     "metadata": {},
     "output_type": "display_data"
    }
   ],
   "source": [
    "plt.imshow(J)\n",
    "plt.colorbar()\n",
    "plt.xlabel(\"neuron id\")\n",
    "plt.ylabel(\"neuron id\")\n",
    "plt.title(r\"$J_{ij}$\")"
   ]
  },
  {
   "cell_type": "markdown",
   "id": "51ed0bb1",
   "metadata": {
    "slideshow": {
     "slide_type": "fragment"
    }
   },
   "source": [
    "<span style=\"font-size:20pt\">\n",
    "$$ \\dot u_i = -\\frac{u_i}{\\tau} + I_{ext}(t) + k \\sum_{j=1}^{N} J_{ij} \\tanh (u_j)$$\n",
    "</span>"
   ]
  },
  {
   "cell_type": "code",
   "execution_count": 4,
   "id": "4ba74086",
   "metadata": {
    "slideshow": {
     "slide_type": "fragment"
    }
   },
   "outputs": [
    {
     "name": "stdout",
     "output_type": "stream",
     "text": [
      "Compilation Progress\n",
      "--------------------\n",
      "\t(1) Translating the circuit template into a networkx graph representation...\n",
      "\t\t...finished.\n",
      "\t(2) Preprocessing edge transmission operations...\n",
      "\t\t...finished.\n",
      "\t(3) Parsing the model equations into a compute graph...\n",
      "\t\t...finished.\n",
      "\tModel compilation was finished.\n"
     ]
    }
   ],
   "source": [
    "from rectipy import Network\n",
    "\n",
    "net0 = Network.from_yaml(\n",
    "    node=node, weights=J, source_var=\"tanh_op/r\", target_var=\"li_op/r_in\", \n",
    "    input_var=\"li_op/I_ext\", output_var=\"li_op/u\", clear=True,\n",
    "    node_vars={\"all/li_op/k\": k, \"all/li_op/tau\": tau}\n",
    ")"
   ]
  },
  {
   "cell_type": "code",
   "execution_count": 13,
   "id": "209d9451",
   "metadata": {
    "slideshow": {
     "slide_type": "fragment"
    }
   },
   "outputs": [],
   "source": [
    "# define input\n",
    "steps = 10000\n",
    "dt = 1e-3\n",
    "target_neuron = 3\n",
    "time = np.arange(0, steps)*dt\n",
    "I_ext = np.zeros((steps, N))\n",
    "I_ext[:, target_neuron] = np.sin(np.pi*time) * 0.5\n",
    "\n",
    "# run simulation\n",
    "obs = net0.run(inputs=I_ext, verbose=False)"
   ]
  },
  {
   "cell_type": "code",
   "execution_count": 12,
   "id": "a2703098",
   "metadata": {
    "slideshow": {
     "slide_type": "fragment"
    }
   },
   "outputs": [
    {
     "data": {
      "text/plain": [
       "<matplotlib.legend.Legend at 0x7f9f48268d60>"
      ]
     },
     "execution_count": 12,
     "metadata": {},
     "output_type": "execute_result"
    },
    {
     "data": {
      "image/png": "[encoded data removed]",
      "text/plain": [
       "<Figure size 960x480 with 1 Axes>"
      ]
     },
     "metadata": {},
     "output_type": "display_data"
    }
   ],
   "source": [
    "# plotting\n",
    "ax = obs.plot(\"out\")\n",
    "ax.set_ylabel(\"u\")\n",
    "plt.legend([rf\"$u_{i}$\" for i in range(N)])"
   ]
  },
  {
   "cell_type": "markdown",
   "id": "9a24ccd6",
   "metadata": {
    "slideshow": {
     "slide_type": "slide"
    }
   },
   "source": [
    "## PyRates: A Python tool for DS modeling\n",
    "\n",
    "<img src=\"pyrates_structure.png\" width=\"900\">"
   ]
  },
  {
   "cell_type": "markdown",
   "id": "dc0da1b5",
   "metadata": {
    "slideshow": {
     "slide_type": "subslide"
    }
   },
   "source": [
    "### PyRates: Installation\n",
    "\n",
    "<br/>\n",
    "\n",
    "Recommended: Use dedicated Python environment\n",
    "\n",
    "    \n",
    "```\n",
    "conda create -n ds python=3.9\n",
    "```\n",
    "    \n",
    "</span>"
   ]
  },
  {
   "cell_type": "markdown",
   "id": "363c7afb",
   "metadata": {
    "slideshow": {
     "slide_type": "fragment"
    }
   },
   "source": [
    "Installation via pip:\n",
    "```\n",
    "pip install pyrates\n",
    "```"
   ]
  },
  {
   "cell_type": "markdown",
   "id": "51f5bc72",
   "metadata": {
    "slideshow": {
     "slide_type": "fragment"
    }
   },
   "source": [
    "Dependencies:\n",
    "- numpy\n",
    "- networkx\n",
    "- pandas\n",
    "- ruamel.yaml\n",
    "- sympy\n",
    "- scipy"
   ]
  },
  {
   "cell_type": "markdown",
   "id": "f21cbe9c",
   "metadata": {
    "slideshow": {
     "slide_type": "fragment"
    }
   },
   "source": [
    "For full backend support:\n",
    "- tensorflow\n",
    "- torch\n",
    "- matlab\n",
    "- julia\n",
    "- gfortran"
   ]
  },
  {
   "cell_type": "markdown",
   "id": "a6d9e9f7",
   "metadata": {
    "slideshow": {
     "slide_type": "subslide"
    }
   },
   "source": [
    "### PyRates: Model definition\n",
    "\n"
   ]
  },
  {
   "cell_type": "markdown",
   "id": "16702253",
   "metadata": {
    "slideshow": {
     "slide_type": "fragment"
    }
   },
   "source": [
    "- hierarchical, graph-based\n",
    "- two frontend interfaces: YAML or pure Python\n",
    "- detailed introductions to the model definition on [readthedocs](https://pyrates.readthedocs.io/en/latest/) for the [YAML](https://pyrates.readthedocs.io/en/latest/auto_implementations/yaml_definitions.html#sphx-glr-auto-implementations-yaml-definitions-py) and [Python](https://pyrates.readthedocs.io/en/latest/auto_implementations/python_definitions.html#sphx-glr-auto-implementations-python-definitions-py) interface"
   ]
  },
  {
   "cell_type": "markdown",
   "id": "abcd3c3e",
   "metadata": {
    "slideshow": {
     "slide_type": "fragment"
    }
   },
   "source": [
    "**Implementation of the rate neuron model via the Python interface**\n",
    "\n",
    "<span style=\"font-size:20pt\">\n",
    "$$ \\dot u_i = -\\frac{u_i}{\\tau} + I_{ext}(t) + k \\sum_{j=1}^{N} J_{ij} \\tanh (u_j)$$\n",
    "</span>\n",
    "\n",
    "*Step 1:* Define mathematical operators"
   ]
  },
  {
   "cell_type": "code",
   "execution_count": 14,
   "id": "221f98b8",
   "metadata": {
    "slideshow": {
     "slide_type": "fragment"
    }
   },
   "outputs": [],
   "source": [
    "from pyrates import OperatorTemplate\n",
    "\n",
    "# leaky integration operator\n",
    "equation = \"u' = -u/tau + k*r_in + I_ext\"\n",
    "variables = {\"u\": \"output(0.0)\", \"tau\": tau, \"k\": k, \n",
    "             \"r_in\": \"input\", \"I_ext\": \"input\"}\n",
    "li_op = OperatorTemplate(\"li_op\", equations=equation, variables=variables)"
   ]
  },
  {
   "cell_type": "code",
   "execution_count": 15,
   "id": "f29f4054",
   "metadata": {
    "slideshow": {
     "slide_type": "fragment"
    }
   },
   "outputs": [],
   "source": [
    "# hyperbolic tangent transform\n",
    "equation = \"r = tanh(u)\"\n",
    "variables = {\"r\": \"output(0.1)\", \"u\": \"input\"}\n",
    "tanh_op = OperatorTemplate(\"tanh_op\", equations=equation, variables=variables)"
   ]
  },
  {
   "cell_type": "markdown",
   "id": "204a0cd2",
   "metadata": {
    "slideshow": {
     "slide_type": "fragment"
    }
   },
   "source": [
    "*Step 2:* Connect operators to define nodes "
   ]
  },
  {
   "cell_type": "code",
   "execution_count": 16,
   "id": "85a069f6",
   "metadata": {
    "slideshow": {
     "slide_type": "fragment"
    }
   },
   "outputs": [],
   "source": [
    "from pyrates import NodeTemplate\n",
    "node = NodeTemplate(\"neuron\", operators=[li_op, tanh_op])"
   ]
  },
  {
   "cell_type": "markdown",
   "id": "9bd2322e",
   "metadata": {
    "slideshow": {
     "slide_type": "fragment"
    }
   },
   "source": [
    "*Step 3:* Connect nodes to define a circuit"
   ]
  },
  {
   "cell_type": "code",
   "execution_count": 17,
   "id": "4a24e383",
   "metadata": {
    "slideshow": {
     "slide_type": "fragment"
    }
   },
   "outputs": [],
   "source": [
    "from pyrates import CircuitTemplate\n",
    "\n",
    "# initialize network with unconnected nodes\n",
    "nodes = [f\"n_{i}\" for i in range(N)]\n",
    "net = CircuitTemplate(\"net\", nodes={n: node for n in nodes})"
   ]
  },
  {
   "cell_type": "code",
   "execution_count": 18,
   "id": "85aee820",
   "metadata": {
    "slideshow": {
     "slide_type": "fragment"
    }
   },
   "outputs": [],
   "source": [
    "# add edges between nodes\n",
    "net.add_edges_from_matrix(source_var=\"tanh_op/r\", target_var=\"li_op/r_in\", \n",
    "                          nodes=nodes, weight=J)"
   ]
  },
  {
   "cell_type": "code",
   "execution_count": 22,
   "id": "3ee254a4",
   "metadata": {
    "slideshow": {
     "slide_type": "fragment"
    }
   },
   "outputs": [
    {
     "data": {
      "text/plain": [
       "[('n_0/tanh_op/r', 'n_0/li_op/r_in', None, {'weight': -0.679589719563481}),\n",
       " ('n_0/tanh_op/r', 'n_1/li_op/r_in', None, {'weight': 1.543513664915184}),\n",
       " ('n_0/tanh_op/r', 'n_2/li_op/r_in', None, {'weight': -0.015532676958233845}),\n",
       " ('n_0/tanh_op/r', 'n_3/li_op/r_in', None, {'weight': -1.3252793432438372}),\n",
       " ('n_0/tanh_op/r', 'n_4/li_op/r_in', None, {'weight': -0.9224644830840544}),\n",
       " ('n_1/tanh_op/r', 'n_0/li_op/r_in', None, {'weight': 0.8516946497019406}),\n",
       " ('n_1/tanh_op/r', 'n_1/li_op/r_in', None, {'weight': -0.8579961092794794}),\n",
       " ('n_1/tanh_op/r', 'n_2/li_op/r_in', None, {'weight': 1.7178844439651322}),\n",
       " ('n_1/tanh_op/r', 'n_3/li_op/r_in', None, {'weight': -0.14299790470454807}),\n",
       " ('n_1/tanh_op/r', 'n_4/li_op/r_in', None, {'weight': 0.9641491932205748}),\n",
       " ('n_2/tanh_op/r', 'n_0/li_op/r_in', None, {'weight': 1.3342160779074617}),\n",
       " ('n_2/tanh_op/r', 'n_1/li_op/r_in', None, {'weight': 1.2087022537482688}),\n",
       " ('n_2/tanh_op/r', 'n_2/li_op/r_in', None, {'weight': -0.005889855652195965}),\n",
       " ('n_2/tanh_op/r', 'n_3/li_op/r_in', None, {'weight': 0.19409786948519248}),\n",
       " ('n_2/tanh_op/r', 'n_4/li_op/r_in', None, {'weight': -1.333336111866002}),\n",
       " ('n_3/tanh_op/r', 'n_0/li_op/r_in', None, {'weight': 0.20301783675290747}),\n",
       " ('n_3/tanh_op/r', 'n_1/li_op/r_in', None, {'weight': -0.5846205072052688}),\n",
       " ('n_3/tanh_op/r', 'n_2/li_op/r_in', None, {'weight': 0.8152272172209625}),\n",
       " ('n_3/tanh_op/r', 'n_3/li_op/r_in', None, {'weight': 0.15962648859501427}),\n",
       " ('n_3/tanh_op/r', 'n_4/li_op/r_in', None, {'weight': -0.6446450426062802}),\n",
       " ('n_4/tanh_op/r', 'n_0/li_op/r_in', None, {'weight': -0.16123727998934087}),\n",
       " ('n_4/tanh_op/r', 'n_1/li_op/r_in', None, {'weight': -0.09536329841169652}),\n",
       " ('n_4/tanh_op/r', 'n_2/li_op/r_in', None, {'weight': 1.0120016654824022}),\n",
       " ('n_4/tanh_op/r', 'n_3/li_op/r_in', None, {'weight': -1.2665208820832323}),\n",
       " ('n_4/tanh_op/r', 'n_4/li_op/r_in', None, {'weight': 0.9381556502669243})]"
      ]
     },
     "execution_count": 22,
     "metadata": {},
     "output_type": "execute_result"
    }
   ],
   "source": [
    "net.edges"
   ]
  },
  {
   "cell_type": "markdown",
   "id": "bb6b8ebe",
   "metadata": {
    "slideshow": {
     "slide_type": "subslide"
    }
   },
   "source": [
    "### PyRates: Applications\n"
   ]
  },
  {
   "cell_type": "markdown",
   "id": "7936fb6c",
   "metadata": {
    "slideshow": {
     "slide_type": "fragment"
    }
   },
   "source": [
    "- translate model equations into compute graph"
   ]
  },
  {
   "cell_type": "markdown",
   "id": "93d66b98",
   "metadata": {
    "slideshow": {
     "slide_type": "fragment"
    }
   },
   "source": [
    "- uses code-generation to generate functions that allow to evaluate the vector-field of a given model, i.e. $\\dot y = f(y,\\theta,t)$."
   ]
  },
  {
   "cell_type": "markdown",
   "id": "03f09bbf",
   "metadata": {
    "slideshow": {
     "slide_type": "fragment"
    }
   },
   "source": [
    "- vector-field evaluation functions generated by *PyRates* provide interface to various dynamical systems optimization/analysis tools"
   ]
  },
  {
   "cell_type": "markdown",
   "id": "14c897a3",
   "metadata": {
    "slideshow": {
     "slide_type": "fragment"
    }
   },
   "source": [
    "**Code-generation example:** `NumPy`, `Fortran`"
   ]
  },
  {
   "cell_type": "code",
   "execution_count": 23,
   "id": "213fd5b2",
   "metadata": {
    "slideshow": {
     "slide_type": "fragment"
    }
   },
   "outputs": [
    {
     "name": "stdout",
     "output_type": "stream",
     "text": [
      "Compilation Progress\n",
      "--------------------\n",
      "\t(1) Translating the circuit template into a networkx graph representation...\n",
      "\t\t...finished.\n",
      "\t(2) Preprocessing edge transmission operations...\n",
      "\t\t...finished.\n",
      "\t(3) Parsing the model equations into a compute graph...\n",
      "\t\t...finished.\n",
      "\tModel compilation was finished.\n"
     ]
    }
   ],
   "source": [
    "_ = net.get_run_func(\"vecfield\", file_name=\"numpy_func\", \n",
    "                     step_size=dt, backend=\"numpy\", \n",
    "                     in_place=False, vectorize=False)"
   ]
  },
  {
   "cell_type": "code",
   "execution_count": 24,
   "id": "65502682",
   "metadata": {
    "slideshow": {
     "slide_type": "fragment"
    }
   },
   "outputs": [
    {
     "name": "stdout",
     "output_type": "stream",
     "text": [
      "\n",
      "from numpy import pi, sqrt\n",
      "from numpy import tanh\n",
      "\n",
      "\n",
      "def vecfield(t,y,dy,tau,k,I_ext,tau_0,k_0,I_ext_0,tau_1,k_1,I_ext_1,tau_2,k_2,I_ext_2,tau_3,k_3,I_ext_3,weight_in0_0,weight_in0_1,weight_in1_1,weight_in0_2,weight_in1_2,weight_in2_2,weight_in0_3,weight_in1_3,weight_in2_3,weight_in3_3,weight_in0,weight_in1,weight_in2,weight_in3,weight_in4,weight_in1_0,weight_in2_0,weight_in3_0,weight_in4_0,weight_in2_1,weight_in3_1,weight_in4_1,weight_in3_2,weight_in4_2,weight_in4_3):\n",
      "\n",
      "\n",
      "\tu = y[0]\n",
      "\tu_0 = y[1]\n",
      "\tu_1 = y[2]\n",
      "\tu_2 = y[3]\n",
      "\tu_3 = y[4]\n",
      "\tr_in0 = tanh(u)\n",
      "\tr_in_in0_0 = r_in0*weight_in0_0\n",
      "\tr_in1 = tanh(u_0)\n",
      "\tr_in_in0_1 = r_in0*weight_in0_1\n",
      "\tr_in_in1_1 = r_in1*weight_in1_1\n",
      "\tr_in2 = tanh(u_1)\n",
      "\tr_in_in0_2 = r_in0*weight_in0_2\n",
      "\tr_in_in1_2 = r_in1*weight_in1_2\n",
      "\tr_in_in2_2 = r_in2*weight_in2_2\n",
      "\tr_in3 = tanh(u_2)\n",
      "\tr_in_in0_3 = r_in0*weight_in0_3\n",
      "\tr_in_in1_3 = r_in1*weight_in1_3\n",
      "\tr_in_in2_3 = r_in2*weight_in2_3\n",
      "\tr_in_in3_3 = r_in3*weight_in3_3\n",
      "\tr_in4 = tanh(u_3)\n",
      "\tr_in_in0 = r_in0*weight_in0\n",
      "\tr_in_in1 = r_in1*weight_in1\n",
      "\tr_in_in2 = r_in2*weight_in2\n",
      "\tr_in_in3 = r_in3*weight_in3\n",
      "\tr_in_in4 = r_in4*weight_in4\n",
      "\tr_in = r_in_in0 + r_in_in1 + r_in_in2 + r_in_in3 + r_in_in4\n",
      "\tr_in_in1_0 = r_in1*weight_in1_0\n",
      "\tr_in_in2_0 = r_in2*weight_in2_0\n",
      "\tr_in_in3_0 = r_in3*weight_in3_0\n",
      "\tr_in_in4_0 = r_in4*weight_in4_0\n",
      "\tr_in_0 = r_in_in0_0 + r_in_in1_0 + r_in_in2_0 + r_in_in3_0 + r_in_in4_0\n",
      "\tr_in_in2_1 = r_in2*weight_in2_1\n",
      "\tr_in_in3_1 = r_in3*weight_in3_1\n",
      "\tr_in_in4_1 = r_in4*weight_in4_1\n",
      "\tr_in_1 = r_in_in0_1 + r_in_in1_1 + r_in_in2_1 + r_in_in3_1 + r_in_in4_1\n",
      "\tr_in_in3_2 = r_in3*weight_in3_2\n",
      "\tr_in_in4_2 = r_in4*weight_in4_2\n",
      "\tr_in_2 = r_in_in0_2 + r_in_in1_2 + r_in_in2_2 + r_in_in3_2 + r_in_in4_2\n",
      "\tr_in_in4_3 = r_in4*weight_in4_3\n",
      "\tr_in_3 = r_in_in0_3 + r_in_in1_3 + r_in_in2_3 + r_in_in3_3 + r_in_in4_3\n",
      "\t\n",
      "\tdy[0] = I_ext + k*r_in - u/tau\n",
      "\tdy[1] = I_ext_0 + k_0*r_in_0 - u_0/tau_0\n",
      "\tdy[2] = I_ext_1 + k_1*r_in_1 - u_1/tau_1\n",
      "\tdy[3] = I_ext_2 + k_2*r_in_2 - u_2/tau_2\n",
      "\tdy[4] = I_ext_3 + k_3*r_in_3 - u_3/tau_3\n",
      "\n",
      "\treturn dy\n"
     ]
    }
   ],
   "source": [
    "f = open(\"numpy_func.py\", \"r\")\n",
    "print(\"\")\n",
    "print(f.read())\n",
    "f.close()\n",
    "\n",
    "from pyrates import clear\n",
    "clear(net)"
   ]
  },
  {
   "cell_type": "code",
   "execution_count": 25,
   "id": "d3bd8393",
   "metadata": {
    "slideshow": {
     "slide_type": "fragment"
    }
   },
   "outputs": [
    {
     "name": "stdout",
     "output_type": "stream",
     "text": [
      "Compilation Progress\n",
      "--------------------\n",
      "\t(1) Translating the circuit template into a networkx graph representation...\n",
      "\t\t...finished.\n",
      "\t(2) Preprocessing edge transmission operations...\n",
      "\t\t...finished.\n",
      "\t(3) Parsing the model equations into a compute graph...\n"
     ]
    },
    {
     "name": "stderr",
     "output_type": "stream",
     "text": [
      "2022-09-23 11:19:06.842644: I tensorflow/core/platform/cpu_feature_guard.cc:193] This TensorFlow binary is optimized with oneAPI Deep Neural Network Library (oneDNN) to use the following CPU instructions in performance-critical operations:  AVX2 AVX_VNNI FMA\n",
      "To enable them in other operations, rebuild TensorFlow with the appropriate compiler flags.\n",
      "2022-09-23 11:19:07.010226: I tensorflow/core/util/util.cc:169] oneDNN custom operations are on. You may see slightly different numerical results due to floating-point round-off errors from different computation orders. To turn them off, set the environment variable `TF_ENABLE_ONEDNN_OPTS=0`.\n",
      "2022-09-23 11:19:07.015999: W tensorflow/stream_executor/platform/default/dso_loader.cc:64] Could not load dynamic library 'libcudart.so.11.0'; dlerror: libcudart.so.11.0: cannot open shared object file: No such file or directory\n",
      "2022-09-23 11:19:07.016016: I tensorflow/stream_executor/cuda/cudart_stub.cc:29] Ignore above cudart dlerror if you do not have a GPU set up on your machine.\n",
      "2022-09-23 11:19:07.045289: E tensorflow/stream_executor/cuda/cuda_blas.cc:2981] Unable to register cuBLAS factory: Attempting to register factory for plugin cuBLAS when one has already been registered\n",
      "2022-09-23 11:19:07.562913: W tensorflow/stream_executor/platform/default/dso_loader.cc:64] Could not load dynamic library 'libnvinfer.so.7'; dlerror: libnvinfer.so.7: cannot open shared object file: No such file or directory\n",
      "2022-09-23 11:19:07.562973: W tensorflow/stream_executor/platform/default/dso_loader.cc:64] Could not load dynamic library 'libnvinfer_plugin.so.7'; dlerror: libnvinfer_plugin.so.7: cannot open shared object file: No such file or directory\n",
      "2022-09-23 11:19:07.562983: W tensorflow/compiler/tf2tensorrt/utils/py_utils.cc:38] TF-TRT Warning: Cannot dlopen some TensorRT libraries. If you would like to use Nvidia GPU with TensorRT, please make sure the missing libraries mentioned above are installed properly.\n"
     ]
    },
    {
     "name": "stdout",
     "output_type": "stream",
     "text": [
      "\t\t...finished.\n",
      "\tModel compilation was finished.\n"
     ]
    },
    {
     "name": "stderr",
     "output_type": "stream",
     "text": [
      "2022-09-23 11:19:08.036012: W tensorflow/stream_executor/platform/default/dso_loader.cc:64] Could not load dynamic library 'libcuda.so.1'; dlerror: libcuda.so.1: cannot open shared object file: No such file or directory\n",
      "2022-09-23 11:19:08.036040: W tensorflow/stream_executor/cuda/cuda_driver.cc:263] failed call to cuInit: UNKNOWN ERROR (303)\n",
      "2022-09-23 11:19:08.036055: I tensorflow/stream_executor/cuda/cuda_diagnostics.cc:156] kernel driver does not appear to be running on this host (ubuntu): /proc/driver/nvidia/version does not exist\n",
      "2022-09-23 11:19:08.036262: I tensorflow/core/platform/cpu_feature_guard.cc:193] This TensorFlow binary is optimized with oneAPI Deep Neural Network Library (oneDNN) to use the following CPU instructions in performance-critical operations:  AVX2 AVX_VNNI FMA\n",
      "To enable them in other operations, rebuild TensorFlow with the appropriate compiler flags.\n"
     ]
    }
   ],
   "source": [
    "_ = net.get_run_func(\"vecfield\", file_name=\"tf_func\", \n",
    "                     step_size=dt, backend=\"tensorflow\", \n",
    "                     in_place=False, vectorize=True)"
   ]
  },
  {
   "cell_type": "code",
   "execution_count": 26,
   "id": "25413516",
   "metadata": {
    "slideshow": {
     "slide_type": "fragment"
    }
   },
   "outputs": [
    {
     "name": "stdout",
     "output_type": "stream",
     "text": [
      "\n",
      "from numpy import pi, sqrt\n",
      "from tensorflow.linalg import matvec\n",
      "from tensorflow import tanh\n",
      "\n",
      "\n",
      "def vecfield(t,y,dy,tau,k,I_ext,weight):\n",
      "\n",
      "\n",
      "\tu = y[0:5]\n",
      "\tr = tanh(u)\n",
      "\tr_in = matvec(weight, r)\n",
      "\t\n",
      "\tdy.scatter_nd_update([[0], [1], [2], [3], [4]], I_ext + k*r_in - u/tau)\n",
      "\n",
      "\treturn dy\n"
     ]
    }
   ],
   "source": [
    "f = open(\"tf_func.py\", \"r\")\n",
    "print(\"\")\n",
    "print(f.read())\n",
    "f.close()\n",
    "\n",
    "clear(net)"
   ]
  },
  {
   "cell_type": "markdown",
   "id": "deedd071",
   "metadata": {
    "slideshow": {
     "slide_type": "slide"
    }
   },
   "source": [
    "## Example 1: Parameter sweep\n",
    "\n",
    "<br/>\n",
    "\n",
    "<span style=\"font-size:20pt\">\n",
    "$$ \\dot u_i = -\\frac{u_i}{\\tau} + I_{ext}(t) + k \\sum_{j=1}^{N} J_{ij} \\tanh (u_j)$$\n",
    "</span>\n",
    "\n",
    "We perform a parameter sweep over global coupling constant $k$ and global decay time constant $\\tau$"
   ]
  },
  {
   "cell_type": "code",
   "execution_count": 28,
   "id": "37b38d3f",
   "metadata": {
    "slideshow": {
     "slide_type": "fragment"
    }
   },
   "outputs": [],
   "source": [
    "from pyrates import grid_search\n",
    "\n",
    "# define sweep\n",
    "ks = np.asarray([0.25, 0.5, 1.0, 2.0, 4.0])\n",
    "taus = np.asarray([0.25, 0.5, 1.0, 2.0, 4.0])\n",
    "\n",
    "# pointers to model parameters\n",
    "param_map = {\"k\": {\"vars\": [\"li_op/k\"], \"nodes\": nodes}, \n",
    "             \"tau\": {\"vars\": [\"li_op/tau\"], \"nodes\": nodes}}"
   ]
  },
  {
   "cell_type": "code",
   "execution_count": 29,
   "id": "ed968fce",
   "metadata": {
    "slideshow": {
     "slide_type": "fragment"
    }
   },
   "outputs": [
    {
     "name": "stdout",
     "output_type": "stream",
     "text": [
      "Compilation Progress\n",
      "--------------------\n",
      "\t(1) Translating the circuit template into a networkx graph representation...\n",
      "\t\t...finished.\n",
      "\t(2) Preprocessing edge transmission operations...\n",
      "\t\t...finished.\n",
      "\t(3) Parsing the model equations into a compute graph...\n",
      "\t\t...finished.\n",
      "\tModel compilation was finished.\n",
      "Simulation Progress\n",
      "-------------------\n",
      "\t (1) Generating the network run function...\n",
      "\t (2) Processing output variables...\n",
      "\t\t...finished.\n",
      "\t (3) Running the simulation...\n"
     ]
    },
    {
     "name": "stderr",
     "output_type": "stream",
     "text": [
      "/home/rgast/anaconda3/envs/ds/lib/python3.10/site-packages/scipy-1.9.1-py3.10-linux-x86_64.egg/scipy/integrate/_ivp/common.py:39: UserWarning: The following arguments have no effect for a chosen solver: `vectorization`.\n",
      "  warn(\"The following arguments have no effect for a chosen solver: {}.\"\n"
     ]
    },
    {
     "name": "stdout",
     "output_type": "stream",
     "text": [
      "\t\t...finished after 0.3047022319997268s.\n"
     ]
    }
   ],
   "source": [
    "# integration time and step-size\n",
    "T = 10.0\n",
    "dt = 1e-3\n",
    "\n",
    "# perform sweep\n",
    "res, mapping = grid_search(\n",
    "    net, param_grid={\"k\": ks, \"tau\": taus}, param_map=param_map, permute_grid=True,\n",
    "    simulation_time=T, step_size=dt, solver=\"scipy\", method=\"RK45\",\n",
    "    outputs={\"u\": \"all/li_op/u\"}, inputs={f\"n_{target_neuron}/li_op/I_ext\": I_ext[:, target_neuron]}\n",
    ")"
   ]
  },
  {
   "cell_type": "markdown",
   "id": "4879cdc9",
   "metadata": {
    "slideshow": {
     "slide_type": "subslide"
    }
   },
   "source": [
    "### Example 1: Results"
   ]
  },
  {
   "cell_type": "code",
   "execution_count": 30,
   "id": "7ea28d66",
   "metadata": {
    "slideshow": {
     "slide_type": "fragment"
    }
   },
   "outputs": [],
   "source": [
    "C = np.zeros((len(ks), len(taus)))\n",
    "for col, tau in enumerate(taus):\n",
    "    for row, k in enumerate(ks):\n",
    "        idx = (mapping[\"k\"] - k < 0.1) & (mapping[\"tau\"] - tau < 0.1)\n",
    "        data = res[\"u\"][mapping.index[idx]]\n",
    "        v = np.std(data, axis=0)\n",
    "        C[row, col] = np.mean(v[:])"
   ]
  },
  {
   "cell_type": "code",
   "execution_count": 31,
   "id": "684dc0d8",
   "metadata": {
    "slideshow": {
     "slide_type": "fragment"
    }
   },
   "outputs": [
    {
     "data": {
      "application/javascript": [
       "/* Put everything inside the global mpl namespace */\n",
       "/* global mpl */\n",
       "window.mpl = {};\n",
       "\n",
       "mpl.get_websocket_type = function () {\n",
       "    if (typeof WebSocket !== 'undefined') {\n",
       "        return WebSocket;\n",
       "    } else if (typeof MozWebSocket !== 'undefined') {\n",
       "        return MozWebSocket;\n",
       "    } else {\n",
       "        alert(\n",
       "            'Your browser does not have WebSocket support. ' +\n",
       "                'Please try Chrome, Safari or Firefox ≥ 6. ' +\n",
       "                'Firefox 4 and 5 are also supported but you ' +\n",
       "                'have to enable WebSockets in about:config.'\n",
       "        );\n",
       "    }\n",
       "};\n",
       "\n",
       "mpl.figure = function (figure_id, websocket, ondownload, parent_element) {\n",
       "    this.id = figure_id;\n",
       "\n",
       "    this.ws = websocket;\n",
       "\n",
       "    this.supports_binary = this.ws.binaryType !== undefined;\n",
       "\n",
       "    if (!this.supports_binary) {\n",
       "        var warnings = document.getElementById('mpl-warnings');\n",
       "        if (warnings) {\n",
       "            warnings.style.display = 'block';\n",
       "            warnings.textContent =\n",
       "                'This browser does not support binary websocket messages. ' +\n",
       "                'Performance may be slow.';\n",
       "        }\n",
       "    }\n",
       "\n",
       "    this.imageObj = new Image();\n",
       "\n",
       "    this.context = undefined;\n",
       "    this.message = undefined;\n",
       "    this.canvas = undefined;\n",
       "    this.rubberband_canvas = undefined;\n",
       "    this.rubberband_context = undefined;\n",
       "    this.format_dropdown = undefined;\n",
       "\n",
       "    this.image_mode = 'full';\n",
       "\n",
       "    this.root = document.createElement('div');\n",
       "    this.root.setAttribute('style', 'display: inline-block');\n",
       "    this._root_extra_style(this.root);\n",
       "\n",
       "    parent_element.appendChild(this.root);\n",
       "\n",
       "    this._init_header(this);\n",
       "    this._init_canvas(this);\n",
       "    this._init_toolbar(this);\n",
       "\n",
       "    var fig = this;\n",
       "\n",
       "    this.waiting = false;\n",
       "\n",
       "    this.ws.onopen = function () {\n",
       "        fig.send_message('supports_binary', { value: fig.supports_binary });\n",
       "        fig.send_message('send_image_mode', {});\n",
       "        if (fig.ratio !== 1) {\n",
       "            fig.send_message('set_device_pixel_ratio', {\n",
       "                device_pixel_ratio: fig.ratio,\n",
       "            });\n",
       "        }\n",
       "        fig.send_message('refresh', {});\n",
       "    };\n",
       "\n",
       "    this.imageObj.onload = function () {\n",
       "        if (fig.image_mode === 'full') {\n",
       "            // Full images could contain transparency (where diff images\n",
       "            // almost always do), so we need to clear the canvas so that\n",
       "            // there is no ghosting.\n",
       "            fig.context.clearRect(0, 0, fig.canvas.width, fig.canvas.height);\n",
       "        }\n",
       "        fig.context.drawImage(fig.imageObj, 0, 0);\n",
       "    };\n",
       "\n",
       "    this.imageObj.onunload = function () {\n",
       "        fig.ws.close();\n",
       "    };\n",
       "\n",
       "    this.ws.onmessage = this._make_on_message_function(this);\n",
       "\n",
       "    this.ondownload = ondownload;\n",
       "};\n",
       "\n",
       "mpl.figure.prototype._init_header = function () {\n",
       "    var titlebar = document.createElement('div');\n",
       "    titlebar.classList =\n",
       "        'ui-dialog-titlebar ui-widget-header ui-corner-all ui-helper-clearfix';\n",
       "    var titletext = document.createElement('div');\n",
       "    titletext.classList = 'ui-dialog-title';\n",
       "    titletext.setAttribute(\n",
       "        'style',\n",
       "        'width: 100%; text-align: center; padding: 3px;'\n",
       "    );\n",
       "    titlebar.appendChild(titletext);\n",
       "    this.root.appendChild(titlebar);\n",
       "    this.header = titletext;\n",
       "};\n",
       "\n",
       "mpl.figure.prototype._canvas_extra_style = function (_canvas_div) {};\n",
       "\n",
       "mpl.figure.prototype._root_extra_style = function (_canvas_div) {};\n",
       "\n",
       "mpl.figure.prototype._init_canvas = function () {\n",
       "    var fig = this;\n",
       "\n",
       "    var canvas_div = (this.canvas_div = document.createElement('div'));\n",
       "    canvas_div.setAttribute(\n",
       "        'style',\n",
       "        'border: 1px solid #ddd;' +\n",
       "            'box-sizing: content-box;' +\n",
       "            'clear: both;' +\n",
       "            'min-height: 1px;' +\n",
       "            'min-width: 1px;' +\n",
       "            'outline: 0;' +\n",
       "            'overflow: hidden;' +\n",
       "            'position: relative;' +\n",
       "            'resize: both;'\n",
       "    );\n",
       "\n",
       "    function on_keyboard_event_closure(name) {\n",
       "        return function (event) {\n",
       "            return fig.key_event(event, name);\n",
       "        };\n",
       "    }\n",
       "\n",
       "    canvas_div.addEventListener(\n",
       "        'keydown',\n",
       "        on_keyboard_event_closure('key_press')\n",
       "    );\n",
       "    canvas_div.addEventListener(\n",
       "        'keyup',\n",
       "        on_keyboard_event_closure('key_release')\n",
       "    );\n",
       "\n",
       "    this._canvas_extra_style(canvas_div);\n",
       "    this.root.appendChild(canvas_div);\n",
       "\n",
       "    var canvas = (this.canvas = document.createElement('canvas'));\n",
       "    canvas.classList.add('mpl-canvas');\n",
       "    canvas.setAttribute('style', 'box-sizing: content-box;');\n",
       "\n",
       "    this.context = canvas.getContext('2d');\n",
       "\n",
       "    var backingStore =\n",
       "        this.context.backingStorePixelRatio ||\n",
       "        this.context.webkitBackingStorePixelRatio ||\n",
       "        this.context.mozBackingStorePixelRatio ||\n",
       "        this.context.msBackingStorePixelRatio ||\n",
       "        this.context.oBackingStorePixelRatio ||\n",
       "        this.context.backingStorePixelRatio ||\n",
       "        1;\n",
       "\n",
       "    this.ratio = (window.devicePixelRatio || 1) / backingStore;\n",
       "\n",
       "    var rubberband_canvas = (this.rubberband_canvas = document.createElement(\n",
       "        'canvas'\n",
       "    ));\n",
       "    rubberband_canvas.setAttribute(\n",
       "        'style',\n",
       "        'box-sizing: content-box; position: absolute; left: 0; top: 0; z-index: 1;'\n",
       "    );\n",
       "\n",
       "    // Apply a ponyfill if ResizeObserver is not implemented by browser.\n",
       "    if (this.ResizeObserver === undefined) {\n",
       "        if (window.ResizeObserver !== undefined) {\n",
       "            this.ResizeObserver = window.ResizeObserver;\n",
       "        } else {\n",
       "            var obs = _JSXTOOLS_RESIZE_OBSERVER({});\n",
       "            this.ResizeObserver = obs.ResizeObserver;\n",
       "        }\n",
       "    }\n",
       "\n",
       "    this.resizeObserverInstance = new this.ResizeObserver(function (entries) {\n",
       "        var nentries = entries.length;\n",
       "        for (var i = 0; i < nentries; i++) {\n",
       "            var entry = entries[i];\n",
       "            var width, height;\n",
       "            if (entry.contentBoxSize) {\n",
       "                if (entry.contentBoxSize instanceof Array) {\n",
       "                    // Chrome 84 implements new version of spec.\n",
       "                    width = entry.contentBoxSize[0].inlineSize;\n",
       "                    height = entry.contentBoxSize[0].blockSize;\n",
       "                } else {\n",
       "                    // Firefox implements old version of spec.\n",
       "                    width = entry.contentBoxSize.inlineSize;\n",
       "                    height = entry.contentBoxSize.blockSize;\n",
       "                }\n",
       "            } else {\n",
       "                // Chrome <84 implements even older version of spec.\n",
       "                width = entry.contentRect.width;\n",
       "                height = entry.contentRect.height;\n",
       "            }\n",
       "\n",
       "            // Keep the size of the canvas and rubber band canvas in sync with\n",
       "            // the canvas container.\n",
       "            if (entry.devicePixelContentBoxSize) {\n",
       "                // Chrome 84 implements new version of spec.\n",
       "                canvas.setAttribute(\n",
       "                    'width',\n",
       "                    entry.devicePixelContentBoxSize[0].inlineSize\n",
       "                );\n",
       "                canvas.setAttribute(\n",
       "                    'height',\n",
       "                    entry.devicePixelContentBoxSize[0].blockSize\n",
       "                );\n",
       "            } else {\n",
       "                canvas.setAttribute('width', width * fig.ratio);\n",
       "                canvas.setAttribute('height', height * fig.ratio);\n",
       "            }\n",
       "            canvas.setAttribute(\n",
       "                'style',\n",
       "                'width: ' + width + 'px; height: ' + height + 'px;'\n",
       "            );\n",
       "\n",
       "            rubberband_canvas.setAttribute('width', width);\n",
       "            rubberband_canvas.setAttribute('height', height);\n",
       "\n",
       "            // And update the size in Python. We ignore the initial 0/0 size\n",
       "            // that occurs as the element is placed into the DOM, which should\n",
       "            // otherwise not happen due to the minimum size styling.\n",
       "            if (fig.ws.readyState == 1 && width != 0 && height != 0) {\n",
       "                fig.request_resize(width, height);\n",
       "            }\n",
       "        }\n",
       "    });\n",
       "    this.resizeObserverInstance.observe(canvas_div);\n",
       "\n",
       "    function on_mouse_event_closure(name) {\n",
       "        return function (event) {\n",
       "            return fig.mouse_event(event, name);\n",
       "        };\n",
       "    }\n",
       "\n",
       "    rubberband_canvas.addEventListener(\n",
       "        'mousedown',\n",
       "        on_mouse_event_closure('button_press')\n",
       "    );\n",
       "    rubberband_canvas.addEventListener(\n",
       "        'mouseup',\n",
       "        on_mouse_event_closure('button_release')\n",
       "    );\n",
       "    rubberband_canvas.addEventListener(\n",
       "        'dblclick',\n",
       "        on_mouse_event_closure('dblclick')\n",
       "    );\n",
       "    // Throttle sequential mouse events to 1 every 20ms.\n",
       "    rubberband_canvas.addEventListener(\n",
       "        'mousemove',\n",
       "        on_mouse_event_closure('motion_notify')\n",
       "    );\n",
       "\n",
       "    rubberband_canvas.addEventListener(\n",
       "        'mouseenter',\n",
       "        on_mouse_event_closure('figure_enter')\n",
       "    );\n",
       "    rubberband_canvas.addEventListener(\n",
       "        'mouseleave',\n",
       "        on_mouse_event_closure('figure_leave')\n",
       "    );\n",
       "\n",
       "    canvas_div.addEventListener('wheel', function (event) {\n",
       "        if (event.deltaY < 0) {\n",
       "            event.step = 1;\n",
       "        } else {\n",
       "            event.step = -1;\n",
       "        }\n",
       "        on_mouse_event_closure('scroll')(event);\n",
       "    });\n",
       "\n",
       "    canvas_div.appendChild(canvas);\n",
       "    canvas_div.appendChild(rubberband_canvas);\n",
       "\n",
       "    this.rubberband_context = rubberband_canvas.getContext('2d');\n",
       "    this.rubberband_context.strokeStyle = '#000000';\n",
       "\n",
       "    this._resize_canvas = function (width, height, forward) {\n",
       "        if (forward) {\n",
       "            canvas_div.style.width = width + 'px';\n",
       "            canvas_div.style.height = height + 'px';\n",
       "        }\n",
       "    };\n",
       "\n",
       "    // Disable right mouse context menu.\n",
       "    this.rubberband_canvas.addEventListener('contextmenu', function (_e) {\n",
       "        event.preventDefault();\n",
       "        return false;\n",
       "    });\n",
       "\n",
       "    function set_focus() {\n",
       "        canvas.focus();\n",
       "        canvas_div.focus();\n",
       "    }\n",
       "\n",
       "    window.setTimeout(set_focus, 100);\n",
       "};\n",
       "\n",
       "mpl.figure.prototype._init_toolbar = function () {\n",
       "    var fig = this;\n",
       "\n",
       "    var toolbar = document.createElement('div');\n",
       "    toolbar.classList = 'mpl-toolbar';\n",
       "    this.root.appendChild(toolbar);\n",
       "\n",
       "    function on_click_closure(name) {\n",
       "        return function (_event) {\n",
       "            return fig.toolbar_button_onclick(name);\n",
       "        };\n",
       "    }\n",
       "\n",
       "    function on_mouseover_closure(tooltip) {\n",
       "        return function (event) {\n",
       "            if (!event.currentTarget.disabled) {\n",
       "                return fig.toolbar_button_onmouseover(tooltip);\n",
       "            }\n",
       "        };\n",
       "    }\n",
       "\n",
       "    fig.buttons = {};\n",
       "    var buttonGroup = document.createElement('div');\n",
       "    buttonGroup.classList = 'mpl-button-group';\n",
       "    for (var toolbar_ind in mpl.toolbar_items) {\n",
       "        var name = mpl.toolbar_items[toolbar_ind][0];\n",
       "        var tooltip = mpl.toolbar_items[toolbar_ind][1];\n",
       "        var image = mpl.toolbar_items[toolbar_ind][2];\n",
       "        var method_name = mpl.toolbar_items[toolbar_ind][3];\n",
       "\n",
       "        if (!name) {\n",
       "            /* Instead of a spacer, we start a new button group. */\n",
       "            if (buttonGroup.hasChildNodes()) {\n",
       "                toolbar.appendChild(buttonGroup);\n",
       "            }\n",
       "            buttonGroup = document.createElement('div');\n",
       "            buttonGroup.classList = 'mpl-button-group';\n",
       "            continue;\n",
       "        }\n",
       "\n",
       "        var button = (fig.buttons[name] = document.createElement('button'));\n",
       "        button.classList = 'mpl-widget';\n",
       "        button.setAttribute('role', 'button');\n",
       "        button.setAttribute('aria-disabled', 'false');\n",
       "        button.addEventListener('click', on_click_closure(method_name));\n",
       "        button.addEventListener('mouseover', on_mouseover_closure(tooltip));\n",
       "\n",
       "        var icon_img = document.createElement('img');\n",
       "        icon_img.src = '_images/' + image + '.png';\n",
       "        icon_img.srcset = '_images/' + image + '_large.png 2x';\n",
       "        icon_img.alt = tooltip;\n",
       "        button.appendChild(icon_img);\n",
       "\n",
       "        buttonGroup.appendChild(button);\n",
       "    }\n",
       "\n",
       "    if (buttonGroup.hasChildNodes()) {\n",
       "        toolbar.appendChild(buttonGroup);\n",
       "    }\n",
       "\n",
       "    var fmt_picker = document.createElement('select');\n",
       "    fmt_picker.classList = 'mpl-widget';\n",
       "    toolbar.appendChild(fmt_picker);\n",
       "    this.format_dropdown = fmt_picker;\n",
       "\n",
       "    for (var ind in mpl.extensions) {\n",
       "        var fmt = mpl.extensions[ind];\n",
       "        var option = document.createElement('option');\n",
       "        option.selected = fmt === mpl.default_extension;\n",
       "        option.innerHTML = fmt;\n",
       "        fmt_picker.appendChild(option);\n",
       "    }\n",
       "\n",
       "    var status_bar = document.createElement('span');\n",
       "    status_bar.classList = 'mpl-message';\n",
       "    toolbar.appendChild(status_bar);\n",
       "    this.message = status_bar;\n",
       "};\n",
       "\n",
       "mpl.figure.prototype.request_resize = function (x_pixels, y_pixels) {\n",
       "    // Request matplotlib to resize the figure. Matplotlib will then trigger a resize in the client,\n",
       "    // which will in turn request a refresh of the image.\n",
       "    this.send_message('resize', { width: x_pixels, height: y_pixels });\n",
       "};\n",
       "\n",
       "mpl.figure.prototype.send_message = function (type, properties) {\n",
       "    properties['type'] = type;\n",
       "    properties['figure_id'] = this.id;\n",
       "    this.ws.send(JSON.stringify(properties));\n",
       "};\n",
       "\n",
       "mpl.figure.prototype.send_draw_message = function () {\n",
       "    if (!this.waiting) {\n",
       "        this.waiting = true;\n",
       "        this.ws.send(JSON.stringify({ type: 'draw', figure_id: this.id }));\n",
       "    }\n",
       "};\n",
       "\n",
       "mpl.figure.prototype.handle_save = function (fig, _msg) {\n",
       "    var format_dropdown = fig.format_dropdown;\n",
       "    var format = format_dropdown.options[format_dropdown.selectedIndex].value;\n",
       "    fig.ondownload(fig, format);\n",
       "};\n",
       "\n",
       "mpl.figure.prototype.handle_resize = function (fig, msg) {\n",
       "    var size = msg['size'];\n",
       "    if (size[0] !== fig.canvas.width || size[1] !== fig.canvas.height) {\n",
       "        fig._resize_canvas(size[0], size[1], msg['forward']);\n",
       "        fig.send_message('refresh', {});\n",
       "    }\n",
       "};\n",
       "\n",
       "mpl.figure.prototype.handle_rubberband = function (fig, msg) {\n",
       "    var x0 = msg['x0'] / fig.ratio;\n",
       "    var y0 = (fig.canvas.height - msg['y0']) / fig.ratio;\n",
       "    var x1 = msg['x1'] / fig.ratio;\n",
       "    var y1 = (fig.canvas.height - msg['y1']) / fig.ratio;\n",
       "    x0 = Math.floor(x0) + 0.5;\n",
       "    y0 = Math.floor(y0) + 0.5;\n",
       "    x1 = Math.floor(x1) + 0.5;\n",
       "    y1 = Math.floor(y1) + 0.5;\n",
       "    var min_x = Math.min(x0, x1);\n",
       "    var min_y = Math.min(y0, y1);\n",
       "    var width = Math.abs(x1 - x0);\n",
       "    var height = Math.abs(y1 - y0);\n",
       "\n",
       "    fig.rubberband_context.clearRect(\n",
       "        0,\n",
       "        0,\n",
       "        fig.canvas.width / fig.ratio,\n",
       "        fig.canvas.height / fig.ratio\n",
       "    );\n",
       "\n",
       "    fig.rubberband_context.strokeRect(min_x, min_y, width, height);\n",
       "};\n",
       "\n",
       "mpl.figure.prototype.handle_figure_label = function (fig, msg) {\n",
       "    // Updates the figure title.\n",
       "    fig.header.textContent = msg['label'];\n",
       "};\n",
       "\n",
       "mpl.figure.prototype.handle_cursor = function (fig, msg) {\n",
       "    fig.rubberband_canvas.style.cursor = msg['cursor'];\n",
       "};\n",
       "\n",
       "mpl.figure.prototype.handle_message = function (fig, msg) {\n",
       "    fig.message.textContent = msg['message'];\n",
       "};\n",
       "\n",
       "mpl.figure.prototype.handle_draw = function (fig, _msg) {\n",
       "    // Request the server to send over a new figure.\n",
       "    fig.send_draw_message();\n",
       "};\n",
       "\n",
       "mpl.figure.prototype.handle_image_mode = function (fig, msg) {\n",
       "    fig.image_mode = msg['mode'];\n",
       "};\n",
       "\n",
       "mpl.figure.prototype.handle_history_buttons = function (fig, msg) {\n",
       "    for (var key in msg) {\n",
       "        if (!(key in fig.buttons)) {\n",
       "            continue;\n",
       "        }\n",
       "        fig.buttons[key].disabled = !msg[key];\n",
       "        fig.buttons[key].setAttribute('aria-disabled', !msg[key]);\n",
       "    }\n",
       "};\n",
       "\n",
       "mpl.figure.prototype.handle_navigate_mode = function (fig, msg) {\n",
       "    if (msg['mode'] === 'PAN') {\n",
       "        fig.buttons['Pan'].classList.add('active');\n",
       "        fig.buttons['Zoom'].classList.remove('active');\n",
       "    } else if (msg['mode'] === 'ZOOM') {\n",
       "        fig.buttons['Pan'].classList.remove('active');\n",
       "        fig.buttons['Zoom'].classList.add('active');\n",
       "    } else {\n",
       "        fig.buttons['Pan'].classList.remove('active');\n",
       "        fig.buttons['Zoom'].classList.remove('active');\n",
       "    }\n",
       "};\n",
       "\n",
       "mpl.figure.prototype.updated_canvas_event = function () {\n",
       "    // Called whenever the canvas gets updated.\n",
       "    this.send_message('ack', {});\n",
       "};\n",
       "\n",
       "// A function to construct a web socket function for onmessage handling.\n",
       "// Called in the figure constructor.\n",
       "mpl.figure.prototype._make_on_message_function = function (fig) {\n",
       "    return function socket_on_message(evt) {\n",
       "        if (evt.data instanceof Blob) {\n",
       "            var img = evt.data;\n",
       "            if (img.type !== 'image/png') {\n",
       "                /* FIXME: We get \"Resource interpreted as Image but\n",
       "                 * transferred with MIME type text/plain:\" errors on\n",
       "                 * Chrome.  But how to set the MIME type?  It doesn't seem\n",
       "                 * to be part of the websocket stream */\n",
       "                img.type = 'image/png';\n",
       "            }\n",
       "\n",
       "            /* Free the memory for the previous frames */\n",
       "            if (fig.imageObj.src) {\n",
       "                (window.URL || window.webkitURL).revokeObjectURL(\n",
       "                    fig.imageObj.src\n",
       "                );\n",
       "            }\n",
       "\n",
       "            fig.imageObj.src = (window.URL || window.webkitURL).createObjectURL(\n",
       "                img\n",
       "            );\n",
       "            fig.updated_canvas_event();\n",
       "            fig.waiting = false;\n",
       "            return;\n",
       "        } else if (\n",
       "            typeof evt.data === 'string' &&\n",
       "            evt.data.slice(0, 21) === 'data:image/png;base64'\n",
       "        ) {\n",
       "            fig.imageObj.src = evt.data;\n",
       "            fig.updated_canvas_event();\n",
       "            fig.waiting = false;\n",
       "            return;\n",
       "        }\n",
       "\n",
       "        var msg = JSON.parse(evt.data);\n",
       "        var msg_type = msg['type'];\n",
       "\n",
       "        // Call the  \"handle_{type}\" callback, which takes\n",
       "        // the figure and JSON message as its only arguments.\n",
       "        try {\n",
       "            var callback = fig['handle_' + msg_type];\n",
       "        } catch (e) {\n",
       "            console.log(\n",
       "                \"No handler for the '\" + msg_type + \"' message type: \",\n",
       "                msg\n",
       "            );\n",
       "            return;\n",
       "        }\n",
       "\n",
       "        if (callback) {\n",
       "            try {\n",
       "                // console.log(\"Handling '\" + msg_type + \"' message: \", msg);\n",
       "                callback(fig, msg);\n",
       "            } catch (e) {\n",
       "                console.log(\n",
       "                    \"Exception inside the 'handler_\" + msg_type + \"' callback:\",\n",
       "                    e,\n",
       "                    e.stack,\n",
       "                    msg\n",
       "                );\n",
       "            }\n",
       "        }\n",
       "    };\n",
       "};\n",
       "\n",
       "// from https://stackoverflow.com/questions/1114465/getting-mouse-location-in-canvas\n",
       "mpl.findpos = function (e) {\n",
       "    //this section is from http://www.quirksmode.org/js/events_properties.html\n",
       "    var targ;\n",
       "    if (!e) {\n",
       "        e = window.event;\n",
       "    }\n",
       "    if (e.target) {\n",
       "        targ = e.target;\n",
       "    } else if (e.srcElement) {\n",
       "        targ = e.srcElement;\n",
       "    }\n",
       "    if (targ.nodeType === 3) {\n",
       "        // defeat Safari bug\n",
       "        targ = targ.parentNode;\n",
       "    }\n",
       "\n",
       "    // pageX,Y are the mouse positions relative to the document\n",
       "    var boundingRect = targ.getBoundingClientRect();\n",
       "    var x = e.pageX - (boundingRect.left + document.body.scrollLeft);\n",
       "    var y = e.pageY - (boundingRect.top + document.body.scrollTop);\n",
       "\n",
       "    return { x: x, y: y };\n",
       "};\n",
       "\n",
       "/*\n",
       " * return a copy of an object with only non-object keys\n",
       " * we need this to avoid circular references\n",
       " * https://stackoverflow.com/a/24161582/3208463\n",
       " */\n",
       "function simpleKeys(original) {\n",
       "    return Object.keys(original).reduce(function (obj, key) {\n",
       "        if (typeof original[key] !== 'object') {\n",
       "            obj[key] = original[key];\n",
       "        }\n",
       "        return obj;\n",
       "    }, {});\n",
       "}\n",
       "\n",
       "mpl.figure.prototype.mouse_event = function (event, name) {\n",
       "    var canvas_pos = mpl.findpos(event);\n",
       "\n",
       "    if (name === 'button_press') {\n",
       "        this.canvas.focus();\n",
       "        this.canvas_div.focus();\n",
       "    }\n",
       "\n",
       "    var x = canvas_pos.x * this.ratio;\n",
       "    var y = canvas_pos.y * this.ratio;\n",
       "\n",
       "    this.send_message(name, {\n",
       "        x: x,\n",
       "        y: y,\n",
       "        button: event.button,\n",
       "        step: event.step,\n",
       "        guiEvent: simpleKeys(event),\n",
       "    });\n",
       "\n",
       "    /* This prevents the web browser from automatically changing to\n",
       "     * the text insertion cursor when the button is pressed.  We want\n",
       "     * to control all of the cursor setting manually through the\n",
       "     * 'cursor' event from matplotlib */\n",
       "    event.preventDefault();\n",
       "    return false;\n",
       "};\n",
       "\n",
       "mpl.figure.prototype._key_event_extra = function (_event, _name) {\n",
       "    // Handle any extra behaviour associated with a key event\n",
       "};\n",
       "\n",
       "mpl.figure.prototype.key_event = function (event, name) {\n",
       "    // Prevent repeat events\n",
       "    if (name === 'key_press') {\n",
       "        if (event.key === this._key) {\n",
       "            return;\n",
       "        } else {\n",
       "            this._key = event.key;\n",
       "        }\n",
       "    }\n",
       "    if (name === 'key_release') {\n",
       "        this._key = null;\n",
       "    }\n",
       "\n",
       "    var value = '';\n",
       "    if (event.ctrlKey && event.key !== 'Control') {\n",
       "        value += 'ctrl+';\n",
       "    }\n",
       "    else if (event.altKey && event.key !== 'Alt') {\n",
       "        value += 'alt+';\n",
       "    }\n",
       "    else if (event.shiftKey && event.key !== 'Shift') {\n",
       "        value += 'shift+';\n",
       "    }\n",
       "\n",
       "    value += 'k' + event.key;\n",
       "\n",
       "    this._key_event_extra(event, name);\n",
       "\n",
       "    this.send_message(name, { key: value, guiEvent: simpleKeys(event) });\n",
       "    return false;\n",
       "};\n",
       "\n",
       "mpl.figure.prototype.toolbar_button_onclick = function (name) {\n",
       "    if (name === 'download') {\n",
       "        this.handle_save(this, null);\n",
       "    } else {\n",
       "        this.send_message('toolbar_button', { name: name });\n",
       "    }\n",
       "};\n",
       "\n",
       "mpl.figure.prototype.toolbar_button_onmouseover = function (tooltip) {\n",
       "    this.message.textContent = tooltip;\n",
       "};\n",
       "\n",
       "///////////////// REMAINING CONTENT GENERATED BY embed_js.py /////////////////\n",
       "// prettier-ignore\n",
       "var _JSXTOOLS_RESIZE_OBSERVER=function(A){var t,i=new WeakMap,n=new WeakMap,a=new WeakMap,r=new WeakMap,o=new Set;function s(e){if(!(this instanceof s))throw new TypeError(\"Constructor requires 'new' operator\");i.set(this,e)}function h(){throw new TypeError(\"Function is not a constructor\")}function c(e,t,i,n){e=0 in arguments?Number(arguments[0]):0,t=1 in arguments?Number(arguments[1]):0,i=2 in arguments?Number(arguments[2]):0,n=3 in arguments?Number(arguments[3]):0,this.right=(this.x=this.left=e)+(this.width=i),this.bottom=(this.y=this.top=t)+(this.height=n),Object.freeze(this)}function d(){t=requestAnimationFrame(d);var s=new WeakMap,p=new Set;o.forEach((function(t){r.get(t).forEach((function(i){var r=t instanceof window.SVGElement,o=a.get(t),d=r?0:parseFloat(o.paddingTop),f=r?0:parseFloat(o.paddingRight),l=r?0:parseFloat(o.paddingBottom),u=r?0:parseFloat(o.paddingLeft),g=r?0:parseFloat(o.borderTopWidth),m=r?0:parseFloat(o.borderRightWidth),w=r?0:parseFloat(o.borderBottomWidth),b=u+f,F=d+l,v=(r?0:parseFloat(o.borderLeftWidth))+m,W=g+w,y=r?0:t.offsetHeight-W-t.clientHeight,E=r?0:t.offsetWidth-v-t.clientWidth,R=b+v,z=F+W,M=r?t.width:parseFloat(o.width)-R-E,O=r?t.height:parseFloat(o.height)-z-y;if(n.has(t)){var k=n.get(t);if(k[0]===M&&k[1]===O)return}n.set(t,[M,O]);var S=Object.create(h.prototype);S.target=t,S.contentRect=new c(u,d,M,O),s.has(i)||(s.set(i,[]),p.add(i)),s.get(i).push(S)}))})),p.forEach((function(e){i.get(e).call(e,s.get(e),e)}))}return s.prototype.observe=function(i){if(i instanceof window.Element){r.has(i)||(r.set(i,new Set),o.add(i),a.set(i,window.getComputedStyle(i)));var n=r.get(i);n.has(this)||n.add(this),cancelAnimationFrame(t),t=requestAnimationFrame(d)}},s.prototype.unobserve=function(i){if(i instanceof window.Element&&r.has(i)){var n=r.get(i);n.has(this)&&(n.delete(this),n.size||(r.delete(i),o.delete(i))),n.size||r.delete(i),o.size||cancelAnimationFrame(t)}},A.DOMRectReadOnly=c,A.ResizeObserver=s,A.ResizeObserverEntry=h,A}; // eslint-disable-line\n",
       "mpl.toolbar_items = [[\"Home\", \"Reset original view\", \"fa fa-home\", \"home\"], [\"Back\", \"Back to previous view\", \"fa fa-arrow-left\", \"back\"], [\"Forward\", \"Forward to next view\", \"fa fa-arrow-right\", \"forward\"], [\"\", \"\", \"\", \"\"], [\"Pan\", \"Left button pans, Right button zooms\\nx/y fixes axis, CTRL fixes aspect\", \"fa fa-arrows\", \"pan\"], [\"Zoom\", \"Zoom to rectangle\\nx/y fixes axis\", \"fa fa-square-o\", \"zoom\"], [\"\", \"\", \"\", \"\"], [\"Download\", \"Download plot\", \"fa fa-floppy-o\", \"download\"]];\n",
       "\n",
       "mpl.extensions = [\"eps\", \"jpeg\", \"pgf\", \"pdf\", \"png\", \"ps\", \"raw\", \"svg\", \"tif\", \"webp\"];\n",
       "\n",
       "mpl.default_extension = \"png\";/* global mpl */\n",
       "\n",
       "var comm_websocket_adapter = function (comm) {\n",
       "    // Create a \"websocket\"-like object which calls the given IPython comm\n",
       "    // object with the appropriate methods. Currently this is a non binary\n",
       "    // socket, so there is still some room for performance tuning.\n",
       "    var ws = {};\n",
       "\n",
       "    ws.binaryType = comm.kernel.ws.binaryType;\n",
       "    ws.readyState = comm.kernel.ws.readyState;\n",
       "    function updateReadyState(_event) {\n",
       "        if (comm.kernel.ws) {\n",
       "            ws.readyState = comm.kernel.ws.readyState;\n",
       "        } else {\n",
       "            ws.readyState = 3; // Closed state.\n",
       "        }\n",
       "    }\n",
       "    comm.kernel.ws.addEventListener('open', updateReadyState);\n",
       "    comm.kernel.ws.addEventListener('close', updateReadyState);\n",
       "    comm.kernel.ws.addEventListener('error', updateReadyState);\n",
       "\n",
       "    ws.close = function () {\n",
       "        comm.close();\n",
       "    };\n",
       "    ws.send = function (m) {\n",
       "        //console.log('sending', m);\n",
       "        comm.send(m);\n",
       "    };\n",
       "    // Register the callback with on_msg.\n",
       "    comm.on_msg(function (msg) {\n",
       "        //console.log('receiving', msg['content']['data'], msg);\n",
       "        var data = msg['content']['data'];\n",
       "        if (data['blob'] !== undefined) {\n",
       "            data = {\n",
       "                data: new Blob(msg['buffers'], { type: data['blob'] }),\n",
       "            };\n",
       "        }\n",
       "        // Pass the mpl event to the overridden (by mpl) onmessage function.\n",
       "        ws.onmessage(data);\n",
       "    });\n",
       "    return ws;\n",
       "};\n",
       "\n",
       "mpl.mpl_figure_comm = function (comm, msg) {\n",
       "    // This is the function which gets called when the mpl process\n",
       "    // starts-up an IPython Comm through the \"matplotlib\" channel.\n",
       "\n",
       "    var id = msg.content.data.id;\n",
       "    // Get hold of the div created by the display call when the Comm\n",
       "    // socket was opened in Python.\n",
       "    var element = document.getElementById(id);\n",
       "    var ws_proxy = comm_websocket_adapter(comm);\n",
       "\n",
       "    function ondownload(figure, _format) {\n",
       "        window.open(figure.canvas.toDataURL());\n",
       "    }\n",
       "\n",
       "    var fig = new mpl.figure(id, ws_proxy, ondownload, element);\n",
       "\n",
       "    // Call onopen now - mpl needs it, as it is assuming we've passed it a real\n",
       "    // web socket which is closed, not our websocket->open comm proxy.\n",
       "    ws_proxy.onopen();\n",
       "\n",
       "    fig.parent_element = element;\n",
       "    fig.cell_info = mpl.find_output_cell(\"<div id='\" + id + \"'></div>\");\n",
       "    if (!fig.cell_info) {\n",
       "        console.error('Failed to find cell for figure', id, fig);\n",
       "        return;\n",
       "    }\n",
       "    fig.cell_info[0].output_area.element.on(\n",
       "        'cleared',\n",
       "        { fig: fig },\n",
       "        fig._remove_fig_handler\n",
       "    );\n",
       "};\n",
       "\n",
       "mpl.figure.prototype.handle_close = function (fig, msg) {\n",
       "    var width = fig.canvas.width / fig.ratio;\n",
       "    fig.cell_info[0].output_area.element.off(\n",
       "        'cleared',\n",
       "        fig._remove_fig_handler\n",
       "    );\n",
       "    fig.resizeObserverInstance.unobserve(fig.canvas_div);\n",
       "\n",
       "    // Update the output cell to use the data from the current canvas.\n",
       "    fig.push_to_output();\n",
       "    var dataURL = fig.canvas.toDataURL();\n",
       "    // Re-enable the keyboard manager in IPython - without this line, in FF,\n",
       "    // the notebook keyboard shortcuts fail.\n",
       "    IPython.keyboard_manager.enable();\n",
       "    fig.parent_element.innerHTML =\n",
       "        '<img src=\"' + dataURL + '\" width=\"' + width + '\">';\n",
       "    fig.close_ws(fig, msg);\n",
       "};\n",
       "\n",
       "mpl.figure.prototype.close_ws = function (fig, msg) {\n",
       "    fig.send_message('closing', msg);\n",
       "    // fig.ws.close()\n",
       "};\n",
       "\n",
       "mpl.figure.prototype.push_to_output = function (_remove_interactive) {\n",
       "    // Turn the data on the canvas into data in the output cell.\n",
       "    var width = this.canvas.width / this.ratio;\n",
       "    var dataURL = this.canvas.toDataURL();\n",
       "    this.cell_info[1]['text/html'] =\n",
       "        '<img src=\"' + dataURL + '\" width=\"' + width + '\">';\n",
       "};\n",
       "\n",
       "mpl.figure.prototype.updated_canvas_event = function () {\n",
       "    // Tell IPython that the notebook contents must change.\n",
       "    IPython.notebook.set_dirty(true);\n",
       "    this.send_message('ack', {});\n",
       "    var fig = this;\n",
       "    // Wait a second, then push the new image to the DOM so\n",
       "    // that it is saved nicely (might be nice to debounce this).\n",
       "    setTimeout(function () {\n",
       "        fig.push_to_output();\n",
       "    }, 1000);\n",
       "};\n",
       "\n",
       "mpl.figure.prototype._init_toolbar = function () {\n",
       "    var fig = this;\n",
       "\n",
       "    var toolbar = document.createElement('div');\n",
       "    toolbar.classList = 'btn-toolbar';\n",
       "    this.root.appendChild(toolbar);\n",
       "\n",
       "    function on_click_closure(name) {\n",
       "        return function (_event) {\n",
       "            return fig.toolbar_button_onclick(name);\n",
       "        };\n",
       "    }\n",
       "\n",
       "    function on_mouseover_closure(tooltip) {\n",
       "        return function (event) {\n",
       "            if (!event.currentTarget.disabled) {\n",
       "                return fig.toolbar_button_onmouseover(tooltip);\n",
       "            }\n",
       "        };\n",
       "    }\n",
       "\n",
       "    fig.buttons = {};\n",
       "    var buttonGroup = document.createElement('div');\n",
       "    buttonGroup.classList = 'btn-group';\n",
       "    var button;\n",
       "    for (var toolbar_ind in mpl.toolbar_items) {\n",
       "        var name = mpl.toolbar_items[toolbar_ind][0];\n",
       "        var tooltip = mpl.toolbar_items[toolbar_ind][1];\n",
       "        var image = mpl.toolbar_items[toolbar_ind][2];\n",
       "        var method_name = mpl.toolbar_items[toolbar_ind][3];\n",
       "\n",
       "        if (!name) {\n",
       "            /* Instead of a spacer, we start a new button group. */\n",
       "            if (buttonGroup.hasChildNodes()) {\n",
       "                toolbar.appendChild(buttonGroup);\n",
       "            }\n",
       "            buttonGroup = document.createElement('div');\n",
       "            buttonGroup.classList = 'btn-group';\n",
       "            continue;\n",
       "        }\n",
       "\n",
       "        button = fig.buttons[name] = document.createElement('button');\n",
       "        button.classList = 'btn btn-default';\n",
       "        button.href = '#';\n",
       "        button.title = name;\n",
       "        button.innerHTML = '<i class=\"fa ' + image + ' fa-lg\"></i>';\n",
       "        button.addEventListener('click', on_click_closure(method_name));\n",
       "        button.addEventListener('mouseover', on_mouseover_closure(tooltip));\n",
       "        buttonGroup.appendChild(button);\n",
       "    }\n",
       "\n",
       "    if (buttonGroup.hasChildNodes()) {\n",
       "        toolbar.appendChild(buttonGroup);\n",
       "    }\n",
       "\n",
       "    // Add the status bar.\n",
       "    var status_bar = document.createElement('span');\n",
       "    status_bar.classList = 'mpl-message pull-right';\n",
       "    toolbar.appendChild(status_bar);\n",
       "    this.message = status_bar;\n",
       "\n",
       "    // Add the close button to the window.\n",
       "    var buttongrp = document.createElement('div');\n",
       "    buttongrp.classList = 'btn-group inline pull-right';\n",
       "    button = document.createElement('button');\n",
       "    button.classList = 'btn btn-mini btn-primary';\n",
       "    button.href = '#';\n",
       "    button.title = 'Stop Interaction';\n",
       "    button.innerHTML = '<i class=\"fa fa-power-off icon-remove icon-large\"></i>';\n",
       "    button.addEventListener('click', function (_evt) {\n",
       "        fig.handle_close(fig, {});\n",
       "    });\n",
       "    button.addEventListener(\n",
       "        'mouseover',\n",
       "        on_mouseover_closure('Stop Interaction')\n",
       "    );\n",
       "    buttongrp.appendChild(button);\n",
       "    var titlebar = this.root.querySelector('.ui-dialog-titlebar');\n",
       "    titlebar.insertBefore(buttongrp, titlebar.firstChild);\n",
       "};\n",
       "\n",
       "mpl.figure.prototype._remove_fig_handler = function (event) {\n",
       "    var fig = event.data.fig;\n",
       "    if (event.target !== this) {\n",
       "        // Ignore bubbled events from children.\n",
       "        return;\n",
       "    }\n",
       "    fig.close_ws(fig, {});\n",
       "};\n",
       "\n",
       "mpl.figure.prototype._root_extra_style = function (el) {\n",
       "    el.style.boxSizing = 'content-box'; // override notebook setting of border-box.\n",
       "};\n",
       "\n",
       "mpl.figure.prototype._canvas_extra_style = function (el) {\n",
       "    // this is important to make the div 'focusable\n",
       "    el.setAttribute('tabindex', 0);\n",
       "    // reach out to IPython and tell the keyboard manager to turn it's self\n",
       "    // off when our div gets focus\n",
       "\n",
       "    // location in version 3\n",
       "    if (IPython.notebook.keyboard_manager) {\n",
       "        IPython.notebook.keyboard_manager.register_events(el);\n",
       "    } else {\n",
       "        // location in version 2\n",
       "        IPython.keyboard_manager.register_events(el);\n",
       "    }\n",
       "};\n",
       "\n",
       "mpl.figure.prototype._key_event_extra = function (event, _name) {\n",
       "    // Check for shift+enter\n",
       "    if (event.shiftKey && event.which === 13) {\n",
       "        this.canvas_div.blur();\n",
       "        // select the cell after this one\n",
       "        var index = IPython.notebook.find_cell_index(this.cell_info[0]);\n",
       "        IPython.notebook.select(index + 1);\n",
       "    }\n",
       "};\n",
       "\n",
       "mpl.figure.prototype.handle_save = function (fig, _msg) {\n",
       "    fig.ondownload(fig, null);\n",
       "};\n",
       "\n",
       "mpl.find_output_cell = function (html_output) {\n",
       "    // Return the cell and output element which can be found *uniquely* in the notebook.\n",
       "    // Note - this is a bit hacky, but it is done because the \"notebook_saving.Notebook\"\n",
       "    // IPython event is triggered only after the cells have been serialised, which for\n",
       "    // our purposes (turning an active figure into a static one), is too late.\n",
       "    var cells = IPython.notebook.get_cells();\n",
       "    var ncells = cells.length;\n",
       "    for (var i = 0; i < ncells; i++) {\n",
       "        var cell = cells[i];\n",
       "        if (cell.cell_type === 'code') {\n",
       "            for (var j = 0; j < cell.output_area.outputs.length; j++) {\n",
       "                var data = cell.output_area.outputs[j];\n",
       "                if (data.data) {\n",
       "                    // IPython >= 3 moved mimebundle to data attribute of output\n",
       "                    data = data.data;\n",
       "                }\n",
       "                if (data['text/html'] === html_output) {\n",
       "                    return [cell, data, j];\n",
       "                }\n",
       "            }\n",
       "        }\n",
       "    }\n",
       "};\n",
       "\n",
       "// Register the function which deals with the matplotlib target/channel.\n",
       "// The kernel may be null if the page has been refreshed.\n",
       "if (IPython.notebook.kernel !== null) {\n",
       "    IPython.notebook.kernel.comm_manager.register_target(\n",
       "        'matplotlib',\n",
       "        mpl.mpl_figure_comm\n",
       "    );\n",
       "}\n"
      ],
      "text/plain": [
       "<IPython.core.display.Javascript object>"
      ]
     },
     "metadata": {},
     "output_type": "display_data"
    },
    {
     "data": {
      "text/html": [
       "<img src=\"data:image/png;base64,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\" width=\"960\">"
      ],
      "text/plain": [
       "<IPython.core.display.HTML object>"
      ]
     },
     "metadata": {},
     "output_type": "display_data"
    },
    {
     "name": "stderr",
     "output_type": "stream",
     "text": [
      "/home/rgast/PycharmProjects/PyRates/pyrates/utility.py:362: UserWarning: FixedFormatter should only be used together with FixedLocator\n",
      "  self.ax[0].set_xticklabels([\"\"] + list(np.round(x_values, decimals=2)))\n",
      "/home/rgast/PycharmProjects/PyRates/pyrates/utility.py:363: UserWarning: FixedFormatter should only be used together with FixedLocator\n",
      "  self.ax[0].set_yticklabels([\"\"] + list(np.round(y_values, decimals=2)))\n"
     ]
    }
   ],
   "source": [
    "%matplotlib notebook\n",
    "obj = Interactive2DParamPlot(C, res[\"u\"], taus, ks, \"tau\", \"k\", mapping, cmap_lines=\"viridis\")"
   ]
  },
  {
   "cell_type": "markdown",
   "id": "924c3ad4",
   "metadata": {
    "slideshow": {
     "slide_type": "fragment"
    }
   },
   "source": [
    "`grid_search` calls return two `pandas.DataFrame` objects: \n",
    "1. the system variables over time (`res`)\n",
    "2. the parameter grid (`mapping`)"
   ]
  },
  {
   "cell_type": "code",
   "execution_count": 33,
   "id": "9f180298",
   "metadata": {
    "slideshow": {
     "slide_type": "fragment"
    }
   },
   "outputs": [
    {
     "data": {
      "text/html": [
       "<div>\n",
       "<style scoped>\n",
       "    .dataframe tbody tr th:only-of-type {\n",
       "        vertical-align: middle;\n",
       "    }\n",
       "\n",
       "    .dataframe tbody tr th {\n",
       "        vertical-align: top;\n",
       "    }\n",
       "\n",
       "    .dataframe thead tr th {\n",
       "        text-align: left;\n",
       "    }\n",
       "</style>\n",
       "<table border=\"1\" class=\"dataframe\">\n",
       "  <thead>\n",
       "    <tr>\n",
       "      <th></th>\n",
       "      <th>n_0</th>\n",
       "      <th>n_1</th>\n",
       "      <th>n_2</th>\n",
       "      <th>n_3</th>\n",
       "      <th>n_4</th>\n",
       "    </tr>\n",
       "    <tr>\n",
       "      <th></th>\n",
       "      <th>li_op/u</th>\n",
       "      <th>li_op/u</th>\n",
       "      <th>li_op/u</th>\n",
       "      <th>li_op/u</th>\n",
       "      <th>li_op/u</th>\n",
       "    </tr>\n",
       "  </thead>\n",
       "  <tbody>\n",
       "    <tr>\n",
       "      <th>0.000</th>\n",
       "      <td>0.000000e+00</td>\n",
       "      <td>0.000000e+00</td>\n",
       "      <td>0.000000e+00</td>\n",
       "      <td>0.000000e+00</td>\n",
       "      <td>0.000000e+00</td>\n",
       "    </tr>\n",
       "    <tr>\n",
       "      <th>0.001</th>\n",
       "      <td>1.326199e-11</td>\n",
       "      <td>-3.817579e-11</td>\n",
       "      <td>5.323824e-11</td>\n",
       "      <td>7.842827e-07</td>\n",
       "      <td>-4.211374e-11</td>\n",
       "    </tr>\n",
       "    <tr>\n",
       "      <th>0.002</th>\n",
       "      <td>1.059219e-10</td>\n",
       "      <td>-3.048210e-10</td>\n",
       "      <td>4.251119e-10</td>\n",
       "      <td>3.132989e-06</td>\n",
       "      <td>-3.363743e-10</td>\n",
       "    </tr>\n",
       "    <tr>\n",
       "      <th>0.003</th>\n",
       "      <td>3.568276e-10</td>\n",
       "      <td>-1.026481e-09</td>\n",
       "      <td>1.431666e-09</td>\n",
       "      <td>7.039912e-06</td>\n",
       "      <td>-1.133248e-09</td>\n",
       "    </tr>\n",
       "    <tr>\n",
       "      <th>0.004</th>\n",
       "      <td>8.442320e-10</td>\n",
       "      <td>-2.427628e-09</td>\n",
       "      <td>3.386149e-09</td>\n",
       "      <td>1.249886e-05</td>\n",
       "      <td>-2.681382e-09</td>\n",
       "    </tr>\n",
       "    <tr>\n",
       "      <th>...</th>\n",
       "      <td>...</td>\n",
       "      <td>...</td>\n",
       "      <td>...</td>\n",
       "      <td>...</td>\n",
       "      <td>...</td>\n",
       "    </tr>\n",
       "    <tr>\n",
       "      <th>9.995</th>\n",
       "      <td>-1.078998e-03</td>\n",
       "      <td>2.386507e-03</td>\n",
       "      <td>-3.513548e-03</td>\n",
       "      <td>-6.309477e-02</td>\n",
       "      <td>3.574833e-03</td>\n",
       "    </tr>\n",
       "    <tr>\n",
       "      <th>9.996</th>\n",
       "      <td>-1.078499e-03</td>\n",
       "      <td>2.384084e-03</td>\n",
       "      <td>-3.510381e-03</td>\n",
       "      <td>-6.285504e-02</td>\n",
       "      <td>3.573506e-03</td>\n",
       "    </tr>\n",
       "    <tr>\n",
       "      <th>9.997</th>\n",
       "      <td>-1.077990e-03</td>\n",
       "      <td>2.381638e-03</td>\n",
       "      <td>-3.507179e-03</td>\n",
       "      <td>-6.261469e-02</td>\n",
       "      <td>3.572142e-03</td>\n",
       "    </tr>\n",
       "    <tr>\n",
       "      <th>9.998</th>\n",
       "      <td>-1.077470e-03</td>\n",
       "      <td>2.379167e-03</td>\n",
       "      <td>-3.503942e-03</td>\n",
       "      <td>-6.237373e-02</td>\n",
       "      <td>3.570744e-03</td>\n",
       "    </tr>\n",
       "    <tr>\n",
       "      <th>9.999</th>\n",
       "      <td>-1.076940e-03</td>\n",
       "      <td>2.376674e-03</td>\n",
       "      <td>-3.500670e-03</td>\n",
       "      <td>-6.213215e-02</td>\n",
       "      <td>3.569310e-03</td>\n",
       "    </tr>\n",
       "  </tbody>\n",
       "</table>\n",
       "<p>10000 rows × 5 columns</p>\n",
       "</div>"
      ],
      "text/plain": [
       "                n_0           n_1           n_2           n_3           n_4\n",
       "            li_op/u       li_op/u       li_op/u       li_op/u       li_op/u\n",
       "0.000  0.000000e+00  0.000000e+00  0.000000e+00  0.000000e+00  0.000000e+00\n",
       "0.001  1.326199e-11 -3.817579e-11  5.323824e-11  7.842827e-07 -4.211374e-11\n",
       "0.002  1.059219e-10 -3.048210e-10  4.251119e-10  3.132989e-06 -3.363743e-10\n",
       "0.003  3.568276e-10 -1.026481e-09  1.431666e-09  7.039912e-06 -1.133248e-09\n",
       "0.004  8.442320e-10 -2.427628e-09  3.386149e-09  1.249886e-05 -2.681382e-09\n",
       "...             ...           ...           ...           ...           ...\n",
       "9.995 -1.078998e-03  2.386507e-03 -3.513548e-03 -6.309477e-02  3.574833e-03\n",
       "9.996 -1.078499e-03  2.384084e-03 -3.510381e-03 -6.285504e-02  3.573506e-03\n",
       "9.997 -1.077990e-03  2.381638e-03 -3.507179e-03 -6.261469e-02  3.572142e-03\n",
       "9.998 -1.077470e-03  2.379167e-03 -3.503942e-03 -6.237373e-02  3.570744e-03\n",
       "9.999 -1.076940e-03  2.376674e-03 -3.500670e-03 -6.213215e-02  3.569310e-03\n",
       "\n",
       "[10000 rows x 5 columns]"
      ]
     },
     "execution_count": 33,
     "metadata": {},
     "output_type": "execute_result"
    }
   ],
   "source": [
    "res[\"u\"][\"net_0\"]"
   ]
  },
  {
   "cell_type": "code",
   "execution_count": 34,
   "id": "84046cb4",
   "metadata": {
    "slideshow": {
     "slide_type": "fragment"
    }
   },
   "outputs": [
    {
     "data": {
      "text/html": [
       "<div>\n",
       "<style scoped>\n",
       "    .dataframe tbody tr th:only-of-type {\n",
       "        vertical-align: middle;\n",
       "    }\n",
       "\n",
       "    .dataframe tbody tr th {\n",
       "        vertical-align: top;\n",
       "    }\n",
       "\n",
       "    .dataframe thead th {\n",
       "        text-align: right;\n",
       "    }\n",
       "</style>\n",
       "<table border=\"1\" class=\"dataframe\">\n",
       "  <thead>\n",
       "    <tr style=\"text-align: right;\">\n",
       "      <th></th>\n",
       "      <th>k</th>\n",
       "      <th>tau</th>\n",
       "    </tr>\n",
       "  </thead>\n",
       "  <tbody>\n",
       "    <tr>\n",
       "      <th>net_0</th>\n",
       "      <td>0.25</td>\n",
       "      <td>0.25</td>\n",
       "    </tr>\n",
       "    <tr>\n",
       "      <th>net_1</th>\n",
       "      <td>0.50</td>\n",
       "      <td>0.25</td>\n",
       "    </tr>\n",
       "    <tr>\n",
       "      <th>net_2</th>\n",
       "      <td>1.00</td>\n",
       "      <td>0.25</td>\n",
       "    </tr>\n",
       "    <tr>\n",
       "      <th>net_3</th>\n",
       "      <td>2.00</td>\n",
       "      <td>0.25</td>\n",
       "    </tr>\n",
       "    <tr>\n",
       "      <th>net_4</th>\n",
       "      <td>4.00</td>\n",
       "      <td>0.25</td>\n",
       "    </tr>\n",
       "    <tr>\n",
       "      <th>net_5</th>\n",
       "      <td>0.25</td>\n",
       "      <td>0.50</td>\n",
       "    </tr>\n",
       "    <tr>\n",
       "      <th>net_6</th>\n",
       "      <td>0.50</td>\n",
       "      <td>0.50</td>\n",
       "    </tr>\n",
       "    <tr>\n",
       "      <th>net_7</th>\n",
       "      <td>1.00</td>\n",
       "      <td>0.50</td>\n",
       "    </tr>\n",
       "    <tr>\n",
       "      <th>net_8</th>\n",
       "      <td>2.00</td>\n",
       "      <td>0.50</td>\n",
       "    </tr>\n",
       "    <tr>\n",
       "      <th>net_9</th>\n",
       "      <td>4.00</td>\n",
       "      <td>0.50</td>\n",
       "    </tr>\n",
       "    <tr>\n",
       "      <th>net_10</th>\n",
       "      <td>0.25</td>\n",
       "      <td>1.00</td>\n",
       "    </tr>\n",
       "    <tr>\n",
       "      <th>net_11</th>\n",
       "      <td>0.50</td>\n",
       "      <td>1.00</td>\n",
       "    </tr>\n",
       "    <tr>\n",
       "      <th>net_12</th>\n",
       "      <td>1.00</td>\n",
       "      <td>1.00</td>\n",
       "    </tr>\n",
       "    <tr>\n",
       "      <th>net_13</th>\n",
       "      <td>2.00</td>\n",
       "      <td>1.00</td>\n",
       "    </tr>\n",
       "    <tr>\n",
       "      <th>net_14</th>\n",
       "      <td>4.00</td>\n",
       "      <td>1.00</td>\n",
       "    </tr>\n",
       "    <tr>\n",
       "      <th>net_15</th>\n",
       "      <td>0.25</td>\n",
       "      <td>2.00</td>\n",
       "    </tr>\n",
       "    <tr>\n",
       "      <th>net_16</th>\n",
       "      <td>0.50</td>\n",
       "      <td>2.00</td>\n",
       "    </tr>\n",
       "    <tr>\n",
       "      <th>net_17</th>\n",
       "      <td>1.00</td>\n",
       "      <td>2.00</td>\n",
       "    </tr>\n",
       "    <tr>\n",
       "      <th>net_18</th>\n",
       "      <td>2.00</td>\n",
       "      <td>2.00</td>\n",
       "    </tr>\n",
       "    <tr>\n",
       "      <th>net_19</th>\n",
       "      <td>4.00</td>\n",
       "      <td>2.00</td>\n",
       "    </tr>\n",
       "    <tr>\n",
       "      <th>net_20</th>\n",
       "      <td>0.25</td>\n",
       "      <td>4.00</td>\n",
       "    </tr>\n",
       "    <tr>\n",
       "      <th>net_21</th>\n",
       "      <td>0.50</td>\n",
       "      <td>4.00</td>\n",
       "    </tr>\n",
       "    <tr>\n",
       "      <th>net_22</th>\n",
       "      <td>1.00</td>\n",
       "      <td>4.00</td>\n",
       "    </tr>\n",
       "    <tr>\n",
       "      <th>net_23</th>\n",
       "      <td>2.00</td>\n",
       "      <td>4.00</td>\n",
       "    </tr>\n",
       "    <tr>\n",
       "      <th>net_24</th>\n",
       "      <td>4.00</td>\n",
       "      <td>4.00</td>\n",
       "    </tr>\n",
       "  </tbody>\n",
       "</table>\n",
       "</div>"
      ],
      "text/plain": [
       "           k   tau\n",
       "net_0   0.25  0.25\n",
       "net_1   0.50  0.25\n",
       "net_2   1.00  0.25\n",
       "net_3   2.00  0.25\n",
       "net_4   4.00  0.25\n",
       "net_5   0.25  0.50\n",
       "net_6   0.50  0.50\n",
       "net_7   1.00  0.50\n",
       "net_8   2.00  0.50\n",
       "net_9   4.00  0.50\n",
       "net_10  0.25  1.00\n",
       "net_11  0.50  1.00\n",
       "net_12  1.00  1.00\n",
       "net_13  2.00  1.00\n",
       "net_14  4.00  1.00\n",
       "net_15  0.25  2.00\n",
       "net_16  0.50  2.00\n",
       "net_17  1.00  2.00\n",
       "net_18  2.00  2.00\n",
       "net_19  4.00  2.00\n",
       "net_20  0.25  4.00\n",
       "net_21  0.50  4.00\n",
       "net_22  1.00  4.00\n",
       "net_23  2.00  4.00\n",
       "net_24  4.00  4.00"
      ]
     },
     "execution_count": 34,
     "metadata": {},
     "output_type": "execute_result"
    }
   ],
   "source": [
    "mapping"
   ]
  },
  {
   "cell_type": "code",
   "execution_count": 35,
   "id": "99b5379b",
   "metadata": {
    "slideshow": {
     "slide_type": "fragment"
    }
   },
   "outputs": [
    {
     "data": {
      "image/png": "[encoded data removed]",
      "text/plain": [
       "<Figure size 960x480 with 1 Axes>"
      ]
     },
     "metadata": {},
     "output_type": "display_data"
    }
   ],
   "source": [
    "%matplotlib inline\n",
    "_ = plt.plot(res[\"u\"][\"net_11\"])"
   ]
  },
  {
   "cell_type": "markdown",
   "id": "0dbff5f7",
   "metadata": {
    "slideshow": {
     "slide_type": "slide"
    }
   },
   "source": [
    "## Example 2: Parameter optimization\n",
    "\n",
    "We will perform automated optimization of $k$ and $\\tau$ via *RectiPy*. "
   ]
  },
  {
   "cell_type": "code",
   "execution_count": 38,
   "id": "69b19ec0",
   "metadata": {
    "slideshow": {
     "slide_type": "fragment"
    }
   },
   "outputs": [
    {
     "name": "stdout",
     "output_type": "stream",
     "text": [
      "Target parameters: $k_t$ = 3.723762364318146, $\\tau_t$ = 2.908899104250996.\n",
      "Starting parameters: $k_0$ = 2.9308707741186155, $\\tau_0$ = 3.346514183661598.\n"
     ]
    }
   ],
   "source": [
    "# target parameters\n",
    "k_t = np.random.uniform(0.25, 4.0)\n",
    "tau_t = np.random.uniform(0.25, 4.0)\n",
    "\n",
    "# starting parameters\n",
    "k_0 = np.random.uniform(0.25, 4.0)\n",
    "tau_0 = np.random.uniform(0.25, 4.0)\n",
    "\n",
    "print(\"Target parameters: \" + r\"$k_t$ = \" + f\"{k_t}\" + r\", $\\tau_t$ = \" + f\"{tau_t}.\")\n",
    "print(\"Starting parameters: \" + r\"$k_0$ = \" + f\"{k_0}\" + r\", $\\tau_0$ = \" + f\"{tau_0}.\")"
   ]
  },
  {
   "cell_type": "code",
   "execution_count": 40,
   "id": "261397e2",
   "metadata": {
    "slideshow": {
     "slide_type": "fragment"
    }
   },
   "outputs": [
    {
     "name": "stdout",
     "output_type": "stream",
     "text": [
      "Compilation Progress\n",
      "--------------------\n",
      "\t(1) Translating the circuit template into a networkx graph representation...\n",
      "\t\t...finished.\n",
      "\t(2) Preprocessing edge transmission operations...\n",
      "\t\t...finished.\n",
      "\t(3) Parsing the model equations into a compute graph...\n",
      "\t\t...finished.\n",
      "\tModel compilation was finished.\n",
      "Compilation Progress\n",
      "--------------------\n",
      "\t(1) Translating the circuit template into a networkx graph representation...\n",
      "\t\t...finished.\n",
      "\t(2) Preprocessing edge transmission operations...\n",
      "\t\t...finished.\n",
      "\t(3) Parsing the model equations into a compute graph...\n",
      "\t\t...finished.\n",
      "\tModel compilation was finished.\n"
     ]
    }
   ],
   "source": [
    "# target model initialization\n",
    "tnet = Network.from_yaml(node=node, weights=J, source_var=\"tanh_op/r\", target_var=\"li_op/r_in\", \n",
    "                         input_var=\"li_op/I_ext\", output_var=\"li_op/u\", clear=True,\n",
    "                         node_vars={\"all/li_op/k\": k_t, \"all/li_op/tau\": tau_t})\n",
    "\n",
    "# test model initialization\n",
    "lnet = Network.from_yaml(node=node, weights=J, source_var=\"tanh_op/r\", target_var=\"li_op/r_in\", \n",
    "                         input_var=\"li_op/I_ext\", output_var=\"li_op/u\", clear=True,\n",
    "                         node_vars={\"all/li_op/k\": k_0, \"all/li_op/tau\": tau_0},\n",
    "                         train_params=[\"li_op/k\", \"li_op/tau\"])"
   ]
  },
  {
   "cell_type": "code",
   "execution_count": 41,
   "id": "47bd9e67",
   "metadata": {
    "slideshow": {
     "slide_type": "fragment"
    }
   },
   "outputs": [
    {
     "name": "stdout",
     "output_type": "stream",
     "text": [
      "[]\n",
      "[tensor([2.9309], dtype=torch.float64, requires_grad=True), tensor([3.3465], dtype=torch.float64, requires_grad=True)]\n"
     ]
    }
   ],
   "source": [
    "tnet.compile()\n",
    "lnet.compile()\n",
    "print(list(tnet.parameters()))\n",
    "print(list(lnet.parameters()))"
   ]
  },
  {
   "cell_type": "code",
   "execution_count": 44,
   "id": "afa3dc93",
   "metadata": {
    "slideshow": {
     "slide_type": "fragment"
    }
   },
   "outputs": [],
   "source": [
    "# define optimization algorithm and loss function\n",
    "opt = torch.optim.Rprop(lnet.parameters(), lr=0.01, etas=(0.5, 1.1), step_sizes=(1e-5, 1e-1))\n",
    "loss = torch.nn.MSELoss()\n",
    "\n",
    "# set some meta parameters\n",
    "step, update_steps, plot_steps = 0, 1000, 100"
   ]
  },
  {
   "cell_type": "code",
   "execution_count": 48,
   "id": "6c9b9af1",
   "metadata": {},
   "outputs": [
    {
     "data": {
      "application/javascript": [
       "/* Put everything inside the global mpl namespace */\n",
       "/* global mpl */\n",
       "window.mpl = {};\n",
       "\n",
       "mpl.get_websocket_type = function () {\n",
       "    if (typeof WebSocket !== 'undefined') {\n",
       "        return WebSocket;\n",
       "    } else if (typeof MozWebSocket !== 'undefined') {\n",
       "        return MozWebSocket;\n",
       "    } else {\n",
       "        alert(\n",
       "            'Your browser does not have WebSocket support. ' +\n",
       "                'Please try Chrome, Safari or Firefox ≥ 6. ' +\n",
       "                'Firefox 4 and 5 are also supported but you ' +\n",
       "                'have to enable WebSockets in about:config.'\n",
       "        );\n",
       "    }\n",
       "};\n",
       "\n",
       "mpl.figure = function (figure_id, websocket, ondownload, parent_element) {\n",
       "    this.id = figure_id;\n",
       "\n",
       "    this.ws = websocket;\n",
       "\n",
       "    this.supports_binary = this.ws.binaryType !== undefined;\n",
       "\n",
       "    if (!this.supports_binary) {\n",
       "        var warnings = document.getElementById('mpl-warnings');\n",
       "        if (warnings) {\n",
       "            warnings.style.display = 'block';\n",
       "            warnings.textContent =\n",
       "                'This browser does not support binary websocket messages. ' +\n",
       "                'Performance may be slow.';\n",
       "        }\n",
       "    }\n",
       "\n",
       "    this.imageObj = new Image();\n",
       "\n",
       "    this.context = undefined;\n",
       "    this.message = undefined;\n",
       "    this.canvas = undefined;\n",
       "    this.rubberband_canvas = undefined;\n",
       "    this.rubberband_context = undefined;\n",
       "    this.format_dropdown = undefined;\n",
       "\n",
       "    this.image_mode = 'full';\n",
       "\n",
       "    this.root = document.createElement('div');\n",
       "    this.root.setAttribute('style', 'display: inline-block');\n",
       "    this._root_extra_style(this.root);\n",
       "\n",
       "    parent_element.appendChild(this.root);\n",
       "\n",
       "    this._init_header(this);\n",
       "    this._init_canvas(this);\n",
       "    this._init_toolbar(this);\n",
       "\n",
       "    var fig = this;\n",
       "\n",
       "    this.waiting = false;\n",
       "\n",
       "    this.ws.onopen = function () {\n",
       "        fig.send_message('supports_binary', { value: fig.supports_binary });\n",
       "        fig.send_message('send_image_mode', {});\n",
       "        if (fig.ratio !== 1) {\n",
       "            fig.send_message('set_device_pixel_ratio', {\n",
       "                device_pixel_ratio: fig.ratio,\n",
       "            });\n",
       "        }\n",
       "        fig.send_message('refresh', {});\n",
       "    };\n",
       "\n",
       "    this.imageObj.onload = function () {\n",
       "        if (fig.image_mode === 'full') {\n",
       "            // Full images could contain transparency (where diff images\n",
       "            // almost always do), so we need to clear the canvas so that\n",
       "            // there is no ghosting.\n",
       "            fig.context.clearRect(0, 0, fig.canvas.width, fig.canvas.height);\n",
       "        }\n",
       "        fig.context.drawImage(fig.imageObj, 0, 0);\n",
       "    };\n",
       "\n",
       "    this.imageObj.onunload = function () {\n",
       "        fig.ws.close();\n",
       "    };\n",
       "\n",
       "    this.ws.onmessage = this._make_on_message_function(this);\n",
       "\n",
       "    this.ondownload = ondownload;\n",
       "};\n",
       "\n",
       "mpl.figure.prototype._init_header = function () {\n",
       "    var titlebar = document.createElement('div');\n",
       "    titlebar.classList =\n",
       "        'ui-dialog-titlebar ui-widget-header ui-corner-all ui-helper-clearfix';\n",
       "    var titletext = document.createElement('div');\n",
       "    titletext.classList = 'ui-dialog-title';\n",
       "    titletext.setAttribute(\n",
       "        'style',\n",
       "        'width: 100%; text-align: center; padding: 3px;'\n",
       "    );\n",
       "    titlebar.appendChild(titletext);\n",
       "    this.root.appendChild(titlebar);\n",
       "    this.header = titletext;\n",
       "};\n",
       "\n",
       "mpl.figure.prototype._canvas_extra_style = function (_canvas_div) {};\n",
       "\n",
       "mpl.figure.prototype._root_extra_style = function (_canvas_div) {};\n",
       "\n",
       "mpl.figure.prototype._init_canvas = function () {\n",
       "    var fig = this;\n",
       "\n",
       "    var canvas_div = (this.canvas_div = document.createElement('div'));\n",
       "    canvas_div.setAttribute(\n",
       "        'style',\n",
       "        'border: 1px solid #ddd;' +\n",
       "            'box-sizing: content-box;' +\n",
       "            'clear: both;' +\n",
       "            'min-height: 1px;' +\n",
       "            'min-width: 1px;' +\n",
       "            'outline: 0;' +\n",
       "            'overflow: hidden;' +\n",
       "            'position: relative;' +\n",
       "            'resize: both;'\n",
       "    );\n",
       "\n",
       "    function on_keyboard_event_closure(name) {\n",
       "        return function (event) {\n",
       "            return fig.key_event(event, name);\n",
       "        };\n",
       "    }\n",
       "\n",
       "    canvas_div.addEventListener(\n",
       "        'keydown',\n",
       "        on_keyboard_event_closure('key_press')\n",
       "    );\n",
       "    canvas_div.addEventListener(\n",
       "        'keyup',\n",
       "        on_keyboard_event_closure('key_release')\n",
       "    );\n",
       "\n",
       "    this._canvas_extra_style(canvas_div);\n",
       "    this.root.appendChild(canvas_div);\n",
       "\n",
       "    var canvas = (this.canvas = document.createElement('canvas'));\n",
       "    canvas.classList.add('mpl-canvas');\n",
       "    canvas.setAttribute('style', 'box-sizing: content-box;');\n",
       "\n",
       "    this.context = canvas.getContext('2d');\n",
       "\n",
       "    var backingStore =\n",
       "        this.context.backingStorePixelRatio ||\n",
       "        this.context.webkitBackingStorePixelRatio ||\n",
       "        this.context.mozBackingStorePixelRatio ||\n",
       "        this.context.msBackingStorePixelRatio ||\n",
       "        this.context.oBackingStorePixelRatio ||\n",
       "        this.context.backingStorePixelRatio ||\n",
       "        1;\n",
       "\n",
       "    this.ratio = (window.devicePixelRatio || 1) / backingStore;\n",
       "\n",
       "    var rubberband_canvas = (this.rubberband_canvas = document.createElement(\n",
       "        'canvas'\n",
       "    ));\n",
       "    rubberband_canvas.setAttribute(\n",
       "        'style',\n",
       "        'box-sizing: content-box; position: absolute; left: 0; top: 0; z-index: 1;'\n",
       "    );\n",
       "\n",
       "    // Apply a ponyfill if ResizeObserver is not implemented by browser.\n",
       "    if (this.ResizeObserver === undefined) {\n",
       "        if (window.ResizeObserver !== undefined) {\n",
       "            this.ResizeObserver = window.ResizeObserver;\n",
       "        } else {\n",
       "            var obs = _JSXTOOLS_RESIZE_OBSERVER({});\n",
       "            this.ResizeObserver = obs.ResizeObserver;\n",
       "        }\n",
       "    }\n",
       "\n",
       "    this.resizeObserverInstance = new this.ResizeObserver(function (entries) {\n",
       "        var nentries = entries.length;\n",
       "        for (var i = 0; i < nentries; i++) {\n",
       "            var entry = entries[i];\n",
       "            var width, height;\n",
       "            if (entry.contentBoxSize) {\n",
       "                if (entry.contentBoxSize instanceof Array) {\n",
       "                    // Chrome 84 implements new version of spec.\n",
       "                    width = entry.contentBoxSize[0].inlineSize;\n",
       "                    height = entry.contentBoxSize[0].blockSize;\n",
       "                } else {\n",
       "                    // Firefox implements old version of spec.\n",
       "                    width = entry.contentBoxSize.inlineSize;\n",
       "                    height = entry.contentBoxSize.blockSize;\n",
       "                }\n",
       "            } else {\n",
       "                // Chrome <84 implements even older version of spec.\n",
       "                width = entry.contentRect.width;\n",
       "                height = entry.contentRect.height;\n",
       "            }\n",
       "\n",
       "            // Keep the size of the canvas and rubber band canvas in sync with\n",
       "            // the canvas container.\n",
       "            if (entry.devicePixelContentBoxSize) {\n",
       "                // Chrome 84 implements new version of spec.\n",
       "                canvas.setAttribute(\n",
       "                    'width',\n",
       "                    entry.devicePixelContentBoxSize[0].inlineSize\n",
       "                );\n",
       "                canvas.setAttribute(\n",
       "                    'height',\n",
       "                    entry.devicePixelContentBoxSize[0].blockSize\n",
       "                );\n",
       "            } else {\n",
       "                canvas.setAttribute('width', width * fig.ratio);\n",
       "                canvas.setAttribute('height', height * fig.ratio);\n",
       "            }\n",
       "            canvas.setAttribute(\n",
       "                'style',\n",
       "                'width: ' + width + 'px; height: ' + height + 'px;'\n",
       "            );\n",
       "\n",
       "            rubberband_canvas.setAttribute('width', width);\n",
       "            rubberband_canvas.setAttribute('height', height);\n",
       "\n",
       "            // And update the size in Python. We ignore the initial 0/0 size\n",
       "            // that occurs as the element is placed into the DOM, which should\n",
       "            // otherwise not happen due to the minimum size styling.\n",
       "            if (fig.ws.readyState == 1 && width != 0 && height != 0) {\n",
       "                fig.request_resize(width, height);\n",
       "            }\n",
       "        }\n",
       "    });\n",
       "    this.resizeObserverInstance.observe(canvas_div);\n",
       "\n",
       "    function on_mouse_event_closure(name) {\n",
       "        return function (event) {\n",
       "            return fig.mouse_event(event, name);\n",
       "        };\n",
       "    }\n",
       "\n",
       "    rubberband_canvas.addEventListener(\n",
       "        'mousedown',\n",
       "        on_mouse_event_closure('button_press')\n",
       "    );\n",
       "    rubberband_canvas.addEventListener(\n",
       "        'mouseup',\n",
       "        on_mouse_event_closure('button_release')\n",
       "    );\n",
       "    rubberband_canvas.addEventListener(\n",
       "        'dblclick',\n",
       "        on_mouse_event_closure('dblclick')\n",
       "    );\n",
       "    // Throttle sequential mouse events to 1 every 20ms.\n",
       "    rubberband_canvas.addEventListener(\n",
       "        'mousemove',\n",
       "        on_mouse_event_closure('motion_notify')\n",
       "    );\n",
       "\n",
       "    rubberband_canvas.addEventListener(\n",
       "        'mouseenter',\n",
       "        on_mouse_event_closure('figure_enter')\n",
       "    );\n",
       "    rubberband_canvas.addEventListener(\n",
       "        'mouseleave',\n",
       "        on_mouse_event_closure('figure_leave')\n",
       "    );\n",
       "\n",
       "    canvas_div.addEventListener('wheel', function (event) {\n",
       "        if (event.deltaY < 0) {\n",
       "            event.step = 1;\n",
       "        } else {\n",
       "            event.step = -1;\n",
       "        }\n",
       "        on_mouse_event_closure('scroll')(event);\n",
       "    });\n",
       "\n",
       "    canvas_div.appendChild(canvas);\n",
       "    canvas_div.appendChild(rubberband_canvas);\n",
       "\n",
       "    this.rubberband_context = rubberband_canvas.getContext('2d');\n",
       "    this.rubberband_context.strokeStyle = '#000000';\n",
       "\n",
       "    this._resize_canvas = function (width, height, forward) {\n",
       "        if (forward) {\n",
       "            canvas_div.style.width = width + 'px';\n",
       "            canvas_div.style.height = height + 'px';\n",
       "        }\n",
       "    };\n",
       "\n",
       "    // Disable right mouse context menu.\n",
       "    this.rubberband_canvas.addEventListener('contextmenu', function (_e) {\n",
       "        event.preventDefault();\n",
       "        return false;\n",
       "    });\n",
       "\n",
       "    function set_focus() {\n",
       "        canvas.focus();\n",
       "        canvas_div.focus();\n",
       "    }\n",
       "\n",
       "    window.setTimeout(set_focus, 100);\n",
       "};\n",
       "\n",
       "mpl.figure.prototype._init_toolbar = function () {\n",
       "    var fig = this;\n",
       "\n",
       "    var toolbar = document.createElement('div');\n",
       "    toolbar.classList = 'mpl-toolbar';\n",
       "    this.root.appendChild(toolbar);\n",
       "\n",
       "    function on_click_closure(name) {\n",
       "        return function (_event) {\n",
       "            return fig.toolbar_button_onclick(name);\n",
       "        };\n",
       "    }\n",
       "\n",
       "    function on_mouseover_closure(tooltip) {\n",
       "        return function (event) {\n",
       "            if (!event.currentTarget.disabled) {\n",
       "                return fig.toolbar_button_onmouseover(tooltip);\n",
       "            }\n",
       "        };\n",
       "    }\n",
       "\n",
       "    fig.buttons = {};\n",
       "    var buttonGroup = document.createElement('div');\n",
       "    buttonGroup.classList = 'mpl-button-group';\n",
       "    for (var toolbar_ind in mpl.toolbar_items) {\n",
       "        var name = mpl.toolbar_items[toolbar_ind][0];\n",
       "        var tooltip = mpl.toolbar_items[toolbar_ind][1];\n",
       "        var image = mpl.toolbar_items[toolbar_ind][2];\n",
       "        var method_name = mpl.toolbar_items[toolbar_ind][3];\n",
       "\n",
       "        if (!name) {\n",
       "            /* Instead of a spacer, we start a new button group. */\n",
       "            if (buttonGroup.hasChildNodes()) {\n",
       "                toolbar.appendChild(buttonGroup);\n",
       "            }\n",
       "            buttonGroup = document.createElement('div');\n",
       "            buttonGroup.classList = 'mpl-button-group';\n",
       "            continue;\n",
       "        }\n",
       "\n",
       "        var button = (fig.buttons[name] = document.createElement('button'));\n",
       "        button.classList = 'mpl-widget';\n",
       "        button.setAttribute('role', 'button');\n",
       "        button.setAttribute('aria-disabled', 'false');\n",
       "        button.addEventListener('click', on_click_closure(method_name));\n",
       "        button.addEventListener('mouseover', on_mouseover_closure(tooltip));\n",
       "\n",
       "        var icon_img = document.createElement('img');\n",
       "        icon_img.src = '_images/' + image + '.png';\n",
       "        icon_img.srcset = '_images/' + image + '_large.png 2x';\n",
       "        icon_img.alt = tooltip;\n",
       "        button.appendChild(icon_img);\n",
       "\n",
       "        buttonGroup.appendChild(button);\n",
       "    }\n",
       "\n",
       "    if (buttonGroup.hasChildNodes()) {\n",
       "        toolbar.appendChild(buttonGroup);\n",
       "    }\n",
       "\n",
       "    var fmt_picker = document.createElement('select');\n",
       "    fmt_picker.classList = 'mpl-widget';\n",
       "    toolbar.appendChild(fmt_picker);\n",
       "    this.format_dropdown = fmt_picker;\n",
       "\n",
       "    for (var ind in mpl.extensions) {\n",
       "        var fmt = mpl.extensions[ind];\n",
       "        var option = document.createElement('option');\n",
       "        option.selected = fmt === mpl.default_extension;\n",
       "        option.innerHTML = fmt;\n",
       "        fmt_picker.appendChild(option);\n",
       "    }\n",
       "\n",
       "    var status_bar = document.createElement('span');\n",
       "    status_bar.classList = 'mpl-message';\n",
       "    toolbar.appendChild(status_bar);\n",
       "    this.message = status_bar;\n",
       "};\n",
       "\n",
       "mpl.figure.prototype.request_resize = function (x_pixels, y_pixels) {\n",
       "    // Request matplotlib to resize the figure. Matplotlib will then trigger a resize in the client,\n",
       "    // which will in turn request a refresh of the image.\n",
       "    this.send_message('resize', { width: x_pixels, height: y_pixels });\n",
       "};\n",
       "\n",
       "mpl.figure.prototype.send_message = function (type, properties) {\n",
       "    properties['type'] = type;\n",
       "    properties['figure_id'] = this.id;\n",
       "    this.ws.send(JSON.stringify(properties));\n",
       "};\n",
       "\n",
       "mpl.figure.prototype.send_draw_message = function () {\n",
       "    if (!this.waiting) {\n",
       "        this.waiting = true;\n",
       "        this.ws.send(JSON.stringify({ type: 'draw', figure_id: this.id }));\n",
       "    }\n",
       "};\n",
       "\n",
       "mpl.figure.prototype.handle_save = function (fig, _msg) {\n",
       "    var format_dropdown = fig.format_dropdown;\n",
       "    var format = format_dropdown.options[format_dropdown.selectedIndex].value;\n",
       "    fig.ondownload(fig, format);\n",
       "};\n",
       "\n",
       "mpl.figure.prototype.handle_resize = function (fig, msg) {\n",
       "    var size = msg['size'];\n",
       "    if (size[0] !== fig.canvas.width || size[1] !== fig.canvas.height) {\n",
       "        fig._resize_canvas(size[0], size[1], msg['forward']);\n",
       "        fig.send_message('refresh', {});\n",
       "    }\n",
       "};\n",
       "\n",
       "mpl.figure.prototype.handle_rubberband = function (fig, msg) {\n",
       "    var x0 = msg['x0'] / fig.ratio;\n",
       "    var y0 = (fig.canvas.height - msg['y0']) / fig.ratio;\n",
       "    var x1 = msg['x1'] / fig.ratio;\n",
       "    var y1 = (fig.canvas.height - msg['y1']) / fig.ratio;\n",
       "    x0 = Math.floor(x0) + 0.5;\n",
       "    y0 = Math.floor(y0) + 0.5;\n",
       "    x1 = Math.floor(x1) + 0.5;\n",
       "    y1 = Math.floor(y1) + 0.5;\n",
       "    var min_x = Math.min(x0, x1);\n",
       "    var min_y = Math.min(y0, y1);\n",
       "    var width = Math.abs(x1 - x0);\n",
       "    var height = Math.abs(y1 - y0);\n",
       "\n",
       "    fig.rubberband_context.clearRect(\n",
       "        0,\n",
       "        0,\n",
       "        fig.canvas.width / fig.ratio,\n",
       "        fig.canvas.height / fig.ratio\n",
       "    );\n",
       "\n",
       "    fig.rubberband_context.strokeRect(min_x, min_y, width, height);\n",
       "};\n",
       "\n",
       "mpl.figure.prototype.handle_figure_label = function (fig, msg) {\n",
       "    // Updates the figure title.\n",
       "    fig.header.textContent = msg['label'];\n",
       "};\n",
       "\n",
       "mpl.figure.prototype.handle_cursor = function (fig, msg) {\n",
       "    fig.rubberband_canvas.style.cursor = msg['cursor'];\n",
       "};\n",
       "\n",
       "mpl.figure.prototype.handle_message = function (fig, msg) {\n",
       "    fig.message.textContent = msg['message'];\n",
       "};\n",
       "\n",
       "mpl.figure.prototype.handle_draw = function (fig, _msg) {\n",
       "    // Request the server to send over a new figure.\n",
       "    fig.send_draw_message();\n",
       "};\n",
       "\n",
       "mpl.figure.prototype.handle_image_mode = function (fig, msg) {\n",
       "    fig.image_mode = msg['mode'];\n",
       "};\n",
       "\n",
       "mpl.figure.prototype.handle_history_buttons = function (fig, msg) {\n",
       "    for (var key in msg) {\n",
       "        if (!(key in fig.buttons)) {\n",
       "            continue;\n",
       "        }\n",
       "        fig.buttons[key].disabled = !msg[key];\n",
       "        fig.buttons[key].setAttribute('aria-disabled', !msg[key]);\n",
       "    }\n",
       "};\n",
       "\n",
       "mpl.figure.prototype.handle_navigate_mode = function (fig, msg) {\n",
       "    if (msg['mode'] === 'PAN') {\n",
       "        fig.buttons['Pan'].classList.add('active');\n",
       "        fig.buttons['Zoom'].classList.remove('active');\n",
       "    } else if (msg['mode'] === 'ZOOM') {\n",
       "        fig.buttons['Pan'].classList.remove('active');\n",
       "        fig.buttons['Zoom'].classList.add('active');\n",
       "    } else {\n",
       "        fig.buttons['Pan'].classList.remove('active');\n",
       "        fig.buttons['Zoom'].classList.remove('active');\n",
       "    }\n",
       "};\n",
       "\n",
       "mpl.figure.prototype.updated_canvas_event = function () {\n",
       "    // Called whenever the canvas gets updated.\n",
       "    this.send_message('ack', {});\n",
       "};\n",
       "\n",
       "// A function to construct a web socket function for onmessage handling.\n",
       "// Called in the figure constructor.\n",
       "mpl.figure.prototype._make_on_message_function = function (fig) {\n",
       "    return function socket_on_message(evt) {\n",
       "        if (evt.data instanceof Blob) {\n",
       "            var img = evt.data;\n",
       "            if (img.type !== 'image/png') {\n",
       "                /* FIXME: We get \"Resource interpreted as Image but\n",
       "                 * transferred with MIME type text/plain:\" errors on\n",
       "                 * Chrome.  But how to set the MIME type?  It doesn't seem\n",
       "                 * to be part of the websocket stream */\n",
       "                img.type = 'image/png';\n",
       "            }\n",
       "\n",
       "            /* Free the memory for the previous frames */\n",
       "            if (fig.imageObj.src) {\n",
       "                (window.URL || window.webkitURL).revokeObjectURL(\n",
       "                    fig.imageObj.src\n",
       "                );\n",
       "            }\n",
       "\n",
       "            fig.imageObj.src = (window.URL || window.webkitURL).createObjectURL(\n",
       "                img\n",
       "            );\n",
       "            fig.updated_canvas_event();\n",
       "            fig.waiting = false;\n",
       "            return;\n",
       "        } else if (\n",
       "            typeof evt.data === 'string' &&\n",
       "            evt.data.slice(0, 21) === 'data:image/png;base64'\n",
       "        ) {\n",
       "            fig.imageObj.src = evt.data;\n",
       "            fig.updated_canvas_event();\n",
       "            fig.waiting = false;\n",
       "            return;\n",
       "        }\n",
       "\n",
       "        var msg = JSON.parse(evt.data);\n",
       "        var msg_type = msg['type'];\n",
       "\n",
       "        // Call the  \"handle_{type}\" callback, which takes\n",
       "        // the figure and JSON message as its only arguments.\n",
       "        try {\n",
       "            var callback = fig['handle_' + msg_type];\n",
       "        } catch (e) {\n",
       "            console.log(\n",
       "                \"No handler for the '\" + msg_type + \"' message type: \",\n",
       "                msg\n",
       "            );\n",
       "            return;\n",
       "        }\n",
       "\n",
       "        if (callback) {\n",
       "            try {\n",
       "                // console.log(\"Handling '\" + msg_type + \"' message: \", msg);\n",
       "                callback(fig, msg);\n",
       "            } catch (e) {\n",
       "                console.log(\n",
       "                    \"Exception inside the 'handler_\" + msg_type + \"' callback:\",\n",
       "                    e,\n",
       "                    e.stack,\n",
       "                    msg\n",
       "                );\n",
       "            }\n",
       "        }\n",
       "    };\n",
       "};\n",
       "\n",
       "// from https://stackoverflow.com/questions/1114465/getting-mouse-location-in-canvas\n",
       "mpl.findpos = function (e) {\n",
       "    //this section is from http://www.quirksmode.org/js/events_properties.html\n",
       "    var targ;\n",
       "    if (!e) {\n",
       "        e = window.event;\n",
       "    }\n",
       "    if (e.target) {\n",
       "        targ = e.target;\n",
       "    } else if (e.srcElement) {\n",
       "        targ = e.srcElement;\n",
       "    }\n",
       "    if (targ.nodeType === 3) {\n",
       "        // defeat Safari bug\n",
       "        targ = targ.parentNode;\n",
       "    }\n",
       "\n",
       "    // pageX,Y are the mouse positions relative to the document\n",
       "    var boundingRect = targ.getBoundingClientRect();\n",
       "    var x = e.pageX - (boundingRect.left + document.body.scrollLeft);\n",
       "    var y = e.pageY - (boundingRect.top + document.body.scrollTop);\n",
       "\n",
       "    return { x: x, y: y };\n",
       "};\n",
       "\n",
       "/*\n",
       " * return a copy of an object with only non-object keys\n",
       " * we need this to avoid circular references\n",
       " * https://stackoverflow.com/a/24161582/3208463\n",
       " */\n",
       "function simpleKeys(original) {\n",
       "    return Object.keys(original).reduce(function (obj, key) {\n",
       "        if (typeof original[key] !== 'object') {\n",
       "            obj[key] = original[key];\n",
       "        }\n",
       "        return obj;\n",
       "    }, {});\n",
       "}\n",
       "\n",
       "mpl.figure.prototype.mouse_event = function (event, name) {\n",
       "    var canvas_pos = mpl.findpos(event);\n",
       "\n",
       "    if (name === 'button_press') {\n",
       "        this.canvas.focus();\n",
       "        this.canvas_div.focus();\n",
       "    }\n",
       "\n",
       "    var x = canvas_pos.x * this.ratio;\n",
       "    var y = canvas_pos.y * this.ratio;\n",
       "\n",
       "    this.send_message(name, {\n",
       "        x: x,\n",
       "        y: y,\n",
       "        button: event.button,\n",
       "        step: event.step,\n",
       "        guiEvent: simpleKeys(event),\n",
       "    });\n",
       "\n",
       "    /* This prevents the web browser from automatically changing to\n",
       "     * the text insertion cursor when the button is pressed.  We want\n",
       "     * to control all of the cursor setting manually through the\n",
       "     * 'cursor' event from matplotlib */\n",
       "    event.preventDefault();\n",
       "    return false;\n",
       "};\n",
       "\n",
       "mpl.figure.prototype._key_event_extra = function (_event, _name) {\n",
       "    // Handle any extra behaviour associated with a key event\n",
       "};\n",
       "\n",
       "mpl.figure.prototype.key_event = function (event, name) {\n",
       "    // Prevent repeat events\n",
       "    if (name === 'key_press') {\n",
       "        if (event.key === this._key) {\n",
       "            return;\n",
       "        } else {\n",
       "            this._key = event.key;\n",
       "        }\n",
       "    }\n",
       "    if (name === 'key_release') {\n",
       "        this._key = null;\n",
       "    }\n",
       "\n",
       "    var value = '';\n",
       "    if (event.ctrlKey && event.key !== 'Control') {\n",
       "        value += 'ctrl+';\n",
       "    }\n",
       "    else if (event.altKey && event.key !== 'Alt') {\n",
       "        value += 'alt+';\n",
       "    }\n",
       "    else if (event.shiftKey && event.key !== 'Shift') {\n",
       "        value += 'shift+';\n",
       "    }\n",
       "\n",
       "    value += 'k' + event.key;\n",
       "\n",
       "    this._key_event_extra(event, name);\n",
       "\n",
       "    this.send_message(name, { key: value, guiEvent: simpleKeys(event) });\n",
       "    return false;\n",
       "};\n",
       "\n",
       "mpl.figure.prototype.toolbar_button_onclick = function (name) {\n",
       "    if (name === 'download') {\n",
       "        this.handle_save(this, null);\n",
       "    } else {\n",
       "        this.send_message('toolbar_button', { name: name });\n",
       "    }\n",
       "};\n",
       "\n",
       "mpl.figure.prototype.toolbar_button_onmouseover = function (tooltip) {\n",
       "    this.message.textContent = tooltip;\n",
       "};\n",
       "\n",
       "///////////////// REMAINING CONTENT GENERATED BY embed_js.py /////////////////\n",
       "// prettier-ignore\n",
       "var _JSXTOOLS_RESIZE_OBSERVER=function(A){var t,i=new WeakMap,n=new WeakMap,a=new WeakMap,r=new WeakMap,o=new Set;function s(e){if(!(this instanceof s))throw new TypeError(\"Constructor requires 'new' operator\");i.set(this,e)}function h(){throw new TypeError(\"Function is not a constructor\")}function c(e,t,i,n){e=0 in arguments?Number(arguments[0]):0,t=1 in arguments?Number(arguments[1]):0,i=2 in arguments?Number(arguments[2]):0,n=3 in arguments?Number(arguments[3]):0,this.right=(this.x=this.left=e)+(this.width=i),this.bottom=(this.y=this.top=t)+(this.height=n),Object.freeze(this)}function d(){t=requestAnimationFrame(d);var s=new WeakMap,p=new Set;o.forEach((function(t){r.get(t).forEach((function(i){var r=t instanceof window.SVGElement,o=a.get(t),d=r?0:parseFloat(o.paddingTop),f=r?0:parseFloat(o.paddingRight),l=r?0:parseFloat(o.paddingBottom),u=r?0:parseFloat(o.paddingLeft),g=r?0:parseFloat(o.borderTopWidth),m=r?0:parseFloat(o.borderRightWidth),w=r?0:parseFloat(o.borderBottomWidth),b=u+f,F=d+l,v=(r?0:parseFloat(o.borderLeftWidth))+m,W=g+w,y=r?0:t.offsetHeight-W-t.clientHeight,E=r?0:t.offsetWidth-v-t.clientWidth,R=b+v,z=F+W,M=r?t.width:parseFloat(o.width)-R-E,O=r?t.height:parseFloat(o.height)-z-y;if(n.has(t)){var k=n.get(t);if(k[0]===M&&k[1]===O)return}n.set(t,[M,O]);var S=Object.create(h.prototype);S.target=t,S.contentRect=new c(u,d,M,O),s.has(i)||(s.set(i,[]),p.add(i)),s.get(i).push(S)}))})),p.forEach((function(e){i.get(e).call(e,s.get(e),e)}))}return s.prototype.observe=function(i){if(i instanceof window.Element){r.has(i)||(r.set(i,new Set),o.add(i),a.set(i,window.getComputedStyle(i)));var n=r.get(i);n.has(this)||n.add(this),cancelAnimationFrame(t),t=requestAnimationFrame(d)}},s.prototype.unobserve=function(i){if(i instanceof window.Element&&r.has(i)){var n=r.get(i);n.has(this)&&(n.delete(this),n.size||(r.delete(i),o.delete(i))),n.size||r.delete(i),o.size||cancelAnimationFrame(t)}},A.DOMRectReadOnly=c,A.ResizeObserver=s,A.ResizeObserverEntry=h,A}; // eslint-disable-line\n",
       "mpl.toolbar_items = [[\"Home\", \"Reset original view\", \"fa fa-home\", \"home\"], [\"Back\", \"Back to previous view\", \"fa fa-arrow-left\", \"back\"], [\"Forward\", \"Forward to next view\", \"fa fa-arrow-right\", \"forward\"], [\"\", \"\", \"\", \"\"], [\"Pan\", \"Left button pans, Right button zooms\\nx/y fixes axis, CTRL fixes aspect\", \"fa fa-arrows\", \"pan\"], [\"Zoom\", \"Zoom to rectangle\\nx/y fixes axis\", \"fa fa-square-o\", \"zoom\"], [\"\", \"\", \"\", \"\"], [\"Download\", \"Download plot\", \"fa fa-floppy-o\", \"download\"]];\n",
       "\n",
       "mpl.extensions = [\"eps\", \"jpeg\", \"pgf\", \"pdf\", \"png\", \"ps\", \"raw\", \"svg\", \"tif\", \"webp\"];\n",
       "\n",
       "mpl.default_extension = \"png\";/* global mpl */\n",
       "\n",
       "var comm_websocket_adapter = function (comm) {\n",
       "    // Create a \"websocket\"-like object which calls the given IPython comm\n",
       "    // object with the appropriate methods. Currently this is a non binary\n",
       "    // socket, so there is still some room for performance tuning.\n",
       "    var ws = {};\n",
       "\n",
       "    ws.binaryType = comm.kernel.ws.binaryType;\n",
       "    ws.readyState = comm.kernel.ws.readyState;\n",
       "    function updateReadyState(_event) {\n",
       "        if (comm.kernel.ws) {\n",
       "            ws.readyState = comm.kernel.ws.readyState;\n",
       "        } else {\n",
       "            ws.readyState = 3; // Closed state.\n",
       "        }\n",
       "    }\n",
       "    comm.kernel.ws.addEventListener('open', updateReadyState);\n",
       "    comm.kernel.ws.addEventListener('close', updateReadyState);\n",
       "    comm.kernel.ws.addEventListener('error', updateReadyState);\n",
       "\n",
       "    ws.close = function () {\n",
       "        comm.close();\n",
       "    };\n",
       "    ws.send = function (m) {\n",
       "        //console.log('sending', m);\n",
       "        comm.send(m);\n",
       "    };\n",
       "    // Register the callback with on_msg.\n",
       "    comm.on_msg(function (msg) {\n",
       "        //console.log('receiving', msg['content']['data'], msg);\n",
       "        var data = msg['content']['data'];\n",
       "        if (data['blob'] !== undefined) {\n",
       "            data = {\n",
       "                data: new Blob(msg['buffers'], { type: data['blob'] }),\n",
       "            };\n",
       "        }\n",
       "        // Pass the mpl event to the overridden (by mpl) onmessage function.\n",
       "        ws.onmessage(data);\n",
       "    });\n",
       "    return ws;\n",
       "};\n",
       "\n",
       "mpl.mpl_figure_comm = function (comm, msg) {\n",
       "    // This is the function which gets called when the mpl process\n",
       "    // starts-up an IPython Comm through the \"matplotlib\" channel.\n",
       "\n",
       "    var id = msg.content.data.id;\n",
       "    // Get hold of the div created by the display call when the Comm\n",
       "    // socket was opened in Python.\n",
       "    var element = document.getElementById(id);\n",
       "    var ws_proxy = comm_websocket_adapter(comm);\n",
       "\n",
       "    function ondownload(figure, _format) {\n",
       "        window.open(figure.canvas.toDataURL());\n",
       "    }\n",
       "\n",
       "    var fig = new mpl.figure(id, ws_proxy, ondownload, element);\n",
       "\n",
       "    // Call onopen now - mpl needs it, as it is assuming we've passed it a real\n",
       "    // web socket which is closed, not our websocket->open comm proxy.\n",
       "    ws_proxy.onopen();\n",
       "\n",
       "    fig.parent_element = element;\n",
       "    fig.cell_info = mpl.find_output_cell(\"<div id='\" + id + \"'></div>\");\n",
       "    if (!fig.cell_info) {\n",
       "        console.error('Failed to find cell for figure', id, fig);\n",
       "        return;\n",
       "    }\n",
       "    fig.cell_info[0].output_area.element.on(\n",
       "        'cleared',\n",
       "        { fig: fig },\n",
       "        fig._remove_fig_handler\n",
       "    );\n",
       "};\n",
       "\n",
       "mpl.figure.prototype.handle_close = function (fig, msg) {\n",
       "    var width = fig.canvas.width / fig.ratio;\n",
       "    fig.cell_info[0].output_area.element.off(\n",
       "        'cleared',\n",
       "        fig._remove_fig_handler\n",
       "    );\n",
       "    fig.resizeObserverInstance.unobserve(fig.canvas_div);\n",
       "\n",
       "    // Update the output cell to use the data from the current canvas.\n",
       "    fig.push_to_output();\n",
       "    var dataURL = fig.canvas.toDataURL();\n",
       "    // Re-enable the keyboard manager in IPython - without this line, in FF,\n",
       "    // the notebook keyboard shortcuts fail.\n",
       "    IPython.keyboard_manager.enable();\n",
       "    fig.parent_element.innerHTML =\n",
       "        '<img src=\"' + dataURL + '\" width=\"' + width + '\">';\n",
       "    fig.close_ws(fig, msg);\n",
       "};\n",
       "\n",
       "mpl.figure.prototype.close_ws = function (fig, msg) {\n",
       "    fig.send_message('closing', msg);\n",
       "    // fig.ws.close()\n",
       "};\n",
       "\n",
       "mpl.figure.prototype.push_to_output = function (_remove_interactive) {\n",
       "    // Turn the data on the canvas into data in the output cell.\n",
       "    var width = this.canvas.width / this.ratio;\n",
       "    var dataURL = this.canvas.toDataURL();\n",
       "    this.cell_info[1]['text/html'] =\n",
       "        '<img src=\"' + dataURL + '\" width=\"' + width + '\">';\n",
       "};\n",
       "\n",
       "mpl.figure.prototype.updated_canvas_event = function () {\n",
       "    // Tell IPython that the notebook contents must change.\n",
       "    IPython.notebook.set_dirty(true);\n",
       "    this.send_message('ack', {});\n",
       "    var fig = this;\n",
       "    // Wait a second, then push the new image to the DOM so\n",
       "    // that it is saved nicely (might be nice to debounce this).\n",
       "    setTimeout(function () {\n",
       "        fig.push_to_output();\n",
       "    }, 1000);\n",
       "};\n",
       "\n",
       "mpl.figure.prototype._init_toolbar = function () {\n",
       "    var fig = this;\n",
       "\n",
       "    var toolbar = document.createElement('div');\n",
       "    toolbar.classList = 'btn-toolbar';\n",
       "    this.root.appendChild(toolbar);\n",
       "\n",
       "    function on_click_closure(name) {\n",
       "        return function (_event) {\n",
       "            return fig.toolbar_button_onclick(name);\n",
       "        };\n",
       "    }\n",
       "\n",
       "    function on_mouseover_closure(tooltip) {\n",
       "        return function (event) {\n",
       "            if (!event.currentTarget.disabled) {\n",
       "                return fig.toolbar_button_onmouseover(tooltip);\n",
       "            }\n",
       "        };\n",
       "    }\n",
       "\n",
       "    fig.buttons = {};\n",
       "    var buttonGroup = document.createElement('div');\n",
       "    buttonGroup.classList = 'btn-group';\n",
       "    var button;\n",
       "    for (var toolbar_ind in mpl.toolbar_items) {\n",
       "        var name = mpl.toolbar_items[toolbar_ind][0];\n",
       "        var tooltip = mpl.toolbar_items[toolbar_ind][1];\n",
       "        var image = mpl.toolbar_items[toolbar_ind][2];\n",
       "        var method_name = mpl.toolbar_items[toolbar_ind][3];\n",
       "\n",
       "        if (!name) {\n",
       "            /* Instead of a spacer, we start a new button group. */\n",
       "            if (buttonGroup.hasChildNodes()) {\n",
       "                toolbar.appendChild(buttonGroup);\n",
       "            }\n",
       "            buttonGroup = document.createElement('div');\n",
       "            buttonGroup.classList = 'btn-group';\n",
       "            continue;\n",
       "        }\n",
       "\n",
       "        button = fig.buttons[name] = document.createElement('button');\n",
       "        button.classList = 'btn btn-default';\n",
       "        button.href = '#';\n",
       "        button.title = name;\n",
       "        button.innerHTML = '<i class=\"fa ' + image + ' fa-lg\"></i>';\n",
       "        button.addEventListener('click', on_click_closure(method_name));\n",
       "        button.addEventListener('mouseover', on_mouseover_closure(tooltip));\n",
       "        buttonGroup.appendChild(button);\n",
       "    }\n",
       "\n",
       "    if (buttonGroup.hasChildNodes()) {\n",
       "        toolbar.appendChild(buttonGroup);\n",
       "    }\n",
       "\n",
       "    // Add the status bar.\n",
       "    var status_bar = document.createElement('span');\n",
       "    status_bar.classList = 'mpl-message pull-right';\n",
       "    toolbar.appendChild(status_bar);\n",
       "    this.message = status_bar;\n",
       "\n",
       "    // Add the close button to the window.\n",
       "    var buttongrp = document.createElement('div');\n",
       "    buttongrp.classList = 'btn-group inline pull-right';\n",
       "    button = document.createElement('button');\n",
       "    button.classList = 'btn btn-mini btn-primary';\n",
       "    button.href = '#';\n",
       "    button.title = 'Stop Interaction';\n",
       "    button.innerHTML = '<i class=\"fa fa-power-off icon-remove icon-large\"></i>';\n",
       "    button.addEventListener('click', function (_evt) {\n",
       "        fig.handle_close(fig, {});\n",
       "    });\n",
       "    button.addEventListener(\n",
       "        'mouseover',\n",
       "        on_mouseover_closure('Stop Interaction')\n",
       "    );\n",
       "    buttongrp.appendChild(button);\n",
       "    var titlebar = this.root.querySelector('.ui-dialog-titlebar');\n",
       "    titlebar.insertBefore(buttongrp, titlebar.firstChild);\n",
       "};\n",
       "\n",
       "mpl.figure.prototype._remove_fig_handler = function (event) {\n",
       "    var fig = event.data.fig;\n",
       "    if (event.target !== this) {\n",
       "        // Ignore bubbled events from children.\n",
       "        return;\n",
       "    }\n",
       "    fig.close_ws(fig, {});\n",
       "};\n",
       "\n",
       "mpl.figure.prototype._root_extra_style = function (el) {\n",
       "    el.style.boxSizing = 'content-box'; // override notebook setting of border-box.\n",
       "};\n",
       "\n",
       "mpl.figure.prototype._canvas_extra_style = function (el) {\n",
       "    // this is important to make the div 'focusable\n",
       "    el.setAttribute('tabindex', 0);\n",
       "    // reach out to IPython and tell the keyboard manager to turn it's self\n",
       "    // off when our div gets focus\n",
       "\n",
       "    // location in version 3\n",
       "    if (IPython.notebook.keyboard_manager) {\n",
       "        IPython.notebook.keyboard_manager.register_events(el);\n",
       "    } else {\n",
       "        // location in version 2\n",
       "        IPython.keyboard_manager.register_events(el);\n",
       "    }\n",
       "};\n",
       "\n",
       "mpl.figure.prototype._key_event_extra = function (event, _name) {\n",
       "    // Check for shift+enter\n",
       "    if (event.shiftKey && event.which === 13) {\n",
       "        this.canvas_div.blur();\n",
       "        // select the cell after this one\n",
       "        var index = IPython.notebook.find_cell_index(this.cell_info[0]);\n",
       "        IPython.notebook.select(index + 1);\n",
       "    }\n",
       "};\n",
       "\n",
       "mpl.figure.prototype.handle_save = function (fig, _msg) {\n",
       "    fig.ondownload(fig, null);\n",
       "};\n",
       "\n",
       "mpl.find_output_cell = function (html_output) {\n",
       "    // Return the cell and output element which can be found *uniquely* in the notebook.\n",
       "    // Note - this is a bit hacky, but it is done because the \"notebook_saving.Notebook\"\n",
       "    // IPython event is triggered only after the cells have been serialised, which for\n",
       "    // our purposes (turning an active figure into a static one), is too late.\n",
       "    var cells = IPython.notebook.get_cells();\n",
       "    var ncells = cells.length;\n",
       "    for (var i = 0; i < ncells; i++) {\n",
       "        var cell = cells[i];\n",
       "        if (cell.cell_type === 'code') {\n",
       "            for (var j = 0; j < cell.output_area.outputs.length; j++) {\n",
       "                var data = cell.output_area.outputs[j];\n",
       "                if (data.data) {\n",
       "                    // IPython >= 3 moved mimebundle to data attribute of output\n",
       "                    data = data.data;\n",
       "                }\n",
       "                if (data['text/html'] === html_output) {\n",
       "                    return [cell, data, j];\n",
       "                }\n",
       "            }\n",
       "        }\n",
       "    }\n",
       "};\n",
       "\n",
       "// Register the function which deals with the matplotlib target/channel.\n",
       "// The kernel may be null if the page has been refreshed.\n",
       "if (IPython.notebook.kernel !== null) {\n",
       "    IPython.notebook.kernel.comm_manager.register_target(\n",
       "        'matplotlib',\n",
       "        mpl.mpl_figure_comm\n",
       "    );\n",
       "}\n"
      ],
      "text/plain": [
       "<IPython.core.display.Javascript object>"
      ]
     },
     "metadata": {},
     "output_type": "display_data"
    },
    {
     "data": {
      "text/html": [
       "<img src=\"data:image/png;base64,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\" width=\"960\">"
      ],
      "text/plain": [
       "<IPython.core.display.HTML object>"
      ]
     },
     "metadata": {},
     "output_type": "display_data"
    },
    {
     "data": {
      "text/plain": [
       "Text(0, 0.5, '$u$')"
      ]
     },
     "execution_count": 48,
     "metadata": {},
     "output_type": "execute_result"
    }
   ],
   "source": [
    "%matplotlib notebook\n",
    "\n",
    "# prepare figure for online tracking of optimization progress\n",
    "fig, ax = plt.subplots(ncols=2)\n",
    "ax[0].set_xlabel(\"training steps\")\n",
    "ax[0].set_ylabel(\"MSE\")\n",
    "ax[1].set_xlabel(\"training steps\")\n",
    "ax[1].set_ylabel(r\"$u$\")"
   ]
  },
  {
   "cell_type": "code",
   "execution_count": 49,
   "id": "5fe7ce41",
   "metadata": {
    "slideshow": {
     "slide_type": "fragment"
    }
   },
   "outputs": [
    {
     "ename": "KeyboardInterrupt",
     "evalue": "",
     "output_type": "error",
     "traceback": [
      "\u001B[0;31m---------------------------------------------------------------------------\u001B[0m",
      "\u001B[0;31mKeyboardInterrupt\u001B[0m                         Traceback (most recent call last)",
      "Cell \u001B[0;32mIn [49], line 29\u001B[0m\n\u001B[1;32m     27\u001B[0m ax[\u001B[38;5;241m1\u001B[39m]\u001B[38;5;241m.\u001B[39mplot(prediction_col, \u001B[38;5;124m\"\u001B[39m\u001B[38;5;124morange\u001B[39m\u001B[38;5;124m\"\u001B[39m)\n\u001B[1;32m     28\u001B[0m plt\u001B[38;5;241m.\u001B[39mlegend([\u001B[38;5;124mrf\u001B[39m\u001B[38;5;124m\"\u001B[39m\u001B[38;5;124m$u_\u001B[39m\u001B[38;5;132;01m{\u001B[39;00mtarget_neuron\u001B[38;5;132;01m}\u001B[39;00m\u001B[38;5;124m$ (target)\u001B[39m\u001B[38;5;124m\"\u001B[39m, \u001B[38;5;124mrf\u001B[39m\u001B[38;5;124m\"\u001B[39m\u001B[38;5;124m$u_\u001B[39m\u001B[38;5;132;01m{\u001B[39;00mtarget_neuron\u001B[38;5;132;01m}\u001B[39;00m\u001B[38;5;124m$ (learner)\u001B[39m\u001B[38;5;124m\"\u001B[39m])\n\u001B[0;32m---> 29\u001B[0m \u001B[43mfig\u001B[49m\u001B[38;5;241;43m.\u001B[39;49m\u001B[43mcanvas\u001B[49m\u001B[38;5;241;43m.\u001B[39;49m\u001B[43mdraw\u001B[49m\u001B[43m(\u001B[49m\u001B[43m)\u001B[49m\n\u001B[1;32m     30\u001B[0m fig\u001B[38;5;241m.\u001B[39mcanvas\u001B[38;5;241m.\u001B[39mflush_events()\n",
      "File \u001B[0;32m~/anaconda3/envs/ds/lib/python3.10/site-packages/matplotlib-3.6.0-py3.10-linux-x86_64.egg/matplotlib/backends/backend_webagg_core.py:191\u001B[0m, in \u001B[0;36mFigureCanvasWebAggCore.draw\u001B[0;34m(self)\u001B[0m\n\u001B[1;32m    189\u001B[0m \u001B[38;5;28mself\u001B[39m\u001B[38;5;241m.\u001B[39m_png_is_old \u001B[38;5;241m=\u001B[39m \u001B[38;5;28;01mTrue\u001B[39;00m\n\u001B[1;32m    190\u001B[0m \u001B[38;5;28;01mtry\u001B[39;00m:\n\u001B[0;32m--> 191\u001B[0m     \u001B[38;5;28;43msuper\u001B[39;49m\u001B[43m(\u001B[49m\u001B[43m)\u001B[49m\u001B[38;5;241;43m.\u001B[39;49m\u001B[43mdraw\u001B[49m\u001B[43m(\u001B[49m\u001B[43m)\u001B[49m\n\u001B[1;32m    192\u001B[0m \u001B[38;5;28;01mfinally\u001B[39;00m:\n\u001B[1;32m    193\u001B[0m     \u001B[38;5;28mself\u001B[39m\u001B[38;5;241m.\u001B[39mmanager\u001B[38;5;241m.\u001B[39mrefresh_all()\n",
      "File \u001B[0;32m~/anaconda3/envs/ds/lib/python3.10/site-packages/matplotlib-3.6.0-py3.10-linux-x86_64.egg/matplotlib/backends/backend_agg.py:408\u001B[0m, in \u001B[0;36mFigureCanvasAgg.draw\u001B[0;34m(self)\u001B[0m\n\u001B[1;32m    404\u001B[0m \u001B[38;5;66;03m# Acquire a lock on the shared font cache.\u001B[39;00m\n\u001B[1;32m    405\u001B[0m \u001B[38;5;28;01mwith\u001B[39;00m RendererAgg\u001B[38;5;241m.\u001B[39mlock, \\\n\u001B[1;32m    406\u001B[0m      (\u001B[38;5;28mself\u001B[39m\u001B[38;5;241m.\u001B[39mtoolbar\u001B[38;5;241m.\u001B[39m_wait_cursor_for_draw_cm() \u001B[38;5;28;01mif\u001B[39;00m \u001B[38;5;28mself\u001B[39m\u001B[38;5;241m.\u001B[39mtoolbar\n\u001B[1;32m    407\u001B[0m       \u001B[38;5;28;01melse\u001B[39;00m nullcontext()):\n\u001B[0;32m--> 408\u001B[0m     \u001B[38;5;28;43mself\u001B[39;49m\u001B[38;5;241;43m.\u001B[39;49m\u001B[43mfigure\u001B[49m\u001B[38;5;241;43m.\u001B[39;49m\u001B[43mdraw\u001B[49m\u001B[43m(\u001B[49m\u001B[38;5;28;43mself\u001B[39;49m\u001B[38;5;241;43m.\u001B[39;49m\u001B[43mrenderer\u001B[49m\u001B[43m)\u001B[49m\n\u001B[1;32m    409\u001B[0m     \u001B[38;5;66;03m# A GUI class may be need to update a window using this draw, so\u001B[39;00m\n\u001B[1;32m    410\u001B[0m     \u001B[38;5;66;03m# don't forget to call the superclass.\u001B[39;00m\n\u001B[1;32m    411\u001B[0m     \u001B[38;5;28msuper\u001B[39m()\u001B[38;5;241m.\u001B[39mdraw()\n",
      "File \u001B[0;32m~/anaconda3/envs/ds/lib/python3.10/site-packages/matplotlib-3.6.0-py3.10-linux-x86_64.egg/matplotlib/artist.py:74\u001B[0m, in \u001B[0;36m_finalize_rasterization.<locals>.draw_wrapper\u001B[0;34m(artist, renderer, *args, **kwargs)\u001B[0m\n\u001B[1;32m     72\u001B[0m \u001B[38;5;129m@wraps\u001B[39m(draw)\n\u001B[1;32m     73\u001B[0m \u001B[38;5;28;01mdef\u001B[39;00m \u001B[38;5;21mdraw_wrapper\u001B[39m(artist, renderer, \u001B[38;5;241m*\u001B[39margs, \u001B[38;5;241m*\u001B[39m\u001B[38;5;241m*\u001B[39mkwargs):\n\u001B[0;32m---> 74\u001B[0m     result \u001B[38;5;241m=\u001B[39m \u001B[43mdraw\u001B[49m\u001B[43m(\u001B[49m\u001B[43martist\u001B[49m\u001B[43m,\u001B[49m\u001B[43m \u001B[49m\u001B[43mrenderer\u001B[49m\u001B[43m,\u001B[49m\u001B[43m \u001B[49m\u001B[38;5;241;43m*\u001B[39;49m\u001B[43margs\u001B[49m\u001B[43m,\u001B[49m\u001B[43m \u001B[49m\u001B[38;5;241;43m*\u001B[39;49m\u001B[38;5;241;43m*\u001B[39;49m\u001B[43mkwargs\u001B[49m\u001B[43m)\u001B[49m\n\u001B[1;32m     75\u001B[0m     \u001B[38;5;28;01mif\u001B[39;00m renderer\u001B[38;5;241m.\u001B[39m_rasterizing:\n\u001B[1;32m     76\u001B[0m         renderer\u001B[38;5;241m.\u001B[39mstop_rasterizing()\n",
      "File \u001B[0;32m~/anaconda3/envs/ds/lib/python3.10/site-packages/matplotlib-3.6.0-py3.10-linux-x86_64.egg/matplotlib/artist.py:51\u001B[0m, in \u001B[0;36mallow_rasterization.<locals>.draw_wrapper\u001B[0;34m(artist, renderer)\u001B[0m\n\u001B[1;32m     48\u001B[0m     \u001B[38;5;28;01mif\u001B[39;00m artist\u001B[38;5;241m.\u001B[39mget_agg_filter() \u001B[38;5;129;01mis\u001B[39;00m \u001B[38;5;129;01mnot\u001B[39;00m \u001B[38;5;28;01mNone\u001B[39;00m:\n\u001B[1;32m     49\u001B[0m         renderer\u001B[38;5;241m.\u001B[39mstart_filter()\n\u001B[0;32m---> 51\u001B[0m     \u001B[38;5;28;01mreturn\u001B[39;00m \u001B[43mdraw\u001B[49m\u001B[43m(\u001B[49m\u001B[43martist\u001B[49m\u001B[43m,\u001B[49m\u001B[43m \u001B[49m\u001B[43mrenderer\u001B[49m\u001B[43m)\u001B[49m\n\u001B[1;32m     52\u001B[0m \u001B[38;5;28;01mfinally\u001B[39;00m:\n\u001B[1;32m     53\u001B[0m     \u001B[38;5;28;01mif\u001B[39;00m artist\u001B[38;5;241m.\u001B[39mget_agg_filter() \u001B[38;5;129;01mis\u001B[39;00m \u001B[38;5;129;01mnot\u001B[39;00m \u001B[38;5;28;01mNone\u001B[39;00m:\n",
      "File \u001B[0;32m~/anaconda3/envs/ds/lib/python3.10/site-packages/matplotlib-3.6.0-py3.10-linux-x86_64.egg/matplotlib/figure.py:3069\u001B[0m, in \u001B[0;36mFigure.draw\u001B[0;34m(self, renderer)\u001B[0m\n\u001B[1;32m   3066\u001B[0m         \u001B[38;5;66;03m# ValueError can occur when resizing a window.\u001B[39;00m\n\u001B[1;32m   3068\u001B[0m \u001B[38;5;28mself\u001B[39m\u001B[38;5;241m.\u001B[39mpatch\u001B[38;5;241m.\u001B[39mdraw(renderer)\n\u001B[0;32m-> 3069\u001B[0m \u001B[43mmimage\u001B[49m\u001B[38;5;241;43m.\u001B[39;49m\u001B[43m_draw_list_compositing_images\u001B[49m\u001B[43m(\u001B[49m\n\u001B[1;32m   3070\u001B[0m \u001B[43m    \u001B[49m\u001B[43mrenderer\u001B[49m\u001B[43m,\u001B[49m\u001B[43m \u001B[49m\u001B[38;5;28;43mself\u001B[39;49m\u001B[43m,\u001B[49m\u001B[43m \u001B[49m\u001B[43martists\u001B[49m\u001B[43m,\u001B[49m\u001B[43m \u001B[49m\u001B[38;5;28;43mself\u001B[39;49m\u001B[38;5;241;43m.\u001B[39;49m\u001B[43msuppressComposite\u001B[49m\u001B[43m)\u001B[49m\n\u001B[1;32m   3072\u001B[0m \u001B[38;5;28;01mfor\u001B[39;00m sfig \u001B[38;5;129;01min\u001B[39;00m \u001B[38;5;28mself\u001B[39m\u001B[38;5;241m.\u001B[39msubfigs:\n\u001B[1;32m   3073\u001B[0m     sfig\u001B[38;5;241m.\u001B[39mdraw(renderer)\n",
      "File \u001B[0;32m~/anaconda3/envs/ds/lib/python3.10/site-packages/matplotlib-3.6.0-py3.10-linux-x86_64.egg/matplotlib/image.py:131\u001B[0m, in \u001B[0;36m_draw_list_compositing_images\u001B[0;34m(renderer, parent, artists, suppress_composite)\u001B[0m\n\u001B[1;32m    129\u001B[0m \u001B[38;5;28;01mif\u001B[39;00m not_composite \u001B[38;5;129;01mor\u001B[39;00m \u001B[38;5;129;01mnot\u001B[39;00m has_images:\n\u001B[1;32m    130\u001B[0m     \u001B[38;5;28;01mfor\u001B[39;00m a \u001B[38;5;129;01min\u001B[39;00m artists:\n\u001B[0;32m--> 131\u001B[0m         \u001B[43ma\u001B[49m\u001B[38;5;241;43m.\u001B[39;49m\u001B[43mdraw\u001B[49m\u001B[43m(\u001B[49m\u001B[43mrenderer\u001B[49m\u001B[43m)\u001B[49m\n\u001B[1;32m    132\u001B[0m \u001B[38;5;28;01melse\u001B[39;00m:\n\u001B[1;32m    133\u001B[0m     \u001B[38;5;66;03m# Composite any adjacent images together\u001B[39;00m\n\u001B[1;32m    134\u001B[0m     image_group \u001B[38;5;241m=\u001B[39m []\n",
      "File \u001B[0;32m~/anaconda3/envs/ds/lib/python3.10/site-packages/matplotlib-3.6.0-py3.10-linux-x86_64.egg/matplotlib/artist.py:51\u001B[0m, in \u001B[0;36mallow_rasterization.<locals>.draw_wrapper\u001B[0;34m(artist, renderer)\u001B[0m\n\u001B[1;32m     48\u001B[0m     \u001B[38;5;28;01mif\u001B[39;00m artist\u001B[38;5;241m.\u001B[39mget_agg_filter() \u001B[38;5;129;01mis\u001B[39;00m \u001B[38;5;129;01mnot\u001B[39;00m \u001B[38;5;28;01mNone\u001B[39;00m:\n\u001B[1;32m     49\u001B[0m         renderer\u001B[38;5;241m.\u001B[39mstart_filter()\n\u001B[0;32m---> 51\u001B[0m     \u001B[38;5;28;01mreturn\u001B[39;00m \u001B[43mdraw\u001B[49m\u001B[43m(\u001B[49m\u001B[43martist\u001B[49m\u001B[43m,\u001B[49m\u001B[43m \u001B[49m\u001B[43mrenderer\u001B[49m\u001B[43m)\u001B[49m\n\u001B[1;32m     52\u001B[0m \u001B[38;5;28;01mfinally\u001B[39;00m:\n\u001B[1;32m     53\u001B[0m     \u001B[38;5;28;01mif\u001B[39;00m artist\u001B[38;5;241m.\u001B[39mget_agg_filter() \u001B[38;5;129;01mis\u001B[39;00m \u001B[38;5;129;01mnot\u001B[39;00m \u001B[38;5;28;01mNone\u001B[39;00m:\n",
      "File \u001B[0;32m~/anaconda3/envs/ds/lib/python3.10/site-packages/matplotlib-3.6.0-py3.10-linux-x86_64.egg/matplotlib/axes/_base.py:3106\u001B[0m, in \u001B[0;36m_AxesBase.draw\u001B[0;34m(self, renderer)\u001B[0m\n\u001B[1;32m   3103\u001B[0m         a\u001B[38;5;241m.\u001B[39mdraw(renderer)\n\u001B[1;32m   3104\u001B[0m     renderer\u001B[38;5;241m.\u001B[39mstop_rasterizing()\n\u001B[0;32m-> 3106\u001B[0m \u001B[43mmimage\u001B[49m\u001B[38;5;241;43m.\u001B[39;49m\u001B[43m_draw_list_compositing_images\u001B[49m\u001B[43m(\u001B[49m\n\u001B[1;32m   3107\u001B[0m \u001B[43m    \u001B[49m\u001B[43mrenderer\u001B[49m\u001B[43m,\u001B[49m\u001B[43m \u001B[49m\u001B[38;5;28;43mself\u001B[39;49m\u001B[43m,\u001B[49m\u001B[43m \u001B[49m\u001B[43martists\u001B[49m\u001B[43m,\u001B[49m\u001B[43m \u001B[49m\u001B[38;5;28;43mself\u001B[39;49m\u001B[38;5;241;43m.\u001B[39;49m\u001B[43mfigure\u001B[49m\u001B[38;5;241;43m.\u001B[39;49m\u001B[43msuppressComposite\u001B[49m\u001B[43m)\u001B[49m\n\u001B[1;32m   3109\u001B[0m renderer\u001B[38;5;241m.\u001B[39mclose_group(\u001B[38;5;124m'\u001B[39m\u001B[38;5;124maxes\u001B[39m\u001B[38;5;124m'\u001B[39m)\n\u001B[1;32m   3110\u001B[0m \u001B[38;5;28mself\u001B[39m\u001B[38;5;241m.\u001B[39mstale \u001B[38;5;241m=\u001B[39m \u001B[38;5;28;01mFalse\u001B[39;00m\n",
      "File \u001B[0;32m~/anaconda3/envs/ds/lib/python3.10/site-packages/matplotlib-3.6.0-py3.10-linux-x86_64.egg/matplotlib/image.py:131\u001B[0m, in \u001B[0;36m_draw_list_compositing_images\u001B[0;34m(renderer, parent, artists, suppress_composite)\u001B[0m\n\u001B[1;32m    129\u001B[0m \u001B[38;5;28;01mif\u001B[39;00m not_composite \u001B[38;5;129;01mor\u001B[39;00m \u001B[38;5;129;01mnot\u001B[39;00m has_images:\n\u001B[1;32m    130\u001B[0m     \u001B[38;5;28;01mfor\u001B[39;00m a \u001B[38;5;129;01min\u001B[39;00m artists:\n\u001B[0;32m--> 131\u001B[0m         \u001B[43ma\u001B[49m\u001B[38;5;241;43m.\u001B[39;49m\u001B[43mdraw\u001B[49m\u001B[43m(\u001B[49m\u001B[43mrenderer\u001B[49m\u001B[43m)\u001B[49m\n\u001B[1;32m    132\u001B[0m \u001B[38;5;28;01melse\u001B[39;00m:\n\u001B[1;32m    133\u001B[0m     \u001B[38;5;66;03m# Composite any adjacent images together\u001B[39;00m\n\u001B[1;32m    134\u001B[0m     image_group \u001B[38;5;241m=\u001B[39m []\n",
      "File \u001B[0;32m~/anaconda3/envs/ds/lib/python3.10/site-packages/matplotlib-3.6.0-py3.10-linux-x86_64.egg/matplotlib/artist.py:51\u001B[0m, in \u001B[0;36mallow_rasterization.<locals>.draw_wrapper\u001B[0;34m(artist, renderer)\u001B[0m\n\u001B[1;32m     48\u001B[0m     \u001B[38;5;28;01mif\u001B[39;00m artist\u001B[38;5;241m.\u001B[39mget_agg_filter() \u001B[38;5;129;01mis\u001B[39;00m \u001B[38;5;129;01mnot\u001B[39;00m \u001B[38;5;28;01mNone\u001B[39;00m:\n\u001B[1;32m     49\u001B[0m         renderer\u001B[38;5;241m.\u001B[39mstart_filter()\n\u001B[0;32m---> 51\u001B[0m     \u001B[38;5;28;01mreturn\u001B[39;00m \u001B[43mdraw\u001B[49m\u001B[43m(\u001B[49m\u001B[43martist\u001B[49m\u001B[43m,\u001B[49m\u001B[43m \u001B[49m\u001B[43mrenderer\u001B[49m\u001B[43m)\u001B[49m\n\u001B[1;32m     52\u001B[0m \u001B[38;5;28;01mfinally\u001B[39;00m:\n\u001B[1;32m     53\u001B[0m     \u001B[38;5;28;01mif\u001B[39;00m artist\u001B[38;5;241m.\u001B[39mget_agg_filter() \u001B[38;5;129;01mis\u001B[39;00m \u001B[38;5;129;01mnot\u001B[39;00m \u001B[38;5;28;01mNone\u001B[39;00m:\n",
      "File \u001B[0;32m~/anaconda3/envs/ds/lib/python3.10/site-packages/matplotlib-3.6.0-py3.10-linux-x86_64.egg/matplotlib/legend.py:641\u001B[0m, in \u001B[0;36mLegend.draw\u001B[0;34m(self, renderer)\u001B[0m\n\u001B[1;32m    637\u001B[0m     \u001B[38;5;28mself\u001B[39m\u001B[38;5;241m.\u001B[39m_legend_box\u001B[38;5;241m.\u001B[39mset_width(\u001B[38;5;28mself\u001B[39m\u001B[38;5;241m.\u001B[39mget_bbox_to_anchor()\u001B[38;5;241m.\u001B[39mwidth \u001B[38;5;241m-\u001B[39m pad)\n\u001B[1;32m    639\u001B[0m \u001B[38;5;66;03m# update the location and size of the legend. This needs to\u001B[39;00m\n\u001B[1;32m    640\u001B[0m \u001B[38;5;66;03m# be done in any case to clip the figure right.\u001B[39;00m\n\u001B[0;32m--> 641\u001B[0m bbox \u001B[38;5;241m=\u001B[39m \u001B[38;5;28;43mself\u001B[39;49m\u001B[38;5;241;43m.\u001B[39;49m\u001B[43m_legend_box\u001B[49m\u001B[38;5;241;43m.\u001B[39;49m\u001B[43mget_window_extent\u001B[49m\u001B[43m(\u001B[49m\u001B[43mrenderer\u001B[49m\u001B[43m)\u001B[49m\n\u001B[1;32m    642\u001B[0m \u001B[38;5;28mself\u001B[39m\u001B[38;5;241m.\u001B[39mlegendPatch\u001B[38;5;241m.\u001B[39mset_bounds(bbox\u001B[38;5;241m.\u001B[39mbounds)\n\u001B[1;32m    643\u001B[0m \u001B[38;5;28mself\u001B[39m\u001B[38;5;241m.\u001B[39mlegendPatch\u001B[38;5;241m.\u001B[39mset_mutation_scale(fontsize)\n",
      "File \u001B[0;32m~/anaconda3/envs/ds/lib/python3.10/site-packages/matplotlib-3.6.0-py3.10-linux-x86_64.egg/matplotlib/offsetbox.py:354\u001B[0m, in \u001B[0;36mOffsetBox.get_window_extent\u001B[0;34m(self, renderer)\u001B[0m\n\u001B[1;32m    352\u001B[0m     renderer \u001B[38;5;241m=\u001B[39m \u001B[38;5;28mself\u001B[39m\u001B[38;5;241m.\u001B[39mfigure\u001B[38;5;241m.\u001B[39m_get_renderer()\n\u001B[1;32m    353\u001B[0m w, h, xd, yd, offsets \u001B[38;5;241m=\u001B[39m \u001B[38;5;28mself\u001B[39m\u001B[38;5;241m.\u001B[39mget_extent_offsets(renderer)\n\u001B[0;32m--> 354\u001B[0m px, py \u001B[38;5;241m=\u001B[39m \u001B[38;5;28;43mself\u001B[39;49m\u001B[38;5;241;43m.\u001B[39;49m\u001B[43mget_offset\u001B[49m\u001B[43m(\u001B[49m\u001B[43mw\u001B[49m\u001B[43m,\u001B[49m\u001B[43m \u001B[49m\u001B[43mh\u001B[49m\u001B[43m,\u001B[49m\u001B[43m \u001B[49m\u001B[43mxd\u001B[49m\u001B[43m,\u001B[49m\u001B[43m \u001B[49m\u001B[43myd\u001B[49m\u001B[43m,\u001B[49m\u001B[43m \u001B[49m\u001B[43mrenderer\u001B[49m\u001B[43m)\u001B[49m\n\u001B[1;32m    355\u001B[0m \u001B[38;5;28;01mreturn\u001B[39;00m mtransforms\u001B[38;5;241m.\u001B[39mBbox\u001B[38;5;241m.\u001B[39mfrom_bounds(px \u001B[38;5;241m-\u001B[39m xd, py \u001B[38;5;241m-\u001B[39m yd, w, h)\n",
      "File \u001B[0;32m~/anaconda3/envs/ds/lib/python3.10/site-packages/matplotlib-3.6.0-py3.10-linux-x86_64.egg/matplotlib/offsetbox.py:291\u001B[0m, in \u001B[0;36mOffsetBox.get_offset\u001B[0;34m(self, width, height, xdescent, ydescent, renderer)\u001B[0m\n\u001B[1;32m    276\u001B[0m \u001B[38;5;28;01mdef\u001B[39;00m \u001B[38;5;21mget_offset\u001B[39m(\u001B[38;5;28mself\u001B[39m, width, height, xdescent, ydescent, renderer):\n\u001B[1;32m    277\u001B[0m     \u001B[38;5;124;03m\"\"\"\u001B[39;00m\n\u001B[1;32m    278\u001B[0m \u001B[38;5;124;03m    Return the offset as a tuple (x, y).\u001B[39;00m\n\u001B[1;32m    279\u001B[0m \n\u001B[0;32m   (...)\u001B[0m\n\u001B[1;32m    289\u001B[0m \n\u001B[1;32m    290\u001B[0m \u001B[38;5;124;03m    \"\"\"\u001B[39;00m\n\u001B[0;32m--> 291\u001B[0m     \u001B[38;5;28;01mreturn\u001B[39;00m (\u001B[38;5;28;43mself\u001B[39;49m\u001B[38;5;241;43m.\u001B[39;49m\u001B[43m_offset\u001B[49m\u001B[43m(\u001B[49m\u001B[43mwidth\u001B[49m\u001B[43m,\u001B[49m\u001B[43m \u001B[49m\u001B[43mheight\u001B[49m\u001B[43m,\u001B[49m\u001B[43m \u001B[49m\u001B[43mxdescent\u001B[49m\u001B[43m,\u001B[49m\u001B[43m \u001B[49m\u001B[43mydescent\u001B[49m\u001B[43m,\u001B[49m\u001B[43m \u001B[49m\u001B[43mrenderer\u001B[49m\u001B[43m)\u001B[49m\n\u001B[1;32m    292\u001B[0m             \u001B[38;5;28;01mif\u001B[39;00m callable(\u001B[38;5;28mself\u001B[39m\u001B[38;5;241m.\u001B[39m_offset)\n\u001B[1;32m    293\u001B[0m             \u001B[38;5;28;01melse\u001B[39;00m \u001B[38;5;28mself\u001B[39m\u001B[38;5;241m.\u001B[39m_offset)\n",
      "File \u001B[0;32m~/anaconda3/envs/ds/lib/python3.10/site-packages/matplotlib-3.6.0-py3.10-linux-x86_64.egg/matplotlib/legend.py:610\u001B[0m, in \u001B[0;36mLegend._findoffset\u001B[0;34m(self, width, height, xdescent, ydescent, renderer)\u001B[0m\n\u001B[1;32m    607\u001B[0m \u001B[38;5;124;03m\"\"\"Helper function to locate the legend.\"\"\"\u001B[39;00m\n\u001B[1;32m    609\u001B[0m \u001B[38;5;28;01mif\u001B[39;00m \u001B[38;5;28mself\u001B[39m\u001B[38;5;241m.\u001B[39m_loc \u001B[38;5;241m==\u001B[39m \u001B[38;5;241m0\u001B[39m:  \u001B[38;5;66;03m# \"best\".\u001B[39;00m\n\u001B[0;32m--> 610\u001B[0m     x, y \u001B[38;5;241m=\u001B[39m \u001B[38;5;28;43mself\u001B[39;49m\u001B[38;5;241;43m.\u001B[39;49m\u001B[43m_find_best_position\u001B[49m\u001B[43m(\u001B[49m\u001B[43mwidth\u001B[49m\u001B[43m,\u001B[49m\u001B[43m \u001B[49m\u001B[43mheight\u001B[49m\u001B[43m,\u001B[49m\u001B[43m \u001B[49m\u001B[43mrenderer\u001B[49m\u001B[43m)\u001B[49m\n\u001B[1;32m    611\u001B[0m \u001B[38;5;28;01melif\u001B[39;00m \u001B[38;5;28mself\u001B[39m\u001B[38;5;241m.\u001B[39m_loc \u001B[38;5;129;01min\u001B[39;00m Legend\u001B[38;5;241m.\u001B[39mcodes\u001B[38;5;241m.\u001B[39mvalues():  \u001B[38;5;66;03m# Fixed location.\u001B[39;00m\n\u001B[1;32m    612\u001B[0m     bbox \u001B[38;5;241m=\u001B[39m Bbox\u001B[38;5;241m.\u001B[39mfrom_bounds(\u001B[38;5;241m0\u001B[39m, \u001B[38;5;241m0\u001B[39m, width, height)\n",
      "File \u001B[0;32m~/anaconda3/envs/ds/lib/python3.10/site-packages/matplotlib-3.6.0-py3.10-linux-x86_64.egg/matplotlib/legend.py:1057\u001B[0m, in \u001B[0;36mLegend._find_best_position\u001B[0;34m(self, width, height, renderer, consider)\u001B[0m\n\u001B[1;32m   1050\u001B[0m badness \u001B[38;5;241m=\u001B[39m \u001B[38;5;241m0\u001B[39m\n\u001B[1;32m   1051\u001B[0m \u001B[38;5;66;03m# XXX TODO: If markers are present, it would be good to take them\u001B[39;00m\n\u001B[1;32m   1052\u001B[0m \u001B[38;5;66;03m# into account when checking vertex overlaps in the next line.\u001B[39;00m\n\u001B[1;32m   1053\u001B[0m badness \u001B[38;5;241m=\u001B[39m (\u001B[38;5;28msum\u001B[39m(legendBox\u001B[38;5;241m.\u001B[39mcount_contains(line\u001B[38;5;241m.\u001B[39mvertices)\n\u001B[1;32m   1054\u001B[0m                \u001B[38;5;28;01mfor\u001B[39;00m line \u001B[38;5;129;01min\u001B[39;00m lines)\n\u001B[1;32m   1055\u001B[0m            \u001B[38;5;241m+\u001B[39m legendBox\u001B[38;5;241m.\u001B[39mcount_contains(offsets)\n\u001B[1;32m   1056\u001B[0m            \u001B[38;5;241m+\u001B[39m legendBox\u001B[38;5;241m.\u001B[39mcount_overlaps(bboxes)\n\u001B[0;32m-> 1057\u001B[0m            \u001B[38;5;241m+\u001B[39m \u001B[38;5;28;43msum\u001B[39;49m\u001B[43m(\u001B[49m\u001B[43mline\u001B[49m\u001B[38;5;241;43m.\u001B[39;49m\u001B[43mintersects_bbox\u001B[49m\u001B[43m(\u001B[49m\u001B[43mlegendBox\u001B[49m\u001B[43m,\u001B[49m\u001B[43m \u001B[49m\u001B[43mfilled\u001B[49m\u001B[38;5;241;43m=\u001B[39;49m\u001B[38;5;28;43;01mFalse\u001B[39;49;00m\u001B[43m)\u001B[49m\n\u001B[1;32m   1058\u001B[0m \u001B[43m                 \u001B[49m\u001B[38;5;28;43;01mfor\u001B[39;49;00m\u001B[43m \u001B[49m\u001B[43mline\u001B[49m\u001B[43m \u001B[49m\u001B[38;5;129;43;01min\u001B[39;49;00m\u001B[43m \u001B[49m\u001B[43mlines\u001B[49m\u001B[43m)\u001B[49m)\n\u001B[1;32m   1059\u001B[0m \u001B[38;5;28;01mif\u001B[39;00m badness \u001B[38;5;241m==\u001B[39m \u001B[38;5;241m0\u001B[39m:\n\u001B[1;32m   1060\u001B[0m     \u001B[38;5;28;01mreturn\u001B[39;00m l, b\n",
      "File \u001B[0;32m~/anaconda3/envs/ds/lib/python3.10/site-packages/matplotlib-3.6.0-py3.10-linux-x86_64.egg/matplotlib/legend.py:1057\u001B[0m, in \u001B[0;36m<genexpr>\u001B[0;34m(.0)\u001B[0m\n\u001B[1;32m   1050\u001B[0m badness \u001B[38;5;241m=\u001B[39m \u001B[38;5;241m0\u001B[39m\n\u001B[1;32m   1051\u001B[0m \u001B[38;5;66;03m# XXX TODO: If markers are present, it would be good to take them\u001B[39;00m\n\u001B[1;32m   1052\u001B[0m \u001B[38;5;66;03m# into account when checking vertex overlaps in the next line.\u001B[39;00m\n\u001B[1;32m   1053\u001B[0m badness \u001B[38;5;241m=\u001B[39m (\u001B[38;5;28msum\u001B[39m(legendBox\u001B[38;5;241m.\u001B[39mcount_contains(line\u001B[38;5;241m.\u001B[39mvertices)\n\u001B[1;32m   1054\u001B[0m                \u001B[38;5;28;01mfor\u001B[39;00m line \u001B[38;5;129;01min\u001B[39;00m lines)\n\u001B[1;32m   1055\u001B[0m            \u001B[38;5;241m+\u001B[39m legendBox\u001B[38;5;241m.\u001B[39mcount_contains(offsets)\n\u001B[1;32m   1056\u001B[0m            \u001B[38;5;241m+\u001B[39m legendBox\u001B[38;5;241m.\u001B[39mcount_overlaps(bboxes)\n\u001B[0;32m-> 1057\u001B[0m            \u001B[38;5;241m+\u001B[39m \u001B[38;5;28msum\u001B[39m(\u001B[43mline\u001B[49m\u001B[38;5;241;43m.\u001B[39;49m\u001B[43mintersects_bbox\u001B[49m\u001B[43m(\u001B[49m\u001B[43mlegendBox\u001B[49m\u001B[43m,\u001B[49m\u001B[43m \u001B[49m\u001B[43mfilled\u001B[49m\u001B[38;5;241;43m=\u001B[39;49m\u001B[38;5;28;43;01mFalse\u001B[39;49;00m\u001B[43m)\u001B[49m\n\u001B[1;32m   1058\u001B[0m                  \u001B[38;5;28;01mfor\u001B[39;00m line \u001B[38;5;129;01min\u001B[39;00m lines))\n\u001B[1;32m   1059\u001B[0m \u001B[38;5;28;01mif\u001B[39;00m badness \u001B[38;5;241m==\u001B[39m \u001B[38;5;241m0\u001B[39m:\n\u001B[1;32m   1060\u001B[0m     \u001B[38;5;28;01mreturn\u001B[39;00m l, b\n",
      "File \u001B[0;32m~/anaconda3/envs/ds/lib/python3.10/site-packages/matplotlib-3.6.0-py3.10-linux-x86_64.egg/matplotlib/path.py:663\u001B[0m, in \u001B[0;36mPath.intersects_bbox\u001B[0;34m(self, bbox, filled)\u001B[0m\n\u001B[1;32m    654\u001B[0m \u001B[38;5;28;01mdef\u001B[39;00m \u001B[38;5;21mintersects_bbox\u001B[39m(\u001B[38;5;28mself\u001B[39m, bbox, filled\u001B[38;5;241m=\u001B[39m\u001B[38;5;28;01mTrue\u001B[39;00m):\n\u001B[1;32m    655\u001B[0m     \u001B[38;5;124;03m\"\"\"\u001B[39;00m\n\u001B[1;32m    656\u001B[0m \u001B[38;5;124;03m    Return whether this path intersects a given `~.transforms.Bbox`.\u001B[39;00m\n\u001B[1;32m    657\u001B[0m \n\u001B[0;32m   (...)\u001B[0m\n\u001B[1;32m    661\u001B[0m \u001B[38;5;124;03m    The bounding box is always considered filled.\u001B[39;00m\n\u001B[1;32m    662\u001B[0m \u001B[38;5;124;03m    \"\"\"\u001B[39;00m\n\u001B[0;32m--> 663\u001B[0m     \u001B[38;5;28;01mreturn\u001B[39;00m \u001B[43m_path\u001B[49m\u001B[38;5;241;43m.\u001B[39;49m\u001B[43mpath_intersects_rectangle\u001B[49m\u001B[43m(\u001B[49m\n\u001B[1;32m    664\u001B[0m \u001B[43m        \u001B[49m\u001B[38;5;28;43mself\u001B[39;49m\u001B[43m,\u001B[49m\u001B[43m \u001B[49m\u001B[43mbbox\u001B[49m\u001B[38;5;241;43m.\u001B[39;49m\u001B[43mx0\u001B[49m\u001B[43m,\u001B[49m\u001B[43m \u001B[49m\u001B[43mbbox\u001B[49m\u001B[38;5;241;43m.\u001B[39;49m\u001B[43my0\u001B[49m\u001B[43m,\u001B[49m\u001B[43m \u001B[49m\u001B[43mbbox\u001B[49m\u001B[38;5;241;43m.\u001B[39;49m\u001B[43mx1\u001B[49m\u001B[43m,\u001B[49m\u001B[43m \u001B[49m\u001B[43mbbox\u001B[49m\u001B[38;5;241;43m.\u001B[39;49m\u001B[43my1\u001B[49m\u001B[43m,\u001B[49m\u001B[43m \u001B[49m\u001B[43mfilled\u001B[49m\u001B[43m)\u001B[49m\n",
      "\u001B[0;31mKeyboardInterrupt\u001B[0m: "
     ]
    }
   ],
   "source": [
    "# perform optimization\n",
    "mse_col, target_col, prediction_col = [], [], []\n",
    "error, tol = 1.0, 1e-4\n",
    "while error > tol:\n",
    "    \n",
    "    # calculate forwards\n",
    "    I_ext = np.sin(np.pi*step*dt)*0.5\n",
    "    target = tnet.forward(I_ext)\n",
    "    prediction = lnet.forward(I_ext)\n",
    "    step += 1\n",
    "    \n",
    "    # calculate loss and make optimization step\n",
    "    l = loss(target, prediction)\n",
    "    l.backward(retain_graph=True)\n",
    "    if step % update_steps == 0:\n",
    "        opt.step()\n",
    "        opt.zero_grad()\n",
    "    error = 0.9*error + 0.1*l.item()\n",
    "    \n",
    "    # plotting\n",
    "    mse_col.append(error)\n",
    "    target_col.append(target.detach().numpy()[target_neuron])\n",
    "    prediction_col.append(prediction.detach().numpy()[target_neuron])\n",
    "    if step % plot_steps == 0:\n",
    "        ax[0].plot(mse_col, \"red\")\n",
    "        ax[1].plot(target_col, \"blue\")\n",
    "        ax[1].plot(prediction_col, \"orange\")\n",
    "        plt.legend([rf\"$u_{target_neuron}$ (target)\", rf\"$u_{target_neuron}$ (learner)\"])\n",
    "        fig.canvas.draw()\n",
    "        fig.canvas.flush_events()"
   ]
  },
  {
   "cell_type": "code",
   "execution_count": null,
   "id": "073fe4d8",
   "metadata": {
    "slideshow": {
     "slide_type": "fragment"
    }
   },
   "outputs": [],
   "source": [
    "# collect optimized parameters\n",
    "params = list(lnet.parameters())\n",
    "k = params[0].clone().detach().numpy()\n",
    "tau = params[1].clone().detach().numpy()\n",
    "\n",
    "# display optimization result\n",
    "print(\"Target parameters: \" + r\"$k_t$ = \" + f\"{k_t}\" + r\", $\\tau_t$ = \" + f\"{tau_t}.\")\n",
    "print(\"Starting parameters: \" + r\"$k_0$ = \" + f\"{k_0}\" + r\", $\\tau_0$ = \" + f\"{tau_0}.\")\n",
    "print(\"Optimized parameters: \" + r\"$k_*$ = \" + f\"{k[0]}\" + r\", $\\tau_*$ = \" + f\"{tau[0]}.\")"
   ]
  },
  {
   "cell_type": "markdown",
   "id": "806b4747",
   "metadata": {
    "slideshow": {
     "slide_type": "slide"
    }
   },
   "source": [
    "## Summary"
   ]
  },
  {
   "cell_type": "markdown",
   "id": "d76556a8",
   "metadata": {
    "slideshow": {
     "slide_type": "fragment"
    }
   },
   "source": [
    "- [PyRates](https://github.com/pyrates-neuroscience/PyRates) is a model definition and code generation tool for differential equation-based dynamical systems"
   ]
  },
  {
   "cell_type": "markdown",
   "id": "88a50289",
   "metadata": {
    "slideshow": {
     "slide_type": "fragment"
    }
   },
   "source": [
    "- makes model definitions re-usable and sharable"
   ]
  },
  {
   "cell_type": "markdown",
   "id": "89478c3c",
   "metadata": {
    "slideshow": {
     "slide_type": "fragment"
    }
   },
   "source": [
    "- generates vector-field evaluation functions for tons of backends"
   ]
  },
  {
   "cell_type": "markdown",
   "id": "e97f7033",
   "metadata": {
    "slideshow": {
     "slide_type": "fragment"
    }
   },
   "source": [
    "- allows to perform pretty much any numerical dynamical systems analysis method out there, using the best tools availabe"
   ]
  },
  {
   "cell_type": "markdown",
   "id": "ad8686d9",
   "metadata": {
    "slideshow": {
     "slide_type": "fragment"
    }
   },
   "source": [
    "- [RectiPy](https://github.com/pyrates-neuroscience/RectiPy) is a RNN simulation and optimization tool built on top of *PyRates* and *PyTorch* that allows to fit RNNs (rate-units or spiking units) to data "
   ]
  }
 ],
 "metadata": {
  "celltoolbar": "Slideshow",
  "kernelspec": {
   "display_name": "Python 3 (ipykernel)",
   "language": "python",
   "name": "python3"
  },
  "language_info": {
   "codemirror_mode": {
    "name": "ipython",
    "version": 3
   },
   "file_extension": ".py",
   "mimetype": "text/x-python",
   "name": "python",
   "nbconvert_exporter": "python",
   "pygments_lexer": "ipython3",
   "version": "3.10.9"
  },
  "rise": {
   "theme": "dark"
  }
 },
 "nbformat": 4,
 "nbformat_minor": 5
}